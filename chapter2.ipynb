{
 "nbformat": 4,
 "nbformat_minor": 2,
 "metadata": {
  "language_info": {
   "name": "python",
   "codemirror_mode": {
    "name": "ipython",
    "version": 3
   },
   "version": "3.6.4-final"
  },
  "orig_nbformat": 2,
  "file_extension": ".py",
  "mimetype": "text/x-python",
  "name": "python",
  "npconvert_exporter": "python",
  "pygments_lexer": "ipython3",
  "version": 3,
  "kernelspec": {
   "name": "python36464bitbaseconda1d0c2e3be8214c02b0fb731b7870def2",
   "display_name": "Python 3.6.4 64-bit ('base': conda)"
  }
 },
 "cells": [
  {
   "cell_type": "markdown",
   "metadata": {},
   "source": [
    "# 言語処理100本ノック 2020 第２章\n",
    "\n",
    "Reference: https://nlp100.github.io/ja/ch02.html"
   ]
  },
  {
   "cell_type": "markdown",
   "metadata": {},
   "source": [
    "## 10. 行数のカウント\n",
    "行数をカウントせよ．確認にはwcコマンドを用いよ"
   ]
  },
  {
   "cell_type": "code",
   "execution_count": 2,
   "metadata": {},
   "outputs": [
    {
     "output_type": "stream",
     "name": "stdout",
     "text": "2780 popular-names.txt\n"
    }
   ],
   "source": [
    "!wc -l popular-names.txt"
   ]
  },
  {
   "cell_type": "markdown",
   "metadata": {},
   "source": [
    "## 11. タブをスペースに置換\n",
    "タブ1文字につきスペース1文字に置換せよ．確認にはsedコマンド，trコマンド，もしくはexpandコマンドを用いよ．"
   ]
  },
  {
   "cell_type": "code",
   "execution_count": 17,
   "metadata": {
    "tags": [
     "outputPrepend"
    ]
   },
   "outputs": [
    {
     "output_type": "stream",
     "name": "stdout",
     "text": "Mary F 7065 1880\nAnna F 2604 1880\nEmma F 2003 1880\nElizabeth F 1939 1880\nMinnie F 1746 1880\nMargaret F 1578 1880\nIda F 1472 1880\nAlice F 1414 1880\nBertha F 1320 1880\nSarah F 1288 1880\n"
    }
   ],
   "source": [
    "!expand -t 1 popular-names.txt | head"
   ]
  },
  {
   "cell_type": "markdown",
   "metadata": {},
   "source": [
    "## 12. 1列目をcol1.txtに，2列目をcol2.txtに保存\n",
    "\n",
    "各行の1列目だけを抜き出したものをcol1.txtに，2列目だけを抜き出したものをcol2.txtとしてファイルに保存せよ．確認にはcutコマンドを用いよ．"
   ]
  },
  {
   "cell_type": "code",
   "execution_count": 24,
   "metadata": {
    "tags": [
     "outputPrepend"
    ]
   },
   "outputs": [],
   "source": [
    "!cat popular-names.txt | awk '{print($1)}' > col1.txt\n",
    "!cat popular-names.txt | awk '{print($2)}' > col2.txt"
   ]
  },
  {
   "cell_type": "markdown",
   "metadata": {},
   "source": [
    "## 13. col1.txtとcol2.txtをマージ\n",
    "\n",
    "12で作ったcol1.txtとcol2.txtを結合し，元のファイルの1列目と2列目をタブ区切りで並べたテキストファイルを作成せよ．確認にはpasteコマンドを用いよ．"
   ]
  },
  {
   "cell_type": "code",
   "execution_count": 25,
   "metadata": {},
   "outputs": [
    {
     "output_type": "stream",
     "name": "stdout",
     "text": "Mary\tF\nAnna\tF\nEmma\tF\nElizabeth\tF\nMinnie\tF\nMargaret\tF\nIda\tF\nAlice\tF\nBertha\tF\nSarah\tF\n"
    }
   ],
   "source": [
    "!paste col1.txt col2.txt | head"
   ]
  },
  {
   "cell_type": "markdown",
   "metadata": {},
   "source": [
    "## 14. 先頭からN行を出力\n",
    "\n",
    "自然数Nをコマンドライン引数などの手段で受け取り，入力のうち先頭のN行だけを表示せよ．確認にはheadコマンドを用いよ"
   ]
  },
  {
   "cell_type": "code",
   "execution_count": 29,
   "metadata": {},
   "outputs": [
    {
     "output_type": "stream",
     "name": "stdout",
     "text": "Mary\tF\t7065\t1880\nAnna\tF\t2604\t1880\nEmma\tF\t2003\t1880\nElizabeth\tF\t1939\t1880\nMinnie\tF\t1746\t1880\n"
    }
   ],
   "source": [
    "n = 5\n",
    "with open(\"popular-names.txt\") as fi:\n",
    "    for i, j in enumerate(fi):\n",
    "        if i >= n: break\n",
    "        print(j.strip(\"\\n\"))"
   ]
  },
  {
   "cell_type": "code",
   "execution_count": 28,
   "metadata": {},
   "outputs": [
    {
     "output_type": "stream",
     "name": "stdout",
     "text": "Mary\tF\t7065\t1880\nAnna\tF\t2604\t1880\nEmma\tF\t2003\t1880\nElizabeth\tF\t1939\t1880\nMinnie\tF\t1746\t1880\n"
    }
   ],
   "source": [
    "!head -n 5 popular-names.txt"
   ]
  },
  {
   "cell_type": "markdown",
   "metadata": {},
   "source": [
    "## 15. 末尾のN行を出力Permalink\n",
    "\n",
    "自然数Nをコマンドライン引数などの手段で受け取り，入力のうち末尾のN行だけを表示せよ．確認にはtailコマンドを用いよ．"
   ]
  },
  {
   "cell_type": "code",
   "execution_count": 34,
   "metadata": {},
   "outputs": [
    {
     "output_type": "stream",
     "name": "stdout",
     "text": "Benjamin\tM\t13381\t2018\nElijah\tM\t12886\t2018\nLucas\tM\t12585\t2018\nMason\tM\t12435\t2018\nLogan\tM\t12352\t2018\n\n"
    }
   ],
   "source": [
    "n = 5\n",
    "with open(\"popular-names.txt\") as fi:\n",
    "    lines = fi.readlines()\n",
    "    tail = lines[(len(lines)-n):]\n",
    "    print(\"\".join(tail))"
   ]
  },
  {
   "cell_type": "code",
   "execution_count": 31,
   "metadata": {},
   "outputs": [
    {
     "output_type": "stream",
     "name": "stdout",
     "text": "Benjamin\tM\t13381\t2018\nElijah\tM\t12886\t2018\nLucas\tM\t12585\t2018\nMason\tM\t12435\t2018\nLogan\tM\t12352\t2018\n"
    }
   ],
   "source": [
    "!tail -n 5 popular-names.txt"
   ]
  },
  {
   "cell_type": "markdown",
   "metadata": {},
   "source": [
    "## 16. ファイルをN分割する\n",
    "\n",
    "自然数Nをコマンドライン引数などの手段で受け取り，入力のファイルを行単位でN分割せよ．同様の処理をsplitコマンドで実現せよ．"
   ]
  },
  {
   "cell_type": "code",
   "execution_count": null,
   "metadata": {},
   "outputs": [],
   "source": [
    "n = 3\n",
    "with open(\"popular-names.txt\") as fi:\n",
    "    lines = fi.readlines()\n",
    "    n_line = len(lines) // n\n",
    "    for i in range(n):\n",
    "        fo = open(\"split{}.txt\".format(i), \"w\")\n",
    "        fo.write(\"\".join(lines[(i*n_line):(i+1*n_line)]))\n",
    "        fo.close()"
   ]
  },
  {
   "cell_type": "markdown",
   "metadata": {},
   "source": [
    "## 17. １列目の文字列の異なり\n",
    "\n",
    "1列目の文字列の種類（異なる文字列の集合）を求めよ．確認にはcut, sort, uniqコマンドを用いよ"
   ]
  },
  {
   "cell_type": "code",
   "execution_count": 38,
   "metadata": {},
   "outputs": [
    {
     "output_type": "execute_result",
     "data": {
      "text/plain": "{'Abigail',\n 'Aiden',\n 'Alexander',\n 'Alexis',\n 'Alice',\n 'Amanda',\n 'Amelia',\n 'Amy',\n 'Andrew',\n 'Angela',\n 'Anna',\n 'Annie',\n 'Anthony',\n 'Ashley',\n 'Austin',\n 'Ava',\n 'Barbara',\n 'Benjamin',\n 'Bertha',\n 'Bessie',\n 'Betty',\n 'Brandon',\n 'Brian',\n 'Brittany',\n 'Carol',\n 'Carolyn',\n 'Charles',\n 'Charlotte',\n 'Chloe',\n 'Christopher',\n 'Clara',\n 'Crystal',\n 'Cynthia',\n 'Daniel',\n 'David',\n 'Deborah',\n 'Debra',\n 'Donald',\n 'Donna',\n 'Doris',\n 'Dorothy',\n 'Edward',\n 'Elijah',\n 'Elizabeth',\n 'Emily',\n 'Emma',\n 'Ethan',\n 'Ethel',\n 'Evelyn',\n 'Florence',\n 'Frances',\n 'Frank',\n 'Gary',\n 'George',\n 'Hannah',\n 'Harper',\n 'Harry',\n 'Heather',\n 'Helen',\n 'Henry',\n 'Ida',\n 'Isabella',\n 'Jacob',\n 'James',\n 'Jason',\n 'Jayden',\n 'Jeffrey',\n 'Jennifer',\n 'Jessica',\n 'Joan',\n 'John',\n 'Joseph',\n 'Joshua',\n 'Judith',\n 'Julie',\n 'Justin',\n 'Karen',\n 'Kathleen',\n 'Kelly',\n 'Kimberly',\n 'Larry',\n 'Laura',\n 'Lauren',\n 'Liam',\n 'Lillian',\n 'Linda',\n 'Lisa',\n 'Logan',\n 'Lori',\n 'Lucas',\n 'Madison',\n 'Margaret',\n 'Marie',\n 'Mark',\n 'Mary',\n 'Mason',\n 'Matthew',\n 'Megan',\n 'Melissa',\n 'Mia',\n 'Michael',\n 'Michelle',\n 'Mildred',\n 'Minnie',\n 'Nancy',\n 'Nicholas',\n 'Nicole',\n 'Noah',\n 'Oliver',\n 'Olivia',\n 'Pamela',\n 'Patricia',\n 'Rachel',\n 'Rebecca',\n 'Richard',\n 'Robert',\n 'Ronald',\n 'Ruth',\n 'Samantha',\n 'Sandra',\n 'Sarah',\n 'Scott',\n 'Sharon',\n 'Shirley',\n 'Sophia',\n 'Stephanie',\n 'Steven',\n 'Susan',\n 'Tammy',\n 'Taylor',\n 'Thomas',\n 'Tracy',\n 'Tyler',\n 'Virginia',\n 'Walter',\n 'William'}"
     },
     "metadata": {},
     "execution_count": 38
    }
   ],
   "source": [
    "with open(\"popular-names.txt\") as fi:\n",
    "    results = [l.split(\"\\t\")[0] for i, l in enumerate(fi)]\n",
    "set(results)"
   ]
  },
  {
   "cell_type": "markdown",
   "metadata": {},
   "source": [
    "## 18. 各行を3コラム目の数値の降順にソート\n",
    "\n",
    "各行を3コラム目の数値の逆順で整列せよ（注意: 各行の内容は変更せずに並び替えよ）．確認にはsortコマンドを用いよ（この問題はコマンドで実行した時の結果と合わなくてもよい）"
   ]
  },
  {
   "cell_type": "code",
   "execution_count": 49,
   "metadata": {},
   "outputs": [
    {
     "output_type": "stream",
     "name": "stdout",
     "text": "Sarah\tF\t1288\t1880\nAlice\tF\t1308\t1881\nBertha\tF\t1320\t1880\nBertha\tF\t1324\t1881\nAnnie\tF\t1326\t1881\n\n"
    }
   ],
   "source": [
    "with open(\"popular-names.txt\") as fi:\n",
    "    lines = fi.readlines()\n",
    "    n = [float(l.split(\"\\t\")[2]) for l in lines]\n",
    "    results = [lines[i] for i in np.argsort(n)]\n",
    "print(\"\".join(results[:5]))"
   ]
  },
  {
   "cell_type": "code",
   "execution_count": 62,
   "metadata": {},
   "outputs": [
    {
     "output_type": "stream",
     "name": "stdout",
     "text": "Sarah\tF\t1288\t1880\nAlice\tF\t1308\t1881\nBertha\tF\t1320\t1880\nBertha\tF\t1324\t1881\nAnnie\tF\t1326\t1881\n"
    }
   ],
   "source": [
    "!sort -k3 -t$'\\t' -n popular-names.txt | head -n 5"
   ]
  },
  {
   "cell_type": "markdown",
   "metadata": {},
   "source": [
    "## 19. 各行の1コラム目の文字列の出現頻度を求め，出現頻度の高い順に並べる\n",
    "\n",
    "各行の1列目の文字列の出現頻度を求め，その高い順に並べて表示せよ．確認にはcut, uniq, sortコマンドを用いよ．"
   ]
  },
  {
   "cell_type": "code",
   "execution_count": 76,
   "metadata": {},
   "outputs": [
    {
     "output_type": "execute_result",
     "data": {
      "text/plain": "array(['James', 'William', 'Robert', 'John', 'Mary', 'Charles', 'Michael',\n       'Elizabeth', 'Joseph', 'Margaret'], dtype='<U11')"
     },
     "metadata": {},
     "execution_count": 76
    }
   ],
   "source": [
    "import numpy as np\n",
    "with open(\"popular-names.txt\") as fi:\n",
    "    names = [l.split(\"\\t\")[0] for i,l in enumerate(fi)]\n",
    "keys, counts = np.unique(names, return_counts=True)\n",
    "keys[np.argsort(counts)[::-1]][:10]"
   ]
  },
  {
   "cell_type": "code",
   "execution_count": 75,
   "metadata": {},
   "outputs": [
    {
     "output_type": "stream",
     "name": "stdout",
     "text": "118 James\n 111 William\n 108 Robert\n 108 John\n  92 Mary\n  75 Charles\n  74 Michael\n  73 Elizabeth\n  70 Joseph\n  60 Margaret\n"
    }
   ],
   "source": [
    "!cut -f 1 popular-names.txt | sort | uniq -c | sort -k2 -t\" \" -r | head"
   ]
  }
 ]
}
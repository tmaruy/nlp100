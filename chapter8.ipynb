{
 "nbformat": 4,
 "nbformat_minor": 2,
 "metadata": {
  "language_info": {
   "name": "python",
   "codemirror_mode": {
    "name": "ipython",
    "version": 3
   },
   "version": "3.6.4-final"
  },
  "orig_nbformat": 2,
  "file_extension": ".py",
  "mimetype": "text/x-python",
  "name": "python",
  "npconvert_exporter": "python",
  "pygments_lexer": "ipython3",
  "version": 3,
  "kernelspec": {
   "name": "python36464bitbaseconda1d0c2e3be8214c02b0fb731b7870def2",
   "display_name": "Python 3.6.4 64-bit ('base': conda)"
  }
 },
 "cells": [
  {
   "cell_type": "markdown",
   "metadata": {},
   "source": [
    "# 言語処理100本ノック 2020 第８章\n",
    "\n",
    "Reference: https://nlp100.github.io/ja/ch08.html"
   ]
  },
  {
   "cell_type": "code",
   "execution_count": 1,
   "metadata": {},
   "outputs": [],
   "source": [
    "import re\n",
    "import numpy as np\n",
    "import pandas as pd\n",
    "import seaborn as sns"
   ]
  },
  {
   "cell_type": "code",
   "execution_count": 2,
   "metadata": {},
   "outputs": [],
   "source": [
    "from nltk.tokenize import word_tokenize\n",
    "from gensim import corpora\n",
    "from sklearn.preprocessing import OneHotEncoder"
   ]
  },
  {
   "cell_type": "markdown",
   "metadata": {},
   "source": [
    "## 70. 単語ベクトルの和による特徴量\n",
    "\n",
    "問題50で構築した学習データ，検証データ，評価データを行列・ベクトルに変換したい．例えば，学習データについて，すべての事例xiの特徴ベクトルxiを並べた行列Xと，正解ラベルを並べた行列（ベクトル）Yを作成したい．"
   ]
  },
  {
   "cell_type": "code",
   "execution_count": 3,
   "metadata": {},
   "outputs": [
    {
     "output_type": "execute_result",
     "data": {
      "text/plain": "                                               TITLE CATEGORY\n0      Shia Labeouf - Shia Labeouf In Rehab - Report        e\n1  UPDATE 1-China bans use of Microsoft's Windows...        t\n2      Mischa Barton Stuns In Flattering Black Dress        e\n3  Aereo's Legal Battles Rest on the Meaning of '...        e\n4        Ohio Mumps Outbreak Up To 56 Reported Cases        m",
      "text/html": "<div>\n<style scoped>\n    .dataframe tbody tr th:only-of-type {\n        vertical-align: middle;\n    }\n\n    .dataframe tbody tr th {\n        vertical-align: top;\n    }\n\n    .dataframe thead th {\n        text-align: right;\n    }\n</style>\n<table border=\"1\" class=\"dataframe\">\n  <thead>\n    <tr style=\"text-align: right;\">\n      <th></th>\n      <th>TITLE</th>\n      <th>CATEGORY</th>\n    </tr>\n  </thead>\n  <tbody>\n    <tr>\n      <th>0</th>\n      <td>Shia Labeouf - Shia Labeouf In Rehab - Report</td>\n      <td>e</td>\n    </tr>\n    <tr>\n      <th>1</th>\n      <td>UPDATE 1-China bans use of Microsoft's Windows...</td>\n      <td>t</td>\n    </tr>\n    <tr>\n      <th>2</th>\n      <td>Mischa Barton Stuns In Flattering Black Dress</td>\n      <td>e</td>\n    </tr>\n    <tr>\n      <th>3</th>\n      <td>Aereo's Legal Battles Rest on the Meaning of '...</td>\n      <td>e</td>\n    </tr>\n    <tr>\n      <th>4</th>\n      <td>Ohio Mumps Outbreak Up To 56 Reported Cases</td>\n      <td>m</td>\n    </tr>\n  </tbody>\n</table>\n</div>"
     },
     "metadata": {},
     "execution_count": 3
    }
   ],
   "source": [
    "train = pd.read_csv(\"NewsAggregatorDataset/train.txt\", sep=\"\\t\")\n",
    "test = pd.read_csv(\"NewsAggregatorDataset/test.txt\", sep=\"\\t\")\n",
    "valid = pd.read_csv(\"NewsAggregatorDataset/valid.txt\", sep=\"\\t\")\n",
    "train.head()"
   ]
  },
  {
   "cell_type": "code",
   "execution_count": 4,
   "metadata": {},
   "outputs": [
    {
     "output_type": "stream",
     "name": "stdout",
     "text": "Dictionary(19395 unique tokens: ['In', 'Labeouf', 'Rehab', 'Report', 'Shia']...)\nDictionary(1894 unique tokens: ['In', 'Report', 'Shia', \"'s\", '1-China']...)\n"
    }
   ],
   "source": [
    "# Tokenize\n",
    "tokens = [word_tokenize(text) for text in train.TITLE]\n",
    "# Remove (i) numbers, (ii) single-character words\n",
    "tokens = [[t for t in token if (not t.isnumeric()) and (len(t) > 1)] for token in tokens]\n",
    "# Create dictionary\n",
    "dictionary = corpora.Dictionary(tokens)\n",
    "print(dictionary)\n",
    "\n",
    "# Filter out words that occur less than 10 documents, or more than 50% of the documents.\n",
    "dictionary.filter_extremes(no_below=10, no_above=0.5)\n",
    "print(dictionary)"
   ]
  },
  {
   "cell_type": "code",
   "execution_count": 5,
   "metadata": {},
   "outputs": [
    {
     "output_type": "execute_result",
     "data": {
      "text/plain": "    In  Report  Shia   's  1-China\n0  1.0     1.0   1.0  0.0      0.0\n1  0.0     0.0   0.0  1.0      1.0\n2  1.0     0.0   0.0  0.0      0.0\n3  0.0     0.0   0.0  1.0      0.0\n4  0.0     0.0   0.0  0.0      0.0",
      "text/html": "<div>\n<style scoped>\n    .dataframe tbody tr th:only-of-type {\n        vertical-align: middle;\n    }\n\n    .dataframe tbody tr th {\n        vertical-align: top;\n    }\n\n    .dataframe thead th {\n        text-align: right;\n    }\n</style>\n<table border=\"1\" class=\"dataframe\">\n  <thead>\n    <tr style=\"text-align: right;\">\n      <th></th>\n      <th>In</th>\n      <th>Report</th>\n      <th>Shia</th>\n      <th>'s</th>\n      <th>1-China</th>\n    </tr>\n  </thead>\n  <tbody>\n    <tr>\n      <th>0</th>\n      <td>1.0</td>\n      <td>1.0</td>\n      <td>1.0</td>\n      <td>0.0</td>\n      <td>0.0</td>\n    </tr>\n    <tr>\n      <th>1</th>\n      <td>0.0</td>\n      <td>0.0</td>\n      <td>0.0</td>\n      <td>1.0</td>\n      <td>1.0</td>\n    </tr>\n    <tr>\n      <th>2</th>\n      <td>1.0</td>\n      <td>0.0</td>\n      <td>0.0</td>\n      <td>0.0</td>\n      <td>0.0</td>\n    </tr>\n    <tr>\n      <th>3</th>\n      <td>0.0</td>\n      <td>0.0</td>\n      <td>0.0</td>\n      <td>1.0</td>\n      <td>0.0</td>\n    </tr>\n    <tr>\n      <th>4</th>\n      <td>0.0</td>\n      <td>0.0</td>\n      <td>0.0</td>\n      <td>0.0</td>\n      <td>0.0</td>\n    </tr>\n  </tbody>\n</table>\n</div>"
     },
     "metadata": {},
     "execution_count": 5
    }
   ],
   "source": [
    "def vectorize(texts, dictionary):\n",
    "    # Tokenize\n",
    "    tokens = [word_tokenize(text) for text in texts]\n",
    "    # Vectorize\n",
    "    corpus = [dictionary.doc2bow(t) for t in tokens]\n",
    "    # \n",
    "    mat = pd.DataFrame(np.zeros([len(tokens), len(dictionary)]), \n",
    "                       columns=dictionary.token2id.keys())\n",
    "    for i,c_s in enumerate(corpus):\n",
    "        idx = [c[0] for c in c_s]\n",
    "        mat.iloc[i, idx] = 1\n",
    "    return(mat)\n",
    "\n",
    "x_train = vectorize(train.TITLE, dictionary)\n",
    "x_test = vectorize(test.TITLE, dictionary)\n",
    "x_valid = vectorize(valid.TITLE, dictionary)\n",
    "x_train.iloc[:5, :5]"
   ]
  },
  {
   "cell_type": "code",
   "execution_count": 6,
   "metadata": {},
   "outputs": [
    {
     "output_type": "execute_result",
     "data": {
      "text/plain": "[2, 1, 2, 2, 3]"
     },
     "metadata": {},
     "execution_count": 6
    }
   ],
   "source": [
    "#b = business, t = science and technology, e = entertainment, m = health\n",
    "y_dict = {\"b\":0, \"t\":1, \"e\":2, \"m\":3}\n",
    "y_train = [y_dict[c] for c in train.CATEGORY]\n",
    "y_test = [y_dict[c] for c in test.CATEGORY]\n",
    "y_valid = [y_dict[c] for c in valid.CATEGORY]\n",
    "y_train[:5]"
   ]
  },
  {
   "cell_type": "markdown",
   "metadata": {},
   "source": [
    "## 71. 単層ニューラルネットワークによる予測\n",
    "\n",
    "問題70で保存した行列を読み込み，学習データについて以下の計算を実行せよ．"
   ]
  },
  {
   "cell_type": "code",
   "execution_count": 7,
   "metadata": {},
   "outputs": [],
   "source": [
    "import torch\n",
    "import torch.nn as nn\n",
    "import torch.optim as optimizers\n",
    "from torch.utils.data import DataLoader\n",
    "\n",
    "torch.manual_seed(123) # torch用の乱数シード\n",
    "device = torch.device('cuda' if torch.cuda.is_available() else 'cpu')"
   ]
  },
  {
   "cell_type": "code",
   "execution_count": 8,
   "metadata": {},
   "outputs": [],
   "source": [
    "class TestModel(nn.Module):\n",
    "    def __init__(self, input_dim, output_dim):\n",
    "        super().__init__()\n",
    "        self.l1 = nn.Linear(input_dim, output_dim)\n",
    "        self.layers = [self.l1]\n",
    "        nn.init.uniform_(self.l1.weight, -1, 1)\n",
    "    def forward(self, x):\n",
    "        for layer in self.layers:\n",
    "            x = layer(x)\n",
    "        return x"
   ]
  },
  {
   "cell_type": "code",
   "execution_count": 9,
   "metadata": {},
   "outputs": [],
   "source": [
    "model = TestModel(x_train.shape[1], 4).to(device)\n",
    "x_ = torch.Tensor(np.array(x_train)).to(device)\n",
    "y_ = torch.Tensor(y_train).to(device)"
   ]
  },
  {
   "cell_type": "code",
   "execution_count": 10,
   "metadata": {
    "tags": [
     "outputPrepend"
    ]
   },
   "outputs": [
    {
     "output_type": "execute_result",
     "data": {
      "text/plain": "tensor([[ 2.5144,  0.3729,  0.7250, -1.3400],\n        [-2.4293, -1.1343,  0.9164, -1.8876],\n        [ 2.4407,  0.7129, -0.8651, -1.5174],\n        ...,\n        [-1.5226, -0.1192,  1.4111, -0.0818],\n        [ 0.5885,  1.3574,  1.5553,  1.5798],\n        [ 2.0930, -2.3336, -0.0579, -1.4801]], grad_fn=<AddmmBackward>)"
     },
     "metadata": {},
     "execution_count": 10
    }
   ],
   "source": [
    "model.forward(x_)"
   ]
  },
  {
   "cell_type": "markdown",
   "metadata": {},
   "source": [
    "## 72. 損失と勾配の計算\n",
    "\n",
    "学習データの事例x1と事例集合x1,x2,x3,x4に対して，クロスエントロピー損失と，行列Wに対する勾配を計算せよ．なお，ある事例xiに対して損失は次式で計算される．"
   ]
  },
  {
   "cell_type": "code",
   "execution_count": 11,
   "metadata": {},
   "outputs": [],
   "source": [
    "# 損失関数\n",
    "criterion = nn.CrossEntropyLoss()\n",
    "def compute_loss(t, y):\n",
    "    return criterion(y, t)"
   ]
  },
  {
   "cell_type": "code",
   "execution_count": 12,
   "metadata": {},
   "outputs": [
    {
     "output_type": "execute_result",
     "data": {
      "text/plain": "tensor(2.2120, grad_fn=<NllLossBackward>)"
     },
     "metadata": {},
     "execution_count": 12
    }
   ],
   "source": [
    "preds = model.forward(x_)\n",
    "loss = compute_loss(y_.long(), preds) # long型にしないとエラーが出る\n",
    "loss"
   ]
  },
  {
   "cell_type": "markdown",
   "metadata": {},
   "source": [
    "## 73. 確率的勾配降下法による学習\n",
    "\n",
    "確率的勾配降下法（SGD: Stochastic Gradient Descent）を用いて，行列Wを学習せよ．なお，学習は適当な基準で終了させればよい（例えば「100エポックで終了」など）"
   ]
  },
  {
   "cell_type": "code",
   "execution_count": 17,
   "metadata": {},
   "outputs": [],
   "source": [
    "# Model\n",
    "model = TestModel(x_train.shape[1], 4).to(device)\n",
    "\n",
    "# Optimmizer\n",
    "optimizer = optimizers.SGD(model.parameters(), lr=0.1)\n",
    "\n",
    "# Dataset\n",
    "class TestDataset(torch.utils.data.Dataset):\n",
    "    def __init__(self, x, y, transform=None):\n",
    "        self.x = torch.Tensor(np.array(x)).to(device)\n",
    "        self.y = torch.Tensor(y).long().to(device)\n",
    "        self.transform = transform\n",
    "    def __len__(self):\n",
    "        return self.x.shape[0]\n",
    "    def __getitem__(self, idx):\n",
    "        x_out = self.x[idx]\n",
    "        y_out = self.y[idx]\n",
    "        if self.transform:\n",
    "            x_out = self.transform(x_out)\n",
    "        return x_out, y_out\n",
    "train_dataset = TestDataset(x_train, y_train)\n",
    "\n",
    "# DataLoader\n",
    "train_dataloader = DataLoader(train_dataset, batch_size=100, shuffle=True)"
   ]
  },
  {
   "cell_type": "code",
   "execution_count": 18,
   "metadata": {},
   "outputs": [],
   "source": [
    "def train_step(x, t):\n",
    "    model.train()\n",
    "    preds = model(x)\n",
    "    loss = compute_loss(t, preds)\n",
    "    optimizer.zero_grad()\n",
    "    loss.backward()\n",
    "    optimizer.step()\n",
    "    return loss, preds   "
   ]
  },
  {
   "cell_type": "code",
   "execution_count": 19,
   "metadata": {},
   "outputs": [],
   "source": [
    "from sklearn.metrics import accuracy_score"
   ]
  },
  {
   "cell_type": "code",
   "execution_count": 20,
   "metadata": {},
   "outputs": [
    {
     "output_type": "stream",
     "name": "stdout",
     "text": "epoch: 1, loss: 1.63, acc: 0.387\nepoch: 11, loss: 1.01, acc: 0.632\nepoch: 21, loss: 0.831, acc: 0.693\nepoch: 31, loss: 0.723, acc: 0.733\nepoch: 41, loss: 0.648, acc: 0.765\nepoch: 51, loss: 0.594, acc: 0.788\nepoch: 61, loss: 0.552, acc: 0.807\nepoch: 71, loss: 0.519, acc: 0.818\nepoch: 81, loss: 0.492, acc: 0.831\nepoch: 91, loss: 0.469, acc: 0.839\nepoch: 100, loss: 0.451, acc: 0.846\n"
    }
   ],
   "source": [
    "epochs = 100\n",
    "for epoch in range(epochs):\n",
    "    train_loss = 0.\n",
    "    train_acc = 0.\n",
    "    for (x, t) in train_dataloader:\n",
    "        x, t = x.to(device), t.to(device)\n",
    "        loss, preds = train_step(x, t)\n",
    "        train_loss += loss.item()\n",
    "        train_acc += accuracy_score(t.tolist(), preds.argmax(dim=1).tolist())\n",
    "    train_loss /= len(train_dataloader)\n",
    "    train_acc /= len(train_dataloader)\n",
    "    if(epoch % 10 == 0 or epoch == epochs-1):\n",
    "        print('epoch: {}, loss: {:.3}, acc: {:.3f}'.format(epoch+1, train_loss, train_acc ))"
   ]
  },
  {
   "cell_type": "markdown",
   "metadata": {},
   "source": [
    "## 74. 正解率の計測\n",
    "\n",
    "問題73で求めた行列を用いて学習データおよび評価データの事例を分類したとき，その正解率をそれぞれ求めよ．"
   ]
  },
  {
   "cell_type": "code",
   "execution_count": 21,
   "metadata": {},
   "outputs": [],
   "source": [
    "def val_step(x, t):\n",
    "    model.eval() # Evaluation mode\n",
    "    preds = model(x)\n",
    "    loss = criterion(preds, t)\n",
    "    return loss, preds"
   ]
  },
  {
   "cell_type": "code",
   "execution_count": 28,
   "metadata": {},
   "outputs": [
    {
     "output_type": "execute_result",
     "data": {
      "text/plain": "0.8458583208395802"
     },
     "metadata": {},
     "execution_count": 28
    }
   ],
   "source": [
    "# 学習データ\n",
    "x_ = torch.Tensor(np.array(x_train)).to(device)\n",
    "y_ = torch.Tensor(y_train).long().to(device)\n",
    "loss, preds = val_step(x_, y_)\n",
    "accuracy_score(y_.tolist(), preds.argmax(dim=1).tolist())"
   ]
  },
  {
   "cell_type": "code",
   "execution_count": 29,
   "metadata": {},
   "outputs": [
    {
     "output_type": "execute_result",
     "data": {
      "text/plain": "0.8043478260869565"
     },
     "metadata": {},
     "execution_count": 29
    }
   ],
   "source": [
    "# 評価データ\n",
    "x_ = torch.Tensor(np.array(x_test)).to(device)\n",
    "y_ = torch.Tensor(y_test).long().to(device)\n",
    "loss, preds = val_step(x_, y_)\n",
    "accuracy_score(y_.tolist(), preds.argmax(dim=1).tolist())"
   ]
  },
  {
   "cell_type": "markdown",
   "metadata": {},
   "source": [
    "## 75. 損失と正解率のプロット\n",
    "\n",
    "問題73のコードを改変し，各エポックのパラメータ更新が完了するたびに，訓練データでの損失，正解率，検証データでの損失，正解率をグラフにプロットし，学習の進捗状況を確認できるようにせよ"
   ]
  },
  {
   "cell_type": "code",
   "execution_count": 35,
   "metadata": {},
   "outputs": [
    {
     "output_type": "execute_result",
     "data": {
      "text/plain": "   train_loss  train_acc  test_loss  test_acc\n0    1.551608   0.393915   1.338029  0.483487\n1    1.310742   0.507347   1.211908  0.541261\n2    1.220071   0.554403   1.140417  0.570588\n3    1.158996   0.583146   1.087468  0.606134\n4    1.113525   0.601116   1.060651  0.619874",
      "text/html": "<div>\n<style scoped>\n    .dataframe tbody tr th:only-of-type {\n        vertical-align: middle;\n    }\n\n    .dataframe tbody tr th {\n        vertical-align: top;\n    }\n\n    .dataframe thead th {\n        text-align: right;\n    }\n</style>\n<table border=\"1\" class=\"dataframe\">\n  <thead>\n    <tr style=\"text-align: right;\">\n      <th></th>\n      <th>train_loss</th>\n      <th>train_acc</th>\n      <th>test_loss</th>\n      <th>test_acc</th>\n    </tr>\n  </thead>\n  <tbody>\n    <tr>\n      <th>0</th>\n      <td>1.551608</td>\n      <td>0.393915</td>\n      <td>1.338029</td>\n      <td>0.483487</td>\n    </tr>\n    <tr>\n      <th>1</th>\n      <td>1.310742</td>\n      <td>0.507347</td>\n      <td>1.211908</td>\n      <td>0.541261</td>\n    </tr>\n    <tr>\n      <th>2</th>\n      <td>1.220071</td>\n      <td>0.554403</td>\n      <td>1.140417</td>\n      <td>0.570588</td>\n    </tr>\n    <tr>\n      <th>3</th>\n      <td>1.158996</td>\n      <td>0.583146</td>\n      <td>1.087468</td>\n      <td>0.606134</td>\n    </tr>\n    <tr>\n      <th>4</th>\n      <td>1.113525</td>\n      <td>0.601116</td>\n      <td>1.060651</td>\n      <td>0.619874</td>\n    </tr>\n  </tbody>\n</table>\n</div>"
     },
     "metadata": {},
     "execution_count": 35
    }
   ],
   "source": [
    "# 初期化\n",
    "model = TestModel(x_train.shape[1], 4).to(device)\n",
    "optimizer = optimizers.SGD(model.parameters(), lr=0.1)\n",
    "\n",
    "# DataLoader\n",
    "train_dataset = TestDataset(x_train, y_train)\n",
    "train_dataloader = DataLoader(train_dataset, batch_size=100, shuffle=True)\n",
    "# \n",
    "test_dataset = TestDataset(x_test, y_test)\n",
    "test_dataloader = DataLoader(test_dataset, batch_size=100, shuffle=True)\n",
    "\n",
    "epochs = 100\n",
    "performance = {\"train_loss\":[], \"train_acc\":[], \"test_loss\":[], \"test_acc\":[]}\n",
    "for epoch in range(epochs):\n",
    "    # 訓練データ\n",
    "    train_loss = 0.\n",
    "    train_acc = 0.\n",
    "    for (x, t) in train_dataloader:\n",
    "        loss, preds = train_step(x, t)\n",
    "        train_loss += loss.item()\n",
    "        train_acc += accuracy_score(t.tolist(), preds.argmax(dim=1).tolist())\n",
    "    performance[\"train_loss\"].append(train_loss / len(train_dataloader))\n",
    "    performance[\"train_acc\"].append(train_acc / len(train_dataloader))\n",
    "    # テストデータ\n",
    "    test_loss = 0.\n",
    "    test_acc = 0.\n",
    "    for (x, t) in test_dataloader:\n",
    "        loss, preds = val_step(x, t)\n",
    "        test_loss += loss.item()\n",
    "        test_acc += accuracy_score(t.tolist(), preds.argmax(dim=1).tolist())\n",
    "    performance[\"test_loss\"].append(test_loss / len(test_dataloader))\n",
    "    performance[\"test_acc\"].append(test_acc / len(test_dataloader))\n",
    "     \n",
    "performance = pd.DataFrame(performance)\n",
    "performance.head()"
   ]
  },
  {
   "cell_type": "code",
   "execution_count": 47,
   "metadata": {},
   "outputs": [
    {
     "output_type": "execute_result",
     "data": {
      "text/plain": "<matplotlib.legend.Legend at 0x1a50035860>"
     },
     "metadata": {},
     "execution_count": 47
    },
    {
     "output_type": "display_data",
     "data": {
      "text/plain": "<Figure size 360x252 with 1 Axes>",
      "image/svg+xml": "<?xml version=\"1.0\" encoding=\"utf-8\" standalone=\"no\"?>\n<!DOCTYPE svg PUBLIC \"-//W3C//DTD SVG 1.1//EN\"\n  \"http://www.w3.org/Graphics/SVG/1.1/DTD/svg11.dtd\">\n<!-- Created with matplotlib (http://matplotlib.org/) -->\n<svg height=\"230.219844pt\" version=\"1.1\" viewBox=\"0 0 339.164375 230.219844\" width=\"339.164375pt\" xmlns=\"http://www.w3.org/2000/svg\" xmlns:xlink=\"http://www.w3.org/1999/xlink\">\n <defs>\n  <style type=\"text/css\">\n*{stroke-linecap:butt;stroke-linejoin:round;}\n  </style>\n </defs>\n <g id=\"figure_1\">\n  <g id=\"patch_1\">\n   <path d=\"M 0 230.219844 \nL 339.164375 230.219844 \nL 339.164375 0 \nL 0 0 \nz\n\" style=\"fill:#ffffff;\"/>\n  </g>\n  <g id=\"axes_1\">\n   <g id=\"patch_2\">\n    <path d=\"M 46.964375 203.46 \nL 325.964375 203.46 \nL 325.964375 13.2 \nL 46.964375 13.2 \nz\n\" style=\"fill:#eaeaf2;\"/>\n   </g>\n   <g id=\"matplotlib.axis_1\">\n    <g id=\"xtick_1\">\n     <g id=\"line2d_1\">\n      <path clip-path=\"url(#pbcb573910b)\" d=\"M 59.646193 203.46 \nL 59.646193 13.2 \n\" style=\"fill:none;stroke:#ffffff;stroke-linecap:round;\"/>\n     </g>\n     <g id=\"text_1\">\n      <!-- 0 -->\n      <defs>\n       <path d=\"M 4.15625 35.296875 \nQ 4.15625 48 6.765625 55.734375 \nQ 9.375 63.484375 14.515625 67.671875 \nQ 19.671875 71.875 27.484375 71.875 \nQ 33.25 71.875 37.59375 69.546875 \nQ 41.9375 67.234375 44.765625 62.859375 \nQ 47.609375 58.5 49.21875 52.21875 \nQ 50.828125 45.953125 50.828125 35.296875 \nQ 50.828125 22.703125 48.234375 14.96875 \nQ 45.65625 7.234375 40.5 3 \nQ 35.359375 -1.21875 27.484375 -1.21875 \nQ 17.140625 -1.21875 11.234375 6.203125 \nQ 4.15625 15.140625 4.15625 35.296875 \nz\nM 13.1875 35.296875 \nQ 13.1875 17.671875 17.3125 11.828125 \nQ 21.4375 6 27.484375 6 \nQ 33.546875 6 37.671875 11.859375 \nQ 41.796875 17.71875 41.796875 35.296875 \nQ 41.796875 52.984375 37.671875 58.78125 \nQ 33.546875 64.59375 27.390625 64.59375 \nQ 21.34375 64.59375 17.71875 59.46875 \nQ 13.1875 52.9375 13.1875 35.296875 \nz\n\" id=\"ArialMT-30\"/>\n      </defs>\n      <g style=\"fill:#262626;\" transform=\"translate(56.587678 220.833594)scale(0.11 -0.11)\">\n       <use xlink:href=\"#ArialMT-30\"/>\n      </g>\n     </g>\n    </g>\n    <g id=\"xtick_2\">\n     <g id=\"line2d_2\">\n      <path clip-path=\"url(#pbcb573910b)\" d=\"M 110.885863 203.46 \nL 110.885863 13.2 \n\" style=\"fill:none;stroke:#ffffff;stroke-linecap:round;\"/>\n     </g>\n     <g id=\"text_2\">\n      <!-- 20 -->\n      <defs>\n       <path d=\"M 50.34375 8.453125 \nL 50.34375 0 \nL 3.03125 0 \nQ 2.9375 3.171875 4.046875 6.109375 \nQ 5.859375 10.9375 9.828125 15.625 \nQ 13.8125 20.3125 21.34375 26.46875 \nQ 33.015625 36.03125 37.109375 41.625 \nQ 41.21875 47.21875 41.21875 52.203125 \nQ 41.21875 57.421875 37.46875 61 \nQ 33.734375 64.59375 27.734375 64.59375 \nQ 21.390625 64.59375 17.578125 60.78125 \nQ 13.765625 56.984375 13.71875 50.25 \nL 4.6875 51.171875 \nQ 5.609375 61.28125 11.65625 66.578125 \nQ 17.71875 71.875 27.9375 71.875 \nQ 38.234375 71.875 44.234375 66.15625 \nQ 50.25 60.453125 50.25 52 \nQ 50.25 47.703125 48.484375 43.546875 \nQ 46.734375 39.40625 42.65625 34.8125 \nQ 38.578125 30.21875 29.109375 22.21875 \nQ 21.1875 15.578125 18.9375 13.203125 \nQ 16.703125 10.84375 15.234375 8.453125 \nz\n\" id=\"ArialMT-32\"/>\n      </defs>\n      <g style=\"fill:#262626;\" transform=\"translate(104.768831 220.833594)scale(0.11 -0.11)\">\n       <use xlink:href=\"#ArialMT-32\"/>\n       <use x=\"55.615234\" xlink:href=\"#ArialMT-30\"/>\n      </g>\n     </g>\n    </g>\n    <g id=\"xtick_3\">\n     <g id=\"line2d_3\">\n      <path clip-path=\"url(#pbcb573910b)\" d=\"M 162.125532 203.46 \nL 162.125532 13.2 \n\" style=\"fill:none;stroke:#ffffff;stroke-linecap:round;\"/>\n     </g>\n     <g id=\"text_3\">\n      <!-- 40 -->\n      <defs>\n       <path d=\"M 32.328125 0 \nL 32.328125 17.140625 \nL 1.265625 17.140625 \nL 1.265625 25.203125 \nL 33.9375 71.578125 \nL 41.109375 71.578125 \nL 41.109375 25.203125 \nL 50.78125 25.203125 \nL 50.78125 17.140625 \nL 41.109375 17.140625 \nL 41.109375 0 \nz\nM 32.328125 25.203125 \nL 32.328125 57.46875 \nL 9.90625 25.203125 \nz\n\" id=\"ArialMT-34\"/>\n      </defs>\n      <g style=\"fill:#262626;\" transform=\"translate(156.008501 220.833594)scale(0.11 -0.11)\">\n       <use xlink:href=\"#ArialMT-34\"/>\n       <use x=\"55.615234\" xlink:href=\"#ArialMT-30\"/>\n      </g>\n     </g>\n    </g>\n    <g id=\"xtick_4\">\n     <g id=\"line2d_4\">\n      <path clip-path=\"url(#pbcb573910b)\" d=\"M 213.365201 203.46 \nL 213.365201 13.2 \n\" style=\"fill:none;stroke:#ffffff;stroke-linecap:round;\"/>\n     </g>\n     <g id=\"text_4\">\n      <!-- 60 -->\n      <defs>\n       <path d=\"M 49.75 54.046875 \nL 41.015625 53.375 \nQ 39.84375 58.546875 37.703125 60.890625 \nQ 34.125 64.65625 28.90625 64.65625 \nQ 24.703125 64.65625 21.53125 62.3125 \nQ 17.390625 59.28125 14.984375 53.46875 \nQ 12.59375 47.65625 12.5 36.921875 \nQ 15.671875 41.75 20.265625 44.09375 \nQ 24.859375 46.4375 29.890625 46.4375 \nQ 38.671875 46.4375 44.84375 39.96875 \nQ 51.03125 33.5 51.03125 23.25 \nQ 51.03125 16.5 48.125 10.71875 \nQ 45.21875 4.9375 40.140625 1.859375 \nQ 35.0625 -1.21875 28.609375 -1.21875 \nQ 17.625 -1.21875 10.6875 6.859375 \nQ 3.765625 14.9375 3.765625 33.5 \nQ 3.765625 54.25 11.421875 63.671875 \nQ 18.109375 71.875 29.4375 71.875 \nQ 37.890625 71.875 43.28125 67.140625 \nQ 48.6875 62.40625 49.75 54.046875 \nz\nM 13.875 23.1875 \nQ 13.875 18.65625 15.796875 14.5 \nQ 17.71875 10.359375 21.1875 8.171875 \nQ 24.65625 6 28.46875 6 \nQ 34.03125 6 38.03125 10.484375 \nQ 42.046875 14.984375 42.046875 22.703125 \nQ 42.046875 30.125 38.078125 34.390625 \nQ 34.125 38.671875 28.125 38.671875 \nQ 22.171875 38.671875 18.015625 34.390625 \nQ 13.875 30.125 13.875 23.1875 \nz\n\" id=\"ArialMT-36\"/>\n      </defs>\n      <g style=\"fill:#262626;\" transform=\"translate(207.24817 220.833594)scale(0.11 -0.11)\">\n       <use xlink:href=\"#ArialMT-36\"/>\n       <use x=\"55.615234\" xlink:href=\"#ArialMT-30\"/>\n      </g>\n     </g>\n    </g>\n    <g id=\"xtick_5\">\n     <g id=\"line2d_5\">\n      <path clip-path=\"url(#pbcb573910b)\" d=\"M 264.604871 203.46 \nL 264.604871 13.2 \n\" style=\"fill:none;stroke:#ffffff;stroke-linecap:round;\"/>\n     </g>\n     <g id=\"text_5\">\n      <!-- 80 -->\n      <defs>\n       <path d=\"M 17.671875 38.8125 \nQ 12.203125 40.828125 9.5625 44.53125 \nQ 6.9375 48.25 6.9375 53.421875 \nQ 6.9375 61.234375 12.546875 66.546875 \nQ 18.171875 71.875 27.484375 71.875 \nQ 36.859375 71.875 42.578125 66.421875 \nQ 48.296875 60.984375 48.296875 53.171875 \nQ 48.296875 48.1875 45.671875 44.5 \nQ 43.0625 40.828125 37.75 38.8125 \nQ 44.34375 36.671875 47.78125 31.875 \nQ 51.21875 27.09375 51.21875 20.453125 \nQ 51.21875 11.28125 44.71875 5.03125 \nQ 38.234375 -1.21875 27.640625 -1.21875 \nQ 17.046875 -1.21875 10.546875 5.046875 \nQ 4.046875 11.328125 4.046875 20.703125 \nQ 4.046875 27.6875 7.59375 32.390625 \nQ 11.140625 37.109375 17.671875 38.8125 \nz\nM 15.921875 53.71875 \nQ 15.921875 48.640625 19.1875 45.40625 \nQ 22.46875 42.1875 27.6875 42.1875 \nQ 32.765625 42.1875 36.015625 45.375 \nQ 39.265625 48.578125 39.265625 53.21875 \nQ 39.265625 58.0625 35.90625 61.359375 \nQ 32.5625 64.65625 27.59375 64.65625 \nQ 22.5625 64.65625 19.234375 61.421875 \nQ 15.921875 58.203125 15.921875 53.71875 \nz\nM 13.09375 20.65625 \nQ 13.09375 16.890625 14.875 13.375 \nQ 16.65625 9.859375 20.171875 7.921875 \nQ 23.6875 6 27.734375 6 \nQ 34.03125 6 38.125 10.046875 \nQ 42.234375 14.109375 42.234375 20.359375 \nQ 42.234375 26.703125 38.015625 30.859375 \nQ 33.796875 35.015625 27.4375 35.015625 \nQ 21.234375 35.015625 17.15625 30.90625 \nQ 13.09375 26.8125 13.09375 20.65625 \nz\n\" id=\"ArialMT-38\"/>\n      </defs>\n      <g style=\"fill:#262626;\" transform=\"translate(258.48784 220.833594)scale(0.11 -0.11)\">\n       <use xlink:href=\"#ArialMT-38\"/>\n       <use x=\"55.615234\" xlink:href=\"#ArialMT-30\"/>\n      </g>\n     </g>\n    </g>\n    <g id=\"xtick_6\">\n     <g id=\"line2d_6\">\n      <path clip-path=\"url(#pbcb573910b)\" d=\"M 315.84454 203.46 \nL 315.84454 13.2 \n\" style=\"fill:none;stroke:#ffffff;stroke-linecap:round;\"/>\n     </g>\n     <g id=\"text_6\">\n      <!-- 100 -->\n      <defs>\n       <path d=\"M 37.25 0 \nL 28.46875 0 \nL 28.46875 56 \nQ 25.296875 52.984375 20.140625 49.953125 \nQ 14.984375 46.921875 10.890625 45.40625 \nL 10.890625 53.90625 \nQ 18.265625 57.375 23.78125 62.296875 \nQ 29.296875 67.234375 31.59375 71.875 \nL 37.25 71.875 \nz\n\" id=\"ArialMT-31\"/>\n      </defs>\n      <g style=\"fill:#262626;\" transform=\"translate(306.668993 220.833594)scale(0.11 -0.11)\">\n       <use xlink:href=\"#ArialMT-31\"/>\n       <use x=\"55.615234\" xlink:href=\"#ArialMT-30\"/>\n       <use x=\"111.230469\" xlink:href=\"#ArialMT-30\"/>\n      </g>\n     </g>\n    </g>\n   </g>\n   <g id=\"matplotlib.axis_2\">\n    <g id=\"ytick_1\">\n     <g id=\"line2d_7\">\n      <path clip-path=\"url(#pbcb573910b)\" d=\"M 46.964375 192.521608 \nL 325.964375 192.521608 \n\" style=\"fill:none;stroke:#ffffff;stroke-linecap:round;\"/>\n     </g>\n     <g id=\"text_7\">\n      <!-- 0.4 -->\n      <defs>\n       <path d=\"M 9.078125 0 \nL 9.078125 10.015625 \nL 19.09375 10.015625 \nL 19.09375 0 \nz\n\" id=\"ArialMT-2e\"/>\n      </defs>\n      <g style=\"fill:#262626;\" transform=\"translate(22.174375 196.458405)scale(0.11 -0.11)\">\n       <use xlink:href=\"#ArialMT-30\"/>\n       <use x=\"55.615234\" xlink:href=\"#ArialMT-2e\"/>\n       <use x=\"83.398438\" xlink:href=\"#ArialMT-34\"/>\n      </g>\n     </g>\n    </g>\n    <g id=\"ytick_2\">\n     <g id=\"line2d_8\">\n      <path clip-path=\"url(#pbcb573910b)\" d=\"M 46.964375 154.885559 \nL 325.964375 154.885559 \n\" style=\"fill:none;stroke:#ffffff;stroke-linecap:round;\"/>\n     </g>\n     <g id=\"text_8\">\n      <!-- 0.5 -->\n      <defs>\n       <path d=\"M 4.15625 18.75 \nL 13.375 19.53125 \nQ 14.40625 12.796875 18.140625 9.390625 \nQ 21.875 6 27.15625 6 \nQ 33.5 6 37.890625 10.78125 \nQ 42.28125 15.578125 42.28125 23.484375 \nQ 42.28125 31 38.0625 35.34375 \nQ 33.84375 39.703125 27 39.703125 \nQ 22.75 39.703125 19.328125 37.765625 \nQ 15.921875 35.84375 13.96875 32.765625 \nL 5.71875 33.84375 \nL 12.640625 70.609375 \nL 48.25 70.609375 \nL 48.25 62.203125 \nL 19.671875 62.203125 \nL 15.828125 42.96875 \nQ 22.265625 47.46875 29.34375 47.46875 \nQ 38.71875 47.46875 45.15625 40.96875 \nQ 51.609375 34.46875 51.609375 24.265625 \nQ 51.609375 14.546875 45.953125 7.46875 \nQ 39.0625 -1.21875 27.15625 -1.21875 \nQ 17.390625 -1.21875 11.203125 4.25 \nQ 5.03125 9.71875 4.15625 18.75 \nz\n\" id=\"ArialMT-35\"/>\n      </defs>\n      <g style=\"fill:#262626;\" transform=\"translate(22.174375 158.822355)scale(0.11 -0.11)\">\n       <use xlink:href=\"#ArialMT-30\"/>\n       <use x=\"55.615234\" xlink:href=\"#ArialMT-2e\"/>\n       <use x=\"83.398438\" xlink:href=\"#ArialMT-35\"/>\n      </g>\n     </g>\n    </g>\n    <g id=\"ytick_3\">\n     <g id=\"line2d_9\">\n      <path clip-path=\"url(#pbcb573910b)\" d=\"M 46.964375 117.249509 \nL 325.964375 117.249509 \n\" style=\"fill:none;stroke:#ffffff;stroke-linecap:round;\"/>\n     </g>\n     <g id=\"text_9\">\n      <!-- 0.6 -->\n      <g style=\"fill:#262626;\" transform=\"translate(22.174375 121.186306)scale(0.11 -0.11)\">\n       <use xlink:href=\"#ArialMT-30\"/>\n       <use x=\"55.615234\" xlink:href=\"#ArialMT-2e\"/>\n       <use x=\"83.398438\" xlink:href=\"#ArialMT-36\"/>\n      </g>\n     </g>\n    </g>\n    <g id=\"ytick_4\">\n     <g id=\"line2d_10\">\n      <path clip-path=\"url(#pbcb573910b)\" d=\"M 46.964375 79.61346 \nL 325.964375 79.61346 \n\" style=\"fill:none;stroke:#ffffff;stroke-linecap:round;\"/>\n     </g>\n     <g id=\"text_10\">\n      <!-- 0.7 -->\n      <defs>\n       <path d=\"M 4.734375 62.203125 \nL 4.734375 70.65625 \nL 51.078125 70.65625 \nL 51.078125 63.8125 \nQ 44.234375 56.546875 37.515625 44.484375 \nQ 30.8125 32.421875 27.15625 19.671875 \nQ 24.515625 10.6875 23.78125 0 \nL 14.75 0 \nQ 14.890625 8.453125 18.0625 20.40625 \nQ 21.234375 32.375 27.171875 43.484375 \nQ 33.109375 54.59375 39.796875 62.203125 \nz\n\" id=\"ArialMT-37\"/>\n      </defs>\n      <g style=\"fill:#262626;\" transform=\"translate(22.174375 83.550257)scale(0.11 -0.11)\">\n       <use xlink:href=\"#ArialMT-30\"/>\n       <use x=\"55.615234\" xlink:href=\"#ArialMT-2e\"/>\n       <use x=\"83.398438\" xlink:href=\"#ArialMT-37\"/>\n      </g>\n     </g>\n    </g>\n    <g id=\"ytick_5\">\n     <g id=\"line2d_11\">\n      <path clip-path=\"url(#pbcb573910b)\" d=\"M 46.964375 41.97741 \nL 325.964375 41.97741 \n\" style=\"fill:none;stroke:#ffffff;stroke-linecap:round;\"/>\n     </g>\n     <g id=\"text_11\">\n      <!-- 0.8 -->\n      <g style=\"fill:#262626;\" transform=\"translate(22.174375 45.914207)scale(0.11 -0.11)\">\n       <use xlink:href=\"#ArialMT-30\"/>\n       <use x=\"55.615234\" xlink:href=\"#ArialMT-2e\"/>\n       <use x=\"83.398438\" xlink:href=\"#ArialMT-38\"/>\n      </g>\n     </g>\n    </g>\n    <g id=\"text_12\">\n     <!-- test_acc -->\n     <defs>\n      <path d=\"M 25.78125 7.859375 \nL 27.046875 0.09375 \nQ 23.34375 -0.6875 20.40625 -0.6875 \nQ 15.625 -0.6875 12.984375 0.828125 \nQ 10.359375 2.34375 9.28125 4.8125 \nQ 8.203125 7.28125 8.203125 15.1875 \nL 8.203125 45.015625 \nL 1.765625 45.015625 \nL 1.765625 51.859375 \nL 8.203125 51.859375 \nL 8.203125 64.703125 \nL 16.9375 69.96875 \nL 16.9375 51.859375 \nL 25.78125 51.859375 \nL 25.78125 45.015625 \nL 16.9375 45.015625 \nL 16.9375 14.703125 \nQ 16.9375 10.9375 17.40625 9.859375 \nQ 17.875 8.796875 18.921875 8.15625 \nQ 19.96875 7.515625 21.921875 7.515625 \nQ 23.390625 7.515625 25.78125 7.859375 \nz\n\" id=\"ArialMT-74\"/>\n      <path d=\"M 42.09375 16.703125 \nL 51.171875 15.578125 \nQ 49.03125 7.625 43.21875 3.21875 \nQ 37.40625 -1.171875 28.375 -1.171875 \nQ 17 -1.171875 10.328125 5.828125 \nQ 3.65625 12.84375 3.65625 25.484375 \nQ 3.65625 38.578125 10.390625 45.796875 \nQ 17.140625 53.03125 27.875 53.03125 \nQ 38.28125 53.03125 44.875 45.953125 \nQ 51.46875 38.875 51.46875 26.03125 \nQ 51.46875 25.25 51.421875 23.6875 \nL 12.75 23.6875 \nQ 13.234375 15.140625 17.578125 10.59375 \nQ 21.921875 6.0625 28.421875 6.0625 \nQ 33.25 6.0625 36.671875 8.59375 \nQ 40.09375 11.140625 42.09375 16.703125 \nz\nM 13.234375 30.90625 \nL 42.1875 30.90625 \nQ 41.609375 37.453125 38.875 40.71875 \nQ 34.671875 45.796875 27.984375 45.796875 \nQ 21.921875 45.796875 17.796875 41.75 \nQ 13.671875 37.703125 13.234375 30.90625 \nz\n\" id=\"ArialMT-65\"/>\n      <path d=\"M 3.078125 15.484375 \nL 11.765625 16.84375 \nQ 12.5 11.625 15.84375 8.84375 \nQ 19.1875 6.0625 25.203125 6.0625 \nQ 31.25 6.0625 34.171875 8.515625 \nQ 37.109375 10.984375 37.109375 14.3125 \nQ 37.109375 17.28125 34.515625 19 \nQ 32.71875 20.171875 25.53125 21.96875 \nQ 15.875 24.421875 12.140625 26.203125 \nQ 8.40625 27.984375 6.46875 31.125 \nQ 4.546875 34.28125 4.546875 38.09375 \nQ 4.546875 41.546875 6.125 44.5 \nQ 7.71875 47.46875 10.453125 49.421875 \nQ 12.5 50.921875 16.03125 51.96875 \nQ 19.578125 53.03125 23.640625 53.03125 \nQ 29.734375 53.03125 34.34375 51.265625 \nQ 38.96875 49.515625 41.15625 46.5 \nQ 43.359375 43.5 44.1875 38.484375 \nL 35.59375 37.3125 \nQ 35.015625 41.3125 32.203125 43.546875 \nQ 29.390625 45.796875 24.265625 45.796875 \nQ 18.21875 45.796875 15.625 43.796875 \nQ 13.03125 41.796875 13.03125 39.109375 \nQ 13.03125 37.40625 14.109375 36.03125 \nQ 15.1875 34.625 17.484375 33.6875 \nQ 18.796875 33.203125 25.25 31.453125 \nQ 34.578125 28.953125 38.25 27.359375 \nQ 41.9375 25.78125 44.03125 22.75 \nQ 46.140625 19.734375 46.140625 15.234375 \nQ 46.140625 10.84375 43.578125 6.953125 \nQ 41.015625 3.078125 36.171875 0.953125 \nQ 31.34375 -1.171875 25.25 -1.171875 \nQ 15.140625 -1.171875 9.84375 3.03125 \nQ 4.546875 7.234375 3.078125 15.484375 \nz\n\" id=\"ArialMT-73\"/>\n      <path d=\"M -1.515625 -19.875 \nL -1.515625 -13.53125 \nL 56.734375 -13.53125 \nL 56.734375 -19.875 \nz\n\" id=\"ArialMT-5f\"/>\n      <path d=\"M 40.4375 6.390625 \nQ 35.546875 2.25 31.03125 0.53125 \nQ 26.515625 -1.171875 21.34375 -1.171875 \nQ 12.796875 -1.171875 8.203125 3 \nQ 3.609375 7.171875 3.609375 13.671875 \nQ 3.609375 17.484375 5.34375 20.625 \nQ 7.078125 23.78125 9.890625 25.6875 \nQ 12.703125 27.59375 16.21875 28.5625 \nQ 18.796875 29.25 24.03125 29.890625 \nQ 34.671875 31.15625 39.703125 32.90625 \nQ 39.75 34.71875 39.75 35.203125 \nQ 39.75 40.578125 37.25 42.78125 \nQ 33.890625 45.75 27.25 45.75 \nQ 21.046875 45.75 18.09375 43.578125 \nQ 15.140625 41.40625 13.71875 35.890625 \nL 5.125 37.0625 \nQ 6.296875 42.578125 8.984375 45.96875 \nQ 11.671875 49.359375 16.75 51.1875 \nQ 21.828125 53.03125 28.515625 53.03125 \nQ 35.15625 53.03125 39.296875 51.46875 \nQ 43.453125 49.90625 45.40625 47.53125 \nQ 47.359375 45.171875 48.140625 41.546875 \nQ 48.578125 39.3125 48.578125 33.453125 \nL 48.578125 21.734375 \nQ 48.578125 9.46875 49.140625 6.21875 \nQ 49.703125 2.984375 51.375 0 \nL 42.1875 0 \nQ 40.828125 2.734375 40.4375 6.390625 \nz\nM 39.703125 26.03125 \nQ 34.90625 24.078125 25.34375 22.703125 \nQ 19.921875 21.921875 17.671875 20.9375 \nQ 15.4375 19.96875 14.203125 18.09375 \nQ 12.984375 16.21875 12.984375 13.921875 \nQ 12.984375 10.40625 15.640625 8.0625 \nQ 18.3125 5.71875 23.4375 5.71875 \nQ 28.515625 5.71875 32.46875 7.9375 \nQ 36.421875 10.15625 38.28125 14.015625 \nQ 39.703125 17 39.703125 22.796875 \nz\n\" id=\"ArialMT-61\"/>\n      <path d=\"M 40.4375 19 \nL 49.078125 17.875 \nQ 47.65625 8.9375 41.8125 3.875 \nQ 35.984375 -1.171875 27.484375 -1.171875 \nQ 16.84375 -1.171875 10.375 5.78125 \nQ 3.90625 12.75 3.90625 25.734375 \nQ 3.90625 34.125 6.6875 40.421875 \nQ 9.46875 46.734375 15.15625 49.875 \nQ 20.84375 53.03125 27.546875 53.03125 \nQ 35.984375 53.03125 41.359375 48.75 \nQ 46.734375 44.484375 48.25 36.625 \nL 39.703125 35.296875 \nQ 38.484375 40.53125 35.375 43.15625 \nQ 32.28125 45.796875 27.875 45.796875 \nQ 21.234375 45.796875 17.078125 41.03125 \nQ 12.9375 36.28125 12.9375 25.984375 \nQ 12.9375 15.53125 16.9375 10.796875 \nQ 20.953125 6.0625 27.390625 6.0625 \nQ 32.5625 6.0625 36.03125 9.234375 \nQ 39.5 12.40625 40.4375 19 \nz\n\" id=\"ArialMT-63\"/>\n     </defs>\n     <g style=\"fill:#262626;\" transform=\"translate(15.789375 130.673438)rotate(-90)scale(0.12 -0.12)\">\n      <use xlink:href=\"#ArialMT-74\"/>\n      <use x=\"27.783203\" xlink:href=\"#ArialMT-65\"/>\n      <use x=\"83.398438\" xlink:href=\"#ArialMT-73\"/>\n      <use x=\"133.398438\" xlink:href=\"#ArialMT-74\"/>\n      <use x=\"161.181641\" xlink:href=\"#ArialMT-5f\"/>\n      <use x=\"216.796875\" xlink:href=\"#ArialMT-61\"/>\n      <use x=\"272.412109\" xlink:href=\"#ArialMT-63\"/>\n      <use x=\"322.412109\" xlink:href=\"#ArialMT-63\"/>\n     </g>\n    </g>\n   </g>\n   <g id=\"line2d_12\">\n    <path clip-path=\"url(#pbcb573910b)\" d=\"M 59.646193 194.811818 \nL 62.208177 152.120501 \nL 64.77016 134.410453 \nL 67.332144 123.592532 \nL 69.894127 116.829377 \nL 72.456111 111.518121 \nL 75.018094 106.687575 \nL 77.580077 103.697796 \nL 80.142061 101.087112 \nL 82.704044 97.759273 \nL 85.266028 95.750453 \nL 87.828011 92.86815 \nL 90.389995 90.474372 \nL 92.951978 88.272096 \nL 95.513962 85.540258 \nL 98.075945 83.699492 \nL 100.637929 81.454226 \nL 103.199912 79.724844 \nL 105.761896 77.825454 \nL 108.323879 76.228951 \nL 110.885863 74.560146 \nL 113.447846 72.639262 \nL 116.00983 70.81999 \nL 118.571813 68.820942 \nL 121.133796 67.314327 \nL 123.69578 65.819437 \nL 126.257763 64.342135 \nL 128.819747 63.326 \nL 131.38173 61.78812 \nL 133.943714 60.703592 \nL 136.505697 59.429516 \nL 139.067681 58.587297 \nL 141.629664 56.863777 \nL 144.191648 55.833964 \nL 146.753631 54.69863 \nL 149.315615 54.288268 \nL 151.877598 53.115805 \nL 154.439582 52.431869 \nL 157.001565 51.167563 \nL 159.563549 50.305803 \nL 162.125532 49.549565 \nL 164.687515 48.45722 \nL 167.249499 47.958924 \nL 169.811482 47.017046 \nL 172.373466 46.032177 \nL 174.935449 45.645264 \nL 177.497433 45.107886 \nL 180.059416 44.797183 \nL 182.6214 43.933469 \nL 185.183383 43.036535 \nL 187.745367 42.114198 \nL 190.30735 41.893384 \nL 192.869334 41.457619 \nL 195.431317 40.853801 \nL 197.993301 40.115149 \nL 200.555284 39.433167 \nL 203.117268 38.440482 \nL 205.679251 37.779994 \nL 208.241235 37.209396 \nL 210.803218 36.281196 \nL 213.365201 35.773129 \nL 215.927185 35.218164 \nL 218.489168 34.596758 \nL 221.051152 34.227433 \nL 223.613135 33.647064 \nL 226.175119 32.791166 \nL 228.737102 32.865422 \nL 231.299086 32.283099 \nL 233.861069 32.425749 \nL 236.423053 31.667556 \nL 238.985036 31.139948 \nL 241.54702 30.667055 \nL 244.109003 30.119905 \nL 246.670987 29.795524 \nL 249.23297 29.463326 \nL 251.794954 29.584481 \nL 254.356937 29.330447 \nL 256.91892 29.252283 \nL 259.480904 28.74617 \nL 262.042887 28.404202 \nL 264.604871 27.91763 \nL 267.166854 27.685091 \nL 269.728838 27.235647 \nL 272.290821 26.981614 \nL 274.852805 26.418832 \nL 277.414788 26.500904 \nL 279.976772 26.158936 \nL 282.538755 25.519944 \nL 285.100739 25.322579 \nL 287.662722 25.140848 \nL 290.224706 24.746119 \nL 292.786689 24.568295 \nL 295.348673 24.224373 \nL 297.910656 23.431006 \nL 300.472639 23.778837 \nL 303.034623 23.325485 \nL 305.596606 23.020644 \nL 308.15859 22.229232 \nL 310.720573 22.366019 \nL 313.282557 21.848182 \n\" style=\"fill:none;stroke:#4c72b0;stroke-linecap:round;stroke-width:1.5;\"/>\n   </g>\n   <g id=\"line2d_13\">\n    <path clip-path=\"url(#pbcb573910b)\" d=\"M 59.646193 161.100251 \nL 62.208177 139.356735 \nL 64.77016 128.318935 \nL 67.332144 114.940743 \nL 69.894127 109.76974 \nL 72.456111 99.411919 \nL 75.018094 100.107712 \nL 77.580077 98.162656 \nL 80.142061 91.821456 \nL 82.704044 90.761953 \nL 85.266028 91.220544 \nL 87.828011 86.444877 \nL 90.389995 84.563075 \nL 92.951978 82.965915 \nL 95.513962 82.111987 \nL 98.075945 82.886847 \nL 100.637929 76.05543 \nL 103.199912 77.842352 \nL 105.761896 77.273067 \nL 108.323879 74.91686 \nL 110.885863 75.438705 \nL 113.447846 74.584778 \nL 116.00983 74.82198 \nL 118.571813 74.015493 \nL 121.133796 67.184075 \nL 123.69578 67.152449 \nL 126.257763 67.642666 \nL 128.819747 66.314335 \nL 131.38173 64.19533 \nL 133.943714 67.800801 \nL 136.505697 65.729237 \nL 139.067681 61.238212 \nL 141.629664 63.847434 \nL 144.191648 60.684741 \nL 146.753631 60.668927 \nL 149.315615 59.609425 \nL 151.877598 62.202834 \nL 154.439582 59.293156 \nL 157.001565 58.787125 \nL 159.563549 59.008514 \nL 162.125532 57.427167 \nL 164.687515 57.933198 \nL 167.249499 55.055147 \nL 169.811482 55.292349 \nL 172.373466 53.711002 \nL 174.935449 54.754691 \nL 177.497433 55.02352 \nL 180.059416 53.189158 \nL 182.6214 53.394733 \nL 185.183383 52.366858 \nL 187.745367 53.916577 \nL 190.30735 54.406795 \nL 192.869334 54.153779 \nL 195.431317 51.291542 \nL 197.993301 51.0069 \nL 200.555284 52.050588 \nL 203.117268 52.809635 \nL 205.679251 49.156724 \nL 208.241235 48.872082 \nL 210.803218 49.646942 \nL 213.365201 48.872082 \nL 215.927185 48.302797 \nL 218.489168 47.527937 \nL 221.051152 49.599501 \nL 223.613135 46.199606 \nL 226.175119 47.749326 \nL 228.737102 48.018155 \nL 231.299086 48.255357 \nL 233.861069 46.689823 \nL 236.423053 47.970714 \nL 238.985036 45.630321 \nL 241.54702 46.927025 \nL 244.109003 43.258301 \nL 246.670987 44.033161 \nL 249.23297 44.555005 \nL 251.794954 44.555005 \nL 254.356937 44.808021 \nL 256.91892 45.598694 \nL 259.480904 45.07685 \nL 262.042887 42.720643 \nL 264.604871 41.661141 \nL 267.166854 42.198799 \nL 269.728838 47.164227 \nL 272.290821 43.764332 \nL 274.852805 42.70483 \nL 277.414788 41.645328 \nL 279.976772 42.942032 \nL 282.538755 43.969907 \nL 285.100739 42.404374 \nL 287.662722 39.763525 \nL 290.224706 43.669451 \nL 292.786689 39.210054 \nL 295.348673 38.941225 \nL 297.910656 39.716085 \nL 300.472639 41.550447 \nL 303.034623 40.759774 \nL 305.596606 40.490945 \nL 308.15859 40.222116 \nL 310.720573 38.37194 \nL 313.282557 38.118925 \n\" style=\"fill:none;stroke:#dd8452;stroke-linecap:round;stroke-width:1.5;\"/>\n   </g>\n   <g id=\"patch_3\">\n    <path d=\"M 46.964375 203.46 \nL 46.964375 13.2 \n\" style=\"fill:none;stroke:#ffffff;stroke-linecap:square;stroke-linejoin:miter;stroke-width:1.25;\"/>\n   </g>\n   <g id=\"patch_4\">\n    <path d=\"M 325.964375 203.46 \nL 325.964375 13.2 \n\" style=\"fill:none;stroke:#ffffff;stroke-linecap:square;stroke-linejoin:miter;stroke-width:1.25;\"/>\n   </g>\n   <g id=\"patch_5\">\n    <path d=\"M 46.964375 203.46 \nL 325.964375 203.46 \n\" style=\"fill:none;stroke:#ffffff;stroke-linecap:square;stroke-linejoin:miter;stroke-width:1.25;\"/>\n   </g>\n   <g id=\"patch_6\">\n    <path d=\"M 46.964375 13.2 \nL 325.964375 13.2 \n\" style=\"fill:none;stroke:#ffffff;stroke-linecap:square;stroke-linejoin:miter;stroke-width:1.25;\"/>\n   </g>\n   <g id=\"legend_1\">\n    <g id=\"patch_7\">\n     <path d=\"M 54.664375 53.119687 \nL 114.918594 53.119687 \nQ 117.118594 53.119687 117.118594 50.919688 \nL 117.118594 20.9 \nQ 117.118594 18.7 114.918594 18.7 \nL 54.664375 18.7 \nQ 52.464375 18.7 52.464375 20.9 \nL 52.464375 50.919688 \nQ 52.464375 53.119687 54.664375 53.119687 \nz\n\" style=\"fill:#eaeaf2;opacity:0.8;stroke:#cccccc;stroke-linejoin:miter;\"/>\n    </g>\n    <g id=\"line2d_14\">\n     <path d=\"M 56.864375 27.123594 \nL 78.864375 27.123594 \n\" style=\"fill:none;stroke:#4c72b0;stroke-linecap:round;stroke-width:1.5;\"/>\n    </g>\n    <g id=\"line2d_15\"/>\n    <g id=\"text_13\">\n     <!-- Train -->\n     <defs>\n      <path d=\"M 25.921875 0 \nL 25.921875 63.140625 \nL 2.34375 63.140625 \nL 2.34375 71.578125 \nL 59.078125 71.578125 \nL 59.078125 63.140625 \nL 35.40625 63.140625 \nL 35.40625 0 \nz\n\" id=\"ArialMT-54\"/>\n      <path d=\"M 6.5 0 \nL 6.5 51.859375 \nL 14.40625 51.859375 \nL 14.40625 44 \nQ 17.4375 49.515625 20 51.265625 \nQ 22.5625 53.03125 25.640625 53.03125 \nQ 30.078125 53.03125 34.671875 50.203125 \nL 31.640625 42.046875 \nQ 28.421875 43.953125 25.203125 43.953125 \nQ 22.3125 43.953125 20.015625 42.21875 \nQ 17.71875 40.484375 16.75 37.40625 \nQ 15.28125 32.71875 15.28125 27.15625 \nL 15.28125 0 \nz\n\" id=\"ArialMT-72\"/>\n      <path d=\"M 6.640625 61.46875 \nL 6.640625 71.578125 \nL 15.4375 71.578125 \nL 15.4375 61.46875 \nz\nM 6.640625 0 \nL 6.640625 51.859375 \nL 15.4375 51.859375 \nL 15.4375 0 \nz\n\" id=\"ArialMT-69\"/>\n      <path d=\"M 6.59375 0 \nL 6.59375 51.859375 \nL 14.5 51.859375 \nL 14.5 44.484375 \nQ 20.21875 53.03125 31 53.03125 \nQ 35.6875 53.03125 39.625 51.34375 \nQ 43.5625 49.65625 45.515625 46.921875 \nQ 47.46875 44.1875 48.25 40.4375 \nQ 48.734375 37.984375 48.734375 31.890625 \nL 48.734375 0 \nL 39.9375 0 \nL 39.9375 31.546875 \nQ 39.9375 36.921875 38.90625 39.578125 \nQ 37.890625 42.234375 35.28125 43.8125 \nQ 32.671875 45.40625 29.15625 45.40625 \nQ 23.53125 45.40625 19.453125 41.84375 \nQ 15.375 38.28125 15.375 28.328125 \nL 15.375 0 \nz\n\" id=\"ArialMT-6e\"/>\n     </defs>\n     <g style=\"fill:#262626;\" transform=\"translate(87.664375 30.973594)scale(0.11 -0.11)\">\n      <use xlink:href=\"#ArialMT-54\"/>\n      <use x=\"61.037109\" xlink:href=\"#ArialMT-72\"/>\n      <use x=\"94.337891\" xlink:href=\"#ArialMT-61\"/>\n      <use x=\"149.953125\" xlink:href=\"#ArialMT-69\"/>\n      <use x=\"172.169922\" xlink:href=\"#ArialMT-6e\"/>\n     </g>\n    </g>\n    <g id=\"line2d_16\">\n     <path d=\"M 56.864375 42.683437 \nL 78.864375 42.683437 \n\" style=\"fill:none;stroke:#dd8452;stroke-linecap:round;stroke-width:1.5;\"/>\n    </g>\n    <g id=\"line2d_17\"/>\n    <g id=\"text_14\">\n     <!-- Test -->\n     <g style=\"fill:#262626;\" transform=\"translate(87.664375 46.533437)scale(0.11 -0.11)\">\n      <use xlink:href=\"#ArialMT-54\"/>\n      <use x=\"60.912109\" xlink:href=\"#ArialMT-65\"/>\n      <use x=\"116.527344\" xlink:href=\"#ArialMT-73\"/>\n      <use x=\"166.527344\" xlink:href=\"#ArialMT-74\"/>\n     </g>\n    </g>\n   </g>\n  </g>\n </g>\n <defs>\n  <clipPath id=\"pbcb573910b\">\n   <rect height=\"190.26\" width=\"279\" x=\"46.964375\" y=\"13.2\"/>\n  </clipPath>\n </defs>\n</svg>\n",
      "image/png": "[encoded data removed]"
     },
     "metadata": {}
    }
   ],
   "source": [
    "import seaborn as sns\n",
    "import matplotlib.pyplot as plt\n",
    "sns.set()\n",
    "\n",
    "plt.rcParams['figure.figsize'] = (5, 3.5)\n",
    "sns.lineplot(x=performance.index, y=performance.train_acc)\n",
    "sns.lineplot(x=performance.index, y=performance.test_acc)\n",
    "plt.legend([\"Train\", \"Test\"])"
   ]
  },
  {
   "cell_type": "code",
   "execution_count": 48,
   "metadata": {},
   "outputs": [
    {
     "output_type": "execute_result",
     "data": {
      "text/plain": "<matplotlib.legend.Legend at 0x1a503f9048>"
     },
     "metadata": {},
     "execution_count": 48
    },
    {
     "output_type": "display_data",
     "data": {
      "text/plain": "<Figure size 360x252 with 1 Axes>",
      "image/svg+xml": "<?xml version=\"1.0\" encoding=\"utf-8\" standalone=\"no\"?>\n<!DOCTYPE svg PUBLIC \"-//W3C//DTD SVG 1.1//EN\"\n  \"http://www.w3.org/Graphics/SVG/1.1/DTD/svg11.dtd\">\n<!-- Created with matplotlib (http://matplotlib.org/) -->\n<svg height=\"230.219844pt\" version=\"1.1\" viewBox=\"0 0 339.164375 230.219844\" width=\"339.164375pt\" xmlns=\"http://www.w3.org/2000/svg\" xmlns:xlink=\"http://www.w3.org/1999/xlink\">\n <defs>\n  <style type=\"text/css\">\n*{stroke-linecap:butt;stroke-linejoin:round;}\n  </style>\n </defs>\n <g id=\"figure_1\">\n  <g id=\"patch_1\">\n   <path d=\"M 0 230.219844 \nL 339.164375 230.219844 \nL 339.164375 0 \nL 0 0 \nz\n\" style=\"fill:#ffffff;\"/>\n  </g>\n  <g id=\"axes_1\">\n   <g id=\"patch_2\">\n    <path d=\"M 46.964375 203.46 \nL 325.964375 203.46 \nL 325.964375 13.2 \nL 46.964375 13.2 \nz\n\" style=\"fill:#eaeaf2;\"/>\n   </g>\n   <g id=\"matplotlib.axis_1\">\n    <g id=\"xtick_1\">\n     <g id=\"line2d_1\">\n      <path clip-path=\"url(#pb899d8e4c1)\" d=\"M 59.646193 203.46 \nL 59.646193 13.2 \n\" style=\"fill:none;stroke:#ffffff;stroke-linecap:round;\"/>\n     </g>\n     <g id=\"text_1\">\n      <!-- 0 -->\n      <defs>\n       <path d=\"M 4.15625 35.296875 \nQ 4.15625 48 6.765625 55.734375 \nQ 9.375 63.484375 14.515625 67.671875 \nQ 19.671875 71.875 27.484375 71.875 \nQ 33.25 71.875 37.59375 69.546875 \nQ 41.9375 67.234375 44.765625 62.859375 \nQ 47.609375 58.5 49.21875 52.21875 \nQ 50.828125 45.953125 50.828125 35.296875 \nQ 50.828125 22.703125 48.234375 14.96875 \nQ 45.65625 7.234375 40.5 3 \nQ 35.359375 -1.21875 27.484375 -1.21875 \nQ 17.140625 -1.21875 11.234375 6.203125 \nQ 4.15625 15.140625 4.15625 35.296875 \nz\nM 13.1875 35.296875 \nQ 13.1875 17.671875 17.3125 11.828125 \nQ 21.4375 6 27.484375 6 \nQ 33.546875 6 37.671875 11.859375 \nQ 41.796875 17.71875 41.796875 35.296875 \nQ 41.796875 52.984375 37.671875 58.78125 \nQ 33.546875 64.59375 27.390625 64.59375 \nQ 21.34375 64.59375 17.71875 59.46875 \nQ 13.1875 52.9375 13.1875 35.296875 \nz\n\" id=\"ArialMT-30\"/>\n      </defs>\n      <g style=\"fill:#262626;\" transform=\"translate(56.587678 220.833594)scale(0.11 -0.11)\">\n       <use xlink:href=\"#ArialMT-30\"/>\n      </g>\n     </g>\n    </g>\n    <g id=\"xtick_2\">\n     <g id=\"line2d_2\">\n      <path clip-path=\"url(#pb899d8e4c1)\" d=\"M 110.885863 203.46 \nL 110.885863 13.2 \n\" style=\"fill:none;stroke:#ffffff;stroke-linecap:round;\"/>\n     </g>\n     <g id=\"text_2\">\n      <!-- 20 -->\n      <defs>\n       <path d=\"M 50.34375 8.453125 \nL 50.34375 0 \nL 3.03125 0 \nQ 2.9375 3.171875 4.046875 6.109375 \nQ 5.859375 10.9375 9.828125 15.625 \nQ 13.8125 20.3125 21.34375 26.46875 \nQ 33.015625 36.03125 37.109375 41.625 \nQ 41.21875 47.21875 41.21875 52.203125 \nQ 41.21875 57.421875 37.46875 61 \nQ 33.734375 64.59375 27.734375 64.59375 \nQ 21.390625 64.59375 17.578125 60.78125 \nQ 13.765625 56.984375 13.71875 50.25 \nL 4.6875 51.171875 \nQ 5.609375 61.28125 11.65625 66.578125 \nQ 17.71875 71.875 27.9375 71.875 \nQ 38.234375 71.875 44.234375 66.15625 \nQ 50.25 60.453125 50.25 52 \nQ 50.25 47.703125 48.484375 43.546875 \nQ 46.734375 39.40625 42.65625 34.8125 \nQ 38.578125 30.21875 29.109375 22.21875 \nQ 21.1875 15.578125 18.9375 13.203125 \nQ 16.703125 10.84375 15.234375 8.453125 \nz\n\" id=\"ArialMT-32\"/>\n      </defs>\n      <g style=\"fill:#262626;\" transform=\"translate(104.768831 220.833594)scale(0.11 -0.11)\">\n       <use xlink:href=\"#ArialMT-32\"/>\n       <use x=\"55.615234\" xlink:href=\"#ArialMT-30\"/>\n      </g>\n     </g>\n    </g>\n    <g id=\"xtick_3\">\n     <g id=\"line2d_3\">\n      <path clip-path=\"url(#pb899d8e4c1)\" d=\"M 162.125532 203.46 \nL 162.125532 13.2 \n\" style=\"fill:none;stroke:#ffffff;stroke-linecap:round;\"/>\n     </g>\n     <g id=\"text_3\">\n      <!-- 40 -->\n      <defs>\n       <path d=\"M 32.328125 0 \nL 32.328125 17.140625 \nL 1.265625 17.140625 \nL 1.265625 25.203125 \nL 33.9375 71.578125 \nL 41.109375 71.578125 \nL 41.109375 25.203125 \nL 50.78125 25.203125 \nL 50.78125 17.140625 \nL 41.109375 17.140625 \nL 41.109375 0 \nz\nM 32.328125 25.203125 \nL 32.328125 57.46875 \nL 9.90625 25.203125 \nz\n\" id=\"ArialMT-34\"/>\n      </defs>\n      <g style=\"fill:#262626;\" transform=\"translate(156.008501 220.833594)scale(0.11 -0.11)\">\n       <use xlink:href=\"#ArialMT-34\"/>\n       <use x=\"55.615234\" xlink:href=\"#ArialMT-30\"/>\n      </g>\n     </g>\n    </g>\n    <g id=\"xtick_4\">\n     <g id=\"line2d_4\">\n      <path clip-path=\"url(#pb899d8e4c1)\" d=\"M 213.365201 203.46 \nL 213.365201 13.2 \n\" style=\"fill:none;stroke:#ffffff;stroke-linecap:round;\"/>\n     </g>\n     <g id=\"text_4\">\n      <!-- 60 -->\n      <defs>\n       <path d=\"M 49.75 54.046875 \nL 41.015625 53.375 \nQ 39.84375 58.546875 37.703125 60.890625 \nQ 34.125 64.65625 28.90625 64.65625 \nQ 24.703125 64.65625 21.53125 62.3125 \nQ 17.390625 59.28125 14.984375 53.46875 \nQ 12.59375 47.65625 12.5 36.921875 \nQ 15.671875 41.75 20.265625 44.09375 \nQ 24.859375 46.4375 29.890625 46.4375 \nQ 38.671875 46.4375 44.84375 39.96875 \nQ 51.03125 33.5 51.03125 23.25 \nQ 51.03125 16.5 48.125 10.71875 \nQ 45.21875 4.9375 40.140625 1.859375 \nQ 35.0625 -1.21875 28.609375 -1.21875 \nQ 17.625 -1.21875 10.6875 6.859375 \nQ 3.765625 14.9375 3.765625 33.5 \nQ 3.765625 54.25 11.421875 63.671875 \nQ 18.109375 71.875 29.4375 71.875 \nQ 37.890625 71.875 43.28125 67.140625 \nQ 48.6875 62.40625 49.75 54.046875 \nz\nM 13.875 23.1875 \nQ 13.875 18.65625 15.796875 14.5 \nQ 17.71875 10.359375 21.1875 8.171875 \nQ 24.65625 6 28.46875 6 \nQ 34.03125 6 38.03125 10.484375 \nQ 42.046875 14.984375 42.046875 22.703125 \nQ 42.046875 30.125 38.078125 34.390625 \nQ 34.125 38.671875 28.125 38.671875 \nQ 22.171875 38.671875 18.015625 34.390625 \nQ 13.875 30.125 13.875 23.1875 \nz\n\" id=\"ArialMT-36\"/>\n      </defs>\n      <g style=\"fill:#262626;\" transform=\"translate(207.24817 220.833594)scale(0.11 -0.11)\">\n       <use xlink:href=\"#ArialMT-36\"/>\n       <use x=\"55.615234\" xlink:href=\"#ArialMT-30\"/>\n      </g>\n     </g>\n    </g>\n    <g id=\"xtick_5\">\n     <g id=\"line2d_5\">\n      <path clip-path=\"url(#pb899d8e4c1)\" d=\"M 264.604871 203.46 \nL 264.604871 13.2 \n\" style=\"fill:none;stroke:#ffffff;stroke-linecap:round;\"/>\n     </g>\n     <g id=\"text_5\">\n      <!-- 80 -->\n      <defs>\n       <path d=\"M 17.671875 38.8125 \nQ 12.203125 40.828125 9.5625 44.53125 \nQ 6.9375 48.25 6.9375 53.421875 \nQ 6.9375 61.234375 12.546875 66.546875 \nQ 18.171875 71.875 27.484375 71.875 \nQ 36.859375 71.875 42.578125 66.421875 \nQ 48.296875 60.984375 48.296875 53.171875 \nQ 48.296875 48.1875 45.671875 44.5 \nQ 43.0625 40.828125 37.75 38.8125 \nQ 44.34375 36.671875 47.78125 31.875 \nQ 51.21875 27.09375 51.21875 20.453125 \nQ 51.21875 11.28125 44.71875 5.03125 \nQ 38.234375 -1.21875 27.640625 -1.21875 \nQ 17.046875 -1.21875 10.546875 5.046875 \nQ 4.046875 11.328125 4.046875 20.703125 \nQ 4.046875 27.6875 7.59375 32.390625 \nQ 11.140625 37.109375 17.671875 38.8125 \nz\nM 15.921875 53.71875 \nQ 15.921875 48.640625 19.1875 45.40625 \nQ 22.46875 42.1875 27.6875 42.1875 \nQ 32.765625 42.1875 36.015625 45.375 \nQ 39.265625 48.578125 39.265625 53.21875 \nQ 39.265625 58.0625 35.90625 61.359375 \nQ 32.5625 64.65625 27.59375 64.65625 \nQ 22.5625 64.65625 19.234375 61.421875 \nQ 15.921875 58.203125 15.921875 53.71875 \nz\nM 13.09375 20.65625 \nQ 13.09375 16.890625 14.875 13.375 \nQ 16.65625 9.859375 20.171875 7.921875 \nQ 23.6875 6 27.734375 6 \nQ 34.03125 6 38.125 10.046875 \nQ 42.234375 14.109375 42.234375 20.359375 \nQ 42.234375 26.703125 38.015625 30.859375 \nQ 33.796875 35.015625 27.4375 35.015625 \nQ 21.234375 35.015625 17.15625 30.90625 \nQ 13.09375 26.8125 13.09375 20.65625 \nz\n\" id=\"ArialMT-38\"/>\n      </defs>\n      <g style=\"fill:#262626;\" transform=\"translate(258.48784 220.833594)scale(0.11 -0.11)\">\n       <use xlink:href=\"#ArialMT-38\"/>\n       <use x=\"55.615234\" xlink:href=\"#ArialMT-30\"/>\n      </g>\n     </g>\n    </g>\n    <g id=\"xtick_6\">\n     <g id=\"line2d_6\">\n      <path clip-path=\"url(#pb899d8e4c1)\" d=\"M 315.84454 203.46 \nL 315.84454 13.2 \n\" style=\"fill:none;stroke:#ffffff;stroke-linecap:round;\"/>\n     </g>\n     <g id=\"text_6\">\n      <!-- 100 -->\n      <defs>\n       <path d=\"M 37.25 0 \nL 28.46875 0 \nL 28.46875 56 \nQ 25.296875 52.984375 20.140625 49.953125 \nQ 14.984375 46.921875 10.890625 45.40625 \nL 10.890625 53.90625 \nQ 18.265625 57.375 23.78125 62.296875 \nQ 29.296875 67.234375 31.59375 71.875 \nL 37.25 71.875 \nz\n\" id=\"ArialMT-31\"/>\n      </defs>\n      <g style=\"fill:#262626;\" transform=\"translate(306.668993 220.833594)scale(0.11 -0.11)\">\n       <use xlink:href=\"#ArialMT-31\"/>\n       <use x=\"55.615234\" xlink:href=\"#ArialMT-30\"/>\n       <use x=\"111.230469\" xlink:href=\"#ArialMT-30\"/>\n      </g>\n     </g>\n    </g>\n   </g>\n   <g id=\"matplotlib.axis_2\">\n    <g id=\"ytick_1\">\n     <g id=\"line2d_7\">\n      <path clip-path=\"url(#pb899d8e4c1)\" d=\"M 46.964375 201.87039 \nL 325.964375 201.87039 \n\" style=\"fill:none;stroke:#ffffff;stroke-linecap:round;\"/>\n     </g>\n     <g id=\"text_7\">\n      <!-- 0.4 -->\n      <defs>\n       <path d=\"M 9.078125 0 \nL 9.078125 10.015625 \nL 19.09375 10.015625 \nL 19.09375 0 \nz\n\" id=\"ArialMT-2e\"/>\n      </defs>\n      <g style=\"fill:#262626;\" transform=\"translate(22.174375 205.807187)scale(0.11 -0.11)\">\n       <use xlink:href=\"#ArialMT-30\"/>\n       <use x=\"55.615234\" xlink:href=\"#ArialMT-2e\"/>\n       <use x=\"83.398438\" xlink:href=\"#ArialMT-34\"/>\n      </g>\n     </g>\n    </g>\n    <g id=\"ytick_2\">\n     <g id=\"line2d_8\">\n      <path clip-path=\"url(#pb899d8e4c1)\" d=\"M 46.964375 170.6059 \nL 325.964375 170.6059 \n\" style=\"fill:none;stroke:#ffffff;stroke-linecap:round;\"/>\n     </g>\n     <g id=\"text_8\">\n      <!-- 0.6 -->\n      <g style=\"fill:#262626;\" transform=\"translate(22.174375 174.542696)scale(0.11 -0.11)\">\n       <use xlink:href=\"#ArialMT-30\"/>\n       <use x=\"55.615234\" xlink:href=\"#ArialMT-2e\"/>\n       <use x=\"83.398438\" xlink:href=\"#ArialMT-36\"/>\n      </g>\n     </g>\n    </g>\n    <g id=\"ytick_3\">\n     <g id=\"line2d_9\">\n      <path clip-path=\"url(#pb899d8e4c1)\" d=\"M 46.964375 139.341409 \nL 325.964375 139.341409 \n\" style=\"fill:none;stroke:#ffffff;stroke-linecap:round;\"/>\n     </g>\n     <g id=\"text_9\">\n      <!-- 0.8 -->\n      <g style=\"fill:#262626;\" transform=\"translate(22.174375 143.278206)scale(0.11 -0.11)\">\n       <use xlink:href=\"#ArialMT-30\"/>\n       <use x=\"55.615234\" xlink:href=\"#ArialMT-2e\"/>\n       <use x=\"83.398438\" xlink:href=\"#ArialMT-38\"/>\n      </g>\n     </g>\n    </g>\n    <g id=\"ytick_4\">\n     <g id=\"line2d_10\">\n      <path clip-path=\"url(#pb899d8e4c1)\" d=\"M 46.964375 108.076918 \nL 325.964375 108.076918 \n\" style=\"fill:none;stroke:#ffffff;stroke-linecap:round;\"/>\n     </g>\n     <g id=\"text_10\">\n      <!-- 1.0 -->\n      <g style=\"fill:#262626;\" transform=\"translate(22.174375 112.013715)scale(0.11 -0.11)\">\n       <use xlink:href=\"#ArialMT-31\"/>\n       <use x=\"55.615234\" xlink:href=\"#ArialMT-2e\"/>\n       <use x=\"83.398438\" xlink:href=\"#ArialMT-30\"/>\n      </g>\n     </g>\n    </g>\n    <g id=\"ytick_5\">\n     <g id=\"line2d_11\">\n      <path clip-path=\"url(#pb899d8e4c1)\" d=\"M 46.964375 76.812427 \nL 325.964375 76.812427 \n\" style=\"fill:none;stroke:#ffffff;stroke-linecap:round;\"/>\n     </g>\n     <g id=\"text_11\">\n      <!-- 1.2 -->\n      <g style=\"fill:#262626;\" transform=\"translate(22.174375 80.749224)scale(0.11 -0.11)\">\n       <use xlink:href=\"#ArialMT-31\"/>\n       <use x=\"55.615234\" xlink:href=\"#ArialMT-2e\"/>\n       <use x=\"83.398438\" xlink:href=\"#ArialMT-32\"/>\n      </g>\n     </g>\n    </g>\n    <g id=\"ytick_6\">\n     <g id=\"line2d_12\">\n      <path clip-path=\"url(#pb899d8e4c1)\" d=\"M 46.964375 45.547936 \nL 325.964375 45.547936 \n\" style=\"fill:none;stroke:#ffffff;stroke-linecap:round;\"/>\n     </g>\n     <g id=\"text_12\">\n      <!-- 1.4 -->\n      <g style=\"fill:#262626;\" transform=\"translate(22.174375 49.484733)scale(0.11 -0.11)\">\n       <use xlink:href=\"#ArialMT-31\"/>\n       <use x=\"55.615234\" xlink:href=\"#ArialMT-2e\"/>\n       <use x=\"83.398438\" xlink:href=\"#ArialMT-34\"/>\n      </g>\n     </g>\n    </g>\n    <g id=\"ytick_7\">\n     <g id=\"line2d_13\">\n      <path clip-path=\"url(#pb899d8e4c1)\" d=\"M 46.964375 14.283445 \nL 325.964375 14.283445 \n\" style=\"fill:none;stroke:#ffffff;stroke-linecap:round;\"/>\n     </g>\n     <g id=\"text_13\">\n      <!-- 1.6 -->\n      <g style=\"fill:#262626;\" transform=\"translate(22.174375 18.220242)scale(0.11 -0.11)\">\n       <use xlink:href=\"#ArialMT-31\"/>\n       <use x=\"55.615234\" xlink:href=\"#ArialMT-2e\"/>\n       <use x=\"83.398438\" xlink:href=\"#ArialMT-36\"/>\n      </g>\n     </g>\n    </g>\n    <g id=\"text_14\">\n     <!-- test_loss -->\n     <defs>\n      <path d=\"M 25.78125 7.859375 \nL 27.046875 0.09375 \nQ 23.34375 -0.6875 20.40625 -0.6875 \nQ 15.625 -0.6875 12.984375 0.828125 \nQ 10.359375 2.34375 9.28125 4.8125 \nQ 8.203125 7.28125 8.203125 15.1875 \nL 8.203125 45.015625 \nL 1.765625 45.015625 \nL 1.765625 51.859375 \nL 8.203125 51.859375 \nL 8.203125 64.703125 \nL 16.9375 69.96875 \nL 16.9375 51.859375 \nL 25.78125 51.859375 \nL 25.78125 45.015625 \nL 16.9375 45.015625 \nL 16.9375 14.703125 \nQ 16.9375 10.9375 17.40625 9.859375 \nQ 17.875 8.796875 18.921875 8.15625 \nQ 19.96875 7.515625 21.921875 7.515625 \nQ 23.390625 7.515625 25.78125 7.859375 \nz\n\" id=\"ArialMT-74\"/>\n      <path d=\"M 42.09375 16.703125 \nL 51.171875 15.578125 \nQ 49.03125 7.625 43.21875 3.21875 \nQ 37.40625 -1.171875 28.375 -1.171875 \nQ 17 -1.171875 10.328125 5.828125 \nQ 3.65625 12.84375 3.65625 25.484375 \nQ 3.65625 38.578125 10.390625 45.796875 \nQ 17.140625 53.03125 27.875 53.03125 \nQ 38.28125 53.03125 44.875 45.953125 \nQ 51.46875 38.875 51.46875 26.03125 \nQ 51.46875 25.25 51.421875 23.6875 \nL 12.75 23.6875 \nQ 13.234375 15.140625 17.578125 10.59375 \nQ 21.921875 6.0625 28.421875 6.0625 \nQ 33.25 6.0625 36.671875 8.59375 \nQ 40.09375 11.140625 42.09375 16.703125 \nz\nM 13.234375 30.90625 \nL 42.1875 30.90625 \nQ 41.609375 37.453125 38.875 40.71875 \nQ 34.671875 45.796875 27.984375 45.796875 \nQ 21.921875 45.796875 17.796875 41.75 \nQ 13.671875 37.703125 13.234375 30.90625 \nz\n\" id=\"ArialMT-65\"/>\n      <path d=\"M 3.078125 15.484375 \nL 11.765625 16.84375 \nQ 12.5 11.625 15.84375 8.84375 \nQ 19.1875 6.0625 25.203125 6.0625 \nQ 31.25 6.0625 34.171875 8.515625 \nQ 37.109375 10.984375 37.109375 14.3125 \nQ 37.109375 17.28125 34.515625 19 \nQ 32.71875 20.171875 25.53125 21.96875 \nQ 15.875 24.421875 12.140625 26.203125 \nQ 8.40625 27.984375 6.46875 31.125 \nQ 4.546875 34.28125 4.546875 38.09375 \nQ 4.546875 41.546875 6.125 44.5 \nQ 7.71875 47.46875 10.453125 49.421875 \nQ 12.5 50.921875 16.03125 51.96875 \nQ 19.578125 53.03125 23.640625 53.03125 \nQ 29.734375 53.03125 34.34375 51.265625 \nQ 38.96875 49.515625 41.15625 46.5 \nQ 43.359375 43.5 44.1875 38.484375 \nL 35.59375 37.3125 \nQ 35.015625 41.3125 32.203125 43.546875 \nQ 29.390625 45.796875 24.265625 45.796875 \nQ 18.21875 45.796875 15.625 43.796875 \nQ 13.03125 41.796875 13.03125 39.109375 \nQ 13.03125 37.40625 14.109375 36.03125 \nQ 15.1875 34.625 17.484375 33.6875 \nQ 18.796875 33.203125 25.25 31.453125 \nQ 34.578125 28.953125 38.25 27.359375 \nQ 41.9375 25.78125 44.03125 22.75 \nQ 46.140625 19.734375 46.140625 15.234375 \nQ 46.140625 10.84375 43.578125 6.953125 \nQ 41.015625 3.078125 36.171875 0.953125 \nQ 31.34375 -1.171875 25.25 -1.171875 \nQ 15.140625 -1.171875 9.84375 3.03125 \nQ 4.546875 7.234375 3.078125 15.484375 \nz\n\" id=\"ArialMT-73\"/>\n      <path d=\"M -1.515625 -19.875 \nL -1.515625 -13.53125 \nL 56.734375 -13.53125 \nL 56.734375 -19.875 \nz\n\" id=\"ArialMT-5f\"/>\n      <path d=\"M 6.390625 0 \nL 6.390625 71.578125 \nL 15.1875 71.578125 \nL 15.1875 0 \nz\n\" id=\"ArialMT-6c\"/>\n      <path d=\"M 3.328125 25.921875 \nQ 3.328125 40.328125 11.328125 47.265625 \nQ 18.015625 53.03125 27.640625 53.03125 \nQ 38.328125 53.03125 45.109375 46.015625 \nQ 51.90625 39.015625 51.90625 26.65625 \nQ 51.90625 16.65625 48.90625 10.90625 \nQ 45.90625 5.171875 40.15625 2 \nQ 34.421875 -1.171875 27.640625 -1.171875 \nQ 16.75 -1.171875 10.03125 5.8125 \nQ 3.328125 12.796875 3.328125 25.921875 \nz\nM 12.359375 25.921875 \nQ 12.359375 15.96875 16.703125 11.015625 \nQ 21.046875 6.0625 27.640625 6.0625 \nQ 34.1875 6.0625 38.53125 11.03125 \nQ 42.875 16.015625 42.875 26.21875 \nQ 42.875 35.84375 38.5 40.796875 \nQ 34.125 45.75 27.640625 45.75 \nQ 21.046875 45.75 16.703125 40.8125 \nQ 12.359375 35.890625 12.359375 25.921875 \nz\n\" id=\"ArialMT-6f\"/>\n     </defs>\n     <g style=\"fill:#262626;\" transform=\"translate(15.789375 132.006563)rotate(-90)scale(0.12 -0.12)\">\n      <use xlink:href=\"#ArialMT-74\"/>\n      <use x=\"27.783203\" xlink:href=\"#ArialMT-65\"/>\n      <use x=\"83.398438\" xlink:href=\"#ArialMT-73\"/>\n      <use x=\"133.398438\" xlink:href=\"#ArialMT-74\"/>\n      <use x=\"161.181641\" xlink:href=\"#ArialMT-5f\"/>\n      <use x=\"216.796875\" xlink:href=\"#ArialMT-6c\"/>\n      <use x=\"239.013672\" xlink:href=\"#ArialMT-6f\"/>\n      <use x=\"294.628906\" xlink:href=\"#ArialMT-73\"/>\n      <use x=\"344.628906\" xlink:href=\"#ArialMT-73\"/>\n     </g>\n    </g>\n   </g>\n   <g id=\"line2d_14\">\n    <path clip-path=\"url(#pb899d8e4c1)\" d=\"M 59.646193 21.848182 \nL 62.208177 59.501027 \nL 64.77016 73.674859 \nL 67.332144 83.222267 \nL 69.894127 90.330427 \nL 72.456111 96.245411 \nL 75.018094 101.400706 \nL 77.580077 105.864613 \nL 80.142061 109.81325 \nL 82.704044 113.408149 \nL 85.266028 116.861034 \nL 87.828011 120.033154 \nL 90.389995 122.820357 \nL 92.951978 125.557117 \nL 95.513962 128.007466 \nL 98.075945 130.444386 \nL 100.637929 132.769896 \nL 103.199912 134.928904 \nL 105.761896 136.945561 \nL 108.323879 138.974328 \nL 110.885863 140.787561 \nL 113.447846 142.506637 \nL 116.00983 144.344788 \nL 118.571813 145.861205 \nL 121.133796 147.444937 \nL 123.69578 149.054102 \nL 126.257763 150.495271 \nL 128.819747 151.78857 \nL 131.38173 153.184104 \nL 133.943714 154.440326 \nL 136.505697 155.669743 \nL 139.067681 156.975666 \nL 141.629664 158.084623 \nL 144.191648 159.133095 \nL 146.753631 160.322218 \nL 149.315615 161.336639 \nL 151.877598 162.402803 \nL 154.439582 163.376943 \nL 157.001565 164.368166 \nL 159.563549 165.193952 \nL 162.125532 166.156264 \nL 164.687515 167.028352 \nL 167.249499 167.872675 \nL 169.811482 168.722961 \nL 172.373466 169.558572 \nL 174.935449 170.327754 \nL 177.497433 171.005754 \nL 180.059416 171.69575 \nL 182.6214 172.485081 \nL 185.183383 173.282291 \nL 187.745367 173.956979 \nL 190.30735 174.537897 \nL 192.869334 175.176818 \nL 195.431317 175.873895 \nL 197.993301 176.518431 \nL 200.555284 177.057007 \nL 203.117268 177.701851 \nL 205.679251 178.279329 \nL 208.241235 178.814172 \nL 210.803218 179.410997 \nL 213.365201 179.93252 \nL 215.927185 180.464524 \nL 218.489168 181.08107 \nL 221.051152 181.518985 \nL 223.613135 181.907609 \nL 226.175119 182.435771 \nL 228.737102 182.847944 \nL 231.299086 183.368358 \nL 233.861069 183.905921 \nL 236.423053 184.4097 \nL 238.985036 184.856118 \nL 241.54702 185.190081 \nL 244.109003 185.663274 \nL 246.670987 186.077791 \nL 249.23297 186.487193 \nL 251.794954 186.87116 \nL 254.356937 187.289008 \nL 256.91892 187.639499 \nL 259.480904 188.006687 \nL 262.042887 188.517955 \nL 264.604871 188.816307 \nL 267.166854 189.134406 \nL 269.728838 189.539176 \nL 272.290821 189.87369 \nL 274.852805 190.237904 \nL 277.414788 190.482992 \nL 279.976772 190.91679 \nL 282.538755 191.257107 \nL 285.100739 191.571143 \nL 287.662722 191.907742 \nL 290.224706 192.154346 \nL 292.786689 192.460137 \nL 295.348673 192.767768 \nL 297.910656 193.150611 \nL 300.472639 193.337645 \nL 303.034623 193.66509 \nL 305.596606 193.969775 \nL 308.15859 194.325099 \nL 310.720573 194.506781 \nL 313.282557 194.811818 \n\" style=\"fill:none;stroke:#4c72b0;stroke-linecap:round;stroke-width:1.5;\"/>\n   </g>\n   <g id=\"line2d_15\">\n    <path clip-path=\"url(#pb899d8e4c1)\" d=\"M 59.646193 55.235448 \nL 62.208177 74.950992 \nL 64.77016 86.126614 \nL 67.332144 94.403764 \nL 69.894127 98.595758 \nL 72.456111 104.424261 \nL 75.018094 107.004857 \nL 77.580077 109.331384 \nL 80.142061 113.527638 \nL 82.704044 118.134388 \nL 85.266028 118.045305 \nL 87.828011 123.366693 \nL 90.389995 125.610702 \nL 92.951978 127.185161 \nL 95.513962 128.757202 \nL 98.075945 129.668806 \nL 100.637929 136.033945 \nL 103.199912 134.72526 \nL 105.761896 137.303418 \nL 108.323879 139.881307 \nL 110.885863 140.737899 \nL 113.447846 140.002208 \nL 116.00983 139.746448 \nL 118.571813 143.123857 \nL 121.133796 147.198526 \nL 123.69578 146.298891 \nL 126.257763 146.554159 \nL 128.819747 148.651665 \nL 131.38173 150.76437 \nL 133.943714 147.669787 \nL 136.505697 150.591498 \nL 139.067681 153.477556 \nL 141.629664 151.382238 \nL 144.191648 154.468013 \nL 146.753631 155.327621 \nL 149.315615 155.448303 \nL 151.877598 154.385248 \nL 154.439582 154.827702 \nL 157.001565 158.559538 \nL 159.563549 156.977496 \nL 162.125532 159.39437 \nL 164.687515 158.867892 \nL 167.249499 161.322422 \nL 169.811482 161.307352 \nL 172.373466 160.501078 \nL 174.935449 161.367453 \nL 177.497433 162.170874 \nL 180.059416 163.774197 \nL 182.6214 164.062642 \nL 185.183383 163.879915 \nL 187.745367 162.037601 \nL 190.30735 162.607495 \nL 192.869334 163.634385 \nL 195.431317 166.082092 \nL 197.993301 167.368968 \nL 200.555284 166.110641 \nL 203.117268 166.973763 \nL 205.679251 168.800087 \nL 208.241235 169.265976 \nL 210.803218 168.791038 \nL 213.365201 169.975678 \nL 215.927185 168.298815 \nL 218.489168 170.668512 \nL 221.051152 168.767954 \nL 223.613135 171.282539 \nL 226.175119 171.131172 \nL 228.737102 169.642888 \nL 231.299086 170.997332 \nL 233.861069 171.44378 \nL 236.423053 169.715628 \nL 238.985036 172.712738 \nL 241.54702 171.031843 \nL 244.109003 173.903587 \nL 246.670987 173.846787 \nL 249.23297 174.353401 \nL 251.794954 173.50549 \nL 254.356937 173.549508 \nL 256.91892 174.637423 \nL 259.480904 173.702242 \nL 262.042887 176.667048 \nL 264.604871 177.052998 \nL 267.166854 176.564719 \nL 269.728838 175.056104 \nL 272.290821 177.020807 \nL 274.852805 177.789813 \nL 277.414788 178.353015 \nL 279.976772 176.587854 \nL 282.538755 175.722213 \nL 285.100739 178.009296 \nL 287.662722 178.686125 \nL 290.224706 175.064202 \nL 292.786689 179.074584 \nL 295.348673 178.864241 \nL 297.910656 178.768936 \nL 300.472639 177.949055 \nL 303.034623 177.596775 \nL 305.596606 178.699921 \nL 308.15859 178.675278 \nL 310.720573 179.28455 \nL 313.282557 179.746241 \n\" style=\"fill:none;stroke:#dd8452;stroke-linecap:round;stroke-width:1.5;\"/>\n   </g>\n   <g id=\"patch_3\">\n    <path d=\"M 46.964375 203.46 \nL 46.964375 13.2 \n\" style=\"fill:none;stroke:#ffffff;stroke-linecap:square;stroke-linejoin:miter;stroke-width:1.25;\"/>\n   </g>\n   <g id=\"patch_4\">\n    <path d=\"M 325.964375 203.46 \nL 325.964375 13.2 \n\" style=\"fill:none;stroke:#ffffff;stroke-linecap:square;stroke-linejoin:miter;stroke-width:1.25;\"/>\n   </g>\n   <g id=\"patch_5\">\n    <path d=\"M 46.964375 203.46 \nL 325.964375 203.46 \n\" style=\"fill:none;stroke:#ffffff;stroke-linecap:square;stroke-linejoin:miter;stroke-width:1.25;\"/>\n   </g>\n   <g id=\"patch_6\">\n    <path d=\"M 46.964375 13.2 \nL 325.964375 13.2 \n\" style=\"fill:none;stroke:#ffffff;stroke-linecap:square;stroke-linejoin:miter;stroke-width:1.25;\"/>\n   </g>\n   <g id=\"legend_1\">\n    <g id=\"patch_7\">\n     <path d=\"M 258.010156 53.119687 \nL 318.264375 53.119687 \nQ 320.464375 53.119687 320.464375 50.919688 \nL 320.464375 20.9 \nQ 320.464375 18.7 318.264375 18.7 \nL 258.010156 18.7 \nQ 255.810156 18.7 255.810156 20.9 \nL 255.810156 50.919688 \nQ 255.810156 53.119687 258.010156 53.119687 \nz\n\" style=\"fill:#eaeaf2;opacity:0.8;stroke:#cccccc;stroke-linejoin:miter;\"/>\n    </g>\n    <g id=\"line2d_16\">\n     <path d=\"M 260.210156 27.123594 \nL 282.210156 27.123594 \n\" style=\"fill:none;stroke:#4c72b0;stroke-linecap:round;stroke-width:1.5;\"/>\n    </g>\n    <g id=\"line2d_17\"/>\n    <g id=\"text_15\">\n     <!-- Train -->\n     <defs>\n      <path d=\"M 25.921875 0 \nL 25.921875 63.140625 \nL 2.34375 63.140625 \nL 2.34375 71.578125 \nL 59.078125 71.578125 \nL 59.078125 63.140625 \nL 35.40625 63.140625 \nL 35.40625 0 \nz\n\" id=\"ArialMT-54\"/>\n      <path d=\"M 6.5 0 \nL 6.5 51.859375 \nL 14.40625 51.859375 \nL 14.40625 44 \nQ 17.4375 49.515625 20 51.265625 \nQ 22.5625 53.03125 25.640625 53.03125 \nQ 30.078125 53.03125 34.671875 50.203125 \nL 31.640625 42.046875 \nQ 28.421875 43.953125 25.203125 43.953125 \nQ 22.3125 43.953125 20.015625 42.21875 \nQ 17.71875 40.484375 16.75 37.40625 \nQ 15.28125 32.71875 15.28125 27.15625 \nL 15.28125 0 \nz\n\" id=\"ArialMT-72\"/>\n      <path d=\"M 40.4375 6.390625 \nQ 35.546875 2.25 31.03125 0.53125 \nQ 26.515625 -1.171875 21.34375 -1.171875 \nQ 12.796875 -1.171875 8.203125 3 \nQ 3.609375 7.171875 3.609375 13.671875 \nQ 3.609375 17.484375 5.34375 20.625 \nQ 7.078125 23.78125 9.890625 25.6875 \nQ 12.703125 27.59375 16.21875 28.5625 \nQ 18.796875 29.25 24.03125 29.890625 \nQ 34.671875 31.15625 39.703125 32.90625 \nQ 39.75 34.71875 39.75 35.203125 \nQ 39.75 40.578125 37.25 42.78125 \nQ 33.890625 45.75 27.25 45.75 \nQ 21.046875 45.75 18.09375 43.578125 \nQ 15.140625 41.40625 13.71875 35.890625 \nL 5.125 37.0625 \nQ 6.296875 42.578125 8.984375 45.96875 \nQ 11.671875 49.359375 16.75 51.1875 \nQ 21.828125 53.03125 28.515625 53.03125 \nQ 35.15625 53.03125 39.296875 51.46875 \nQ 43.453125 49.90625 45.40625 47.53125 \nQ 47.359375 45.171875 48.140625 41.546875 \nQ 48.578125 39.3125 48.578125 33.453125 \nL 48.578125 21.734375 \nQ 48.578125 9.46875 49.140625 6.21875 \nQ 49.703125 2.984375 51.375 0 \nL 42.1875 0 \nQ 40.828125 2.734375 40.4375 6.390625 \nz\nM 39.703125 26.03125 \nQ 34.90625 24.078125 25.34375 22.703125 \nQ 19.921875 21.921875 17.671875 20.9375 \nQ 15.4375 19.96875 14.203125 18.09375 \nQ 12.984375 16.21875 12.984375 13.921875 \nQ 12.984375 10.40625 15.640625 8.0625 \nQ 18.3125 5.71875 23.4375 5.71875 \nQ 28.515625 5.71875 32.46875 7.9375 \nQ 36.421875 10.15625 38.28125 14.015625 \nQ 39.703125 17 39.703125 22.796875 \nz\n\" id=\"ArialMT-61\"/>\n      <path d=\"M 6.640625 61.46875 \nL 6.640625 71.578125 \nL 15.4375 71.578125 \nL 15.4375 61.46875 \nz\nM 6.640625 0 \nL 6.640625 51.859375 \nL 15.4375 51.859375 \nL 15.4375 0 \nz\n\" id=\"ArialMT-69\"/>\n      <path d=\"M 6.59375 0 \nL 6.59375 51.859375 \nL 14.5 51.859375 \nL 14.5 44.484375 \nQ 20.21875 53.03125 31 53.03125 \nQ 35.6875 53.03125 39.625 51.34375 \nQ 43.5625 49.65625 45.515625 46.921875 \nQ 47.46875 44.1875 48.25 40.4375 \nQ 48.734375 37.984375 48.734375 31.890625 \nL 48.734375 0 \nL 39.9375 0 \nL 39.9375 31.546875 \nQ 39.9375 36.921875 38.90625 39.578125 \nQ 37.890625 42.234375 35.28125 43.8125 \nQ 32.671875 45.40625 29.15625 45.40625 \nQ 23.53125 45.40625 19.453125 41.84375 \nQ 15.375 38.28125 15.375 28.328125 \nL 15.375 0 \nz\n\" id=\"ArialMT-6e\"/>\n     </defs>\n     <g style=\"fill:#262626;\" transform=\"translate(291.010156 30.973594)scale(0.11 -0.11)\">\n      <use xlink:href=\"#ArialMT-54\"/>\n      <use x=\"61.037109\" xlink:href=\"#ArialMT-72\"/>\n      <use x=\"94.337891\" xlink:href=\"#ArialMT-61\"/>\n      <use x=\"149.953125\" xlink:href=\"#ArialMT-69\"/>\n      <use x=\"172.169922\" xlink:href=\"#ArialMT-6e\"/>\n     </g>\n    </g>\n    <g id=\"line2d_18\">\n     <path d=\"M 260.210156 42.683437 \nL 282.210156 42.683437 \n\" style=\"fill:none;stroke:#dd8452;stroke-linecap:round;stroke-width:1.5;\"/>\n    </g>\n    <g id=\"line2d_19\"/>\n    <g id=\"text_16\">\n     <!-- Test -->\n     <g style=\"fill:#262626;\" transform=\"translate(291.010156 46.533437)scale(0.11 -0.11)\">\n      <use xlink:href=\"#ArialMT-54\"/>\n      <use x=\"60.912109\" xlink:href=\"#ArialMT-65\"/>\n      <use x=\"116.527344\" xlink:href=\"#ArialMT-73\"/>\n      <use x=\"166.527344\" xlink:href=\"#ArialMT-74\"/>\n     </g>\n    </g>\n   </g>\n  </g>\n </g>\n <defs>\n  <clipPath id=\"pb899d8e4c1\">\n   <rect height=\"190.26\" width=\"279\" x=\"46.964375\" y=\"13.2\"/>\n  </clipPath>\n </defs>\n</svg>\n",
      "image/png": "[encoded data removed]"
     },
     "metadata": {}
    }
   ],
   "source": [
    "plt.rcParams['figure.figsize'] = (5, 3.5)\n",
    "sns.lineplot(x=performance.index, y=performance.train_loss)\n",
    "sns.lineplot(x=performance.index, y=performance.test_loss)\n",
    "plt.legend([\"Train\", \"Test\"])"
   ]
  },
  {
   "cell_type": "markdown",
   "metadata": {},
   "source": [
    "## 76. チェックポイント\n",
    "\n",
    "問題75のコードを改変し，各エポックのパラメータ更新が完了するたびに，チェックポイント（学習途中のパラメータ（重み行列など）の値や最適化アルゴリズムの内部状態）をファイルに書き出せ．"
   ]
  },
  {
   "cell_type": "code",
   "execution_count": 49,
   "metadata": {},
   "outputs": [
    {
     "output_type": "execute_result",
     "data": {
      "text/plain": "device(type='cpu')"
     },
     "metadata": {},
     "execution_count": 49
    }
   ],
   "source": []
  },
  {
   "cell_type": "markdown",
   "metadata": {},
   "source": [
    "## 77. ミニバッチ化\n",
    "\n",
    "問題76のコードを改変し，B事例ごとに損失・勾配を計算し，行列Wの値を更新せよ（ミニバッチ化）．Bの値を1,2,4,8,…と変化させながら，1エポックの学習に要する時間を比較せよ．"
   ]
  },
  {
   "cell_type": "code",
   "execution_count": 53,
   "metadata": {},
   "outputs": [
    {
     "output_type": "execute_result",
     "data": {
      "text/plain": "    Batch_size      Time\n0            1  5.017787\n1            2  2.645120\n2            4  1.343209\n3            8  0.818023\n4           16  0.585411\n5           32  0.412479\n6           64  0.338303\n7          128  0.274113\n8          256  0.257899\n9          512  0.244774\n10        1024  0.262400\n11        2048  0.262594",
      "text/html": "<div>\n<style scoped>\n    .dataframe tbody tr th:only-of-type {\n        vertical-align: middle;\n    }\n\n    .dataframe tbody tr th {\n        vertical-align: top;\n    }\n\n    .dataframe thead th {\n        text-align: right;\n    }\n</style>\n<table border=\"1\" class=\"dataframe\">\n  <thead>\n    <tr style=\"text-align: right;\">\n      <th></th>\n      <th>Batch_size</th>\n      <th>Time</th>\n    </tr>\n  </thead>\n  <tbody>\n    <tr>\n      <th>0</th>\n      <td>1</td>\n      <td>5.017787</td>\n    </tr>\n    <tr>\n      <th>1</th>\n      <td>2</td>\n      <td>2.645120</td>\n    </tr>\n    <tr>\n      <th>2</th>\n      <td>4</td>\n      <td>1.343209</td>\n    </tr>\n    <tr>\n      <th>3</th>\n      <td>8</td>\n      <td>0.818023</td>\n    </tr>\n    <tr>\n      <th>4</th>\n      <td>16</td>\n      <td>0.585411</td>\n    </tr>\n    <tr>\n      <th>5</th>\n      <td>32</td>\n      <td>0.412479</td>\n    </tr>\n    <tr>\n      <th>6</th>\n      <td>64</td>\n      <td>0.338303</td>\n    </tr>\n    <tr>\n      <th>7</th>\n      <td>128</td>\n      <td>0.274113</td>\n    </tr>\n    <tr>\n      <th>8</th>\n      <td>256</td>\n      <td>0.257899</td>\n    </tr>\n    <tr>\n      <th>9</th>\n      <td>512</td>\n      <td>0.244774</td>\n    </tr>\n    <tr>\n      <th>10</th>\n      <td>1024</td>\n      <td>0.262400</td>\n    </tr>\n    <tr>\n      <th>11</th>\n      <td>2048</td>\n      <td>0.262594</td>\n    </tr>\n  </tbody>\n</table>\n</div>"
     },
     "metadata": {},
     "execution_count": 53
    }
   ],
   "source": [
    "import time\n",
    "batches = [1,2,4,8,16,32,64,128,256,512,1024,2048]\n",
    "times = []\n",
    "for B in batches:\n",
    "    t1 = time.time()\n",
    "    # 初期化\n",
    "    model = TestModel(x_train.shape[1], 4).to(device)\n",
    "    optimizer = optimizers.SGD(model.parameters(), lr=0.1)\n",
    "\n",
    "    # DataLoader\n",
    "    train_dataset = TestDataset(x_train, y_train)\n",
    "    train_dataloader = DataLoader(train_dataset, batch_size=B, shuffle=True)\n",
    "\n",
    "    epochs = 1\n",
    "    performance = {\"train_loss\":[], \"train_acc\":[], \"test_loss\":[], \"test_acc\":[]}\n",
    "    for epoch in range(epochs):\n",
    "        # 訓練データ\n",
    "        train_loss = 0.\n",
    "        train_acc = 0.\n",
    "        for (x, t) in train_dataloader:\n",
    "            loss, preds = train_step(x, t)\n",
    "            train_loss += loss.item()\n",
    "            train_acc += accuracy_score(t.tolist(), preds.argmax(dim=1).tolist())\n",
    "    times.append(time.time() - t1)\n",
    "result = pd.DataFrame({\"Batch_size\":batches, \"Time\":times})\n",
    "result"
   ]
  },
  {
   "cell_type": "markdown",
   "metadata": {},
   "source": [
    "## 78. GPU上での学習\n",
    "\n",
    "問題77のコードを改変し，GPU上で学習を実行せよ．\n"
   ]
  },
  {
   "cell_type": "code",
   "execution_count": null,
   "metadata": {},
   "outputs": [],
   "source": [
    "# device = torch.device('cuda')"
   ]
  },
  {
   "cell_type": "markdown",
   "metadata": {},
   "source": [
    "## 79. 多層ニューラルネットワーク\n",
    "\n",
    "問題78のコードを改変し，バイアス項の導入や多層化など，ニューラルネットワークの形状を変更しながら，高性能なカテゴリ分類器を構築せよ．"
   ]
  },
  {
   "cell_type": "code",
   "execution_count": null,
   "metadata": {},
   "outputs": [],
   "source": []
  }
 ]
}
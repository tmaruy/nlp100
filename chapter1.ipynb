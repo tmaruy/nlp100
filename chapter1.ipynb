{
 "nbformat": 4,
 "nbformat_minor": 2,
 "metadata": {
  "language_info": {
   "name": "python",
   "codemirror_mode": {
    "name": "ipython",
    "version": 3
   },
   "version": "3.6.4-final"
  },
  "orig_nbformat": 2,
  "file_extension": ".py",
  "mimetype": "text/x-python",
  "name": "python",
  "npconvert_exporter": "python",
  "pygments_lexer": "ipython3",
  "version": 3,
  "kernelspec": {
   "name": "python36464bitbaseconda1d0c2e3be8214c02b0fb731b7870def2",
   "display_name": "Python 3.6.4 64-bit ('base': conda)"
  }
 },
 "cells": [
  {
   "cell_type": "markdown",
   "metadata": {},
   "source": [
    "# 言語処理100本ノック 2020 第１章\n",
    "\n",
    "Reference: https://nlp100.github.io/ja/ch01.html"
   ]
  },
  {
   "cell_type": "markdown",
   "metadata": {},
   "source": [
    "## 00. 文字列の逆順\n",
    "文字列”stressed”の文字を逆に（末尾から先頭に向かって）並べた文字列を得よ．"
   ]
  },
  {
   "cell_type": "code",
   "execution_count": 2,
   "metadata": {},
   "outputs": [
    {
     "output_type": "execute_result",
     "data": {
      "text/plain": "'desserts'"
     },
     "metadata": {},
     "execution_count": 2
    }
   ],
   "source": [
    "s = \"stressed\"\n",
    "s[::-1]"
   ]
  },
  {
   "cell_type": "markdown",
   "metadata": {},
   "source": [
    "## 01. 「パタトクカシーー」\n",
    "「パタトクカシーー」という文字列の1,3,5,7文字目を取り出して連結した文字列を得よ．"
   ]
  },
  {
   "cell_type": "code",
   "execution_count": 11,
   "metadata": {},
   "outputs": [
    {
     "output_type": "execute_result",
     "data": {
      "text/plain": "'パトカー'"
     },
     "metadata": {},
     "execution_count": 11
    }
   ],
   "source": [
    "s = \"パタトクカシーー\"\n",
    "s_2 = \"\"\n",
    "for i in [0,2,4,6]: s_2 += s[i]\n",
    "s_2"
   ]
  },
  {
   "cell_type": "markdown",
   "metadata": {},
   "source": [
    "## 02. 「パトカー」＋「タクシー」＝「パタトクカシーー」\n",
    "「パトカー」＋「タクシー」の文字を先頭から交互に連結して文字列「パタトクカシーー」を得よ．"
   ]
  },
  {
   "cell_type": "code",
   "execution_count": 5,
   "metadata": {},
   "outputs": [
    {
     "output_type": "stream",
     "name": "stdout",
     "text": "パタトクカシーー\n"
    }
   ],
   "source": [
    "s_1 = \"パトカー\"\n",
    "s_2 = \"タクシー\"\n",
    "s = \"\"\n",
    "for i in range(len(s_1)): s += s_1[i] + s_2[i]\n",
    "s"
   ]
  },
  {
   "cell_type": "markdown",
   "metadata": {},
   "source": [
    "## 03. 円周率\n",
    "“Now I need a drink, alcoholic of course, after the heavy lectures involving quantum mechanics.”という文を単語に分解し，各単語の（アルファベットの）文字数を先頭から出現順に並べたリストを作成せよ．"
   ]
  },
  {
   "cell_type": "code",
   "execution_count": 21,
   "metadata": {},
   "outputs": [
    {
     "output_type": "execute_result",
     "data": {
      "text/plain": "[3, 1, 4, 1, 6, 9, 2, 7, 5, 3, 5, 8, 9, 7, 10]"
     },
     "metadata": {},
     "execution_count": 21
    }
   ],
   "source": [
    "s = \"Now I need a drink, alcoholic of course, after the heavy lectures involving quantum mechanics.\"\n",
    "n_chars = [len(w) for w in s.split(\" \")]\n",
    "n_chars"
   ]
  },
  {
   "cell_type": "markdown",
   "metadata": {},
   "source": [
    "## 04. 元素記号Permalink\n",
    "\n",
    "“Hi He Lied Because Boron Could Not Oxidize Fluorine. New Nations Might Also Sign Peace Security Clause. Arthur King Can.”という文を単語に分解し，1, 5, 6, 7, 8, 9, 15, 16, 19番目の単語は先頭の1文字，それ以外の単語は先頭に2文字を取り出し，取り出した文字列から単語の位置（先頭から何番目の単語か）への連想配列（辞書型もしくはマップ型）を作成せよ．"
   ]
  },
  {
   "cell_type": "code",
   "execution_count": 13,
   "metadata": {},
   "outputs": [
    {
     "output_type": "execute_result",
     "data": {
      "text/plain": "{'Al': 13,\n 'Ar': 18,\n 'B': 5,\n 'Be': 4,\n 'C': 6,\n 'Ca': 20,\n 'Cl': 17,\n 'F': 9,\n 'H': 1,\n 'He': 2,\n 'K': 19,\n 'Li': 3,\n 'Mi': 12,\n 'N': 7,\n 'Na': 11,\n 'Ne': 10,\n 'O': 8,\n 'P': 15,\n 'S': 16,\n 'Si': 14}"
     },
     "metadata": {},
     "execution_count": 13
    }
   ],
   "source": [
    "s = \"Hi He Lied Because Boron Could Not Oxidize Fluorine. New Nations Might Also Sign Peace Security Clause. Arthur King Can.\"\n",
    "ws = s.split(\" \")\n",
    "d = dict()\n",
    "for i,w in enumerate(ws): \n",
    "    if i in [0, 4, 5, 6, 7, 8, 14, 15, 18]: d[w[0]] = i + 1\n",
    "    else: d[w[:2]] = i + 1\n",
    "d"
   ]
  },
  {
   "cell_type": "markdown",
   "metadata": {},
   "source": [
    "## 05. n-gram\n",
    "与えられたシーケンス（文字列やリストなど）からn-gramを作る関数を作成せよ．この関数を用い，”I am an NLPer”という文から単語bi-gram，文字bi-gramを得よ．"
   ]
  },
  {
   "cell_type": "code",
   "execution_count": 24,
   "metadata": {},
   "outputs": [],
   "source": [
    "def str2ngram(s, n):\n",
    "    words = s.split(\" \")\n",
    "    results = [\" \".join(words[i:(i+n)]) for i in range(len(words) - n + 1)]\n",
    "    return results"
   ]
  },
  {
   "cell_type": "code",
   "execution_count": 25,
   "metadata": {},
   "outputs": [
    {
     "output_type": "stream",
     "name": "stdout",
     "text": "['I am', 'am an', 'an NLPer']\n['I am an', 'am an NLPer']\n"
    }
   ],
   "source": [
    "s = \"I am an NLPer\"\n",
    "print(str2ngram(s, 2)[:5]) # bi-gram\n",
    "print(str2ngram(s, 3)[:5]) # tri-gram"
   ]
  },
  {
   "cell_type": "markdown",
   "metadata": {},
   "source": [
    "## 06. 集合\n",
    "“paraparaparadise”と”paragraph”に含まれる文字bi-gramの集合を，それぞれ, XとYとして求め，XとYの和集合，積集合，差集合を求めよ．さらに，’se’というbi-gramがXおよびYに含まれるかどうかを調べよ．"
   ]
  },
  {
   "cell_type": "code",
   "execution_count": 30,
   "metadata": {},
   "outputs": [],
   "source": [
    "def str2ngram_jp(s, n):\n",
    "    results = [s[i:(i+n)] for i in range(len(s) - n + 1)]\n",
    "    return results"
   ]
  },
  {
   "cell_type": "code",
   "execution_count": 34,
   "metadata": {},
   "outputs": [
    {
     "output_type": "execute_result",
     "data": {
      "text/plain": "[{'ad', 'ag', 'ap', 'ar', 'di', 'gr', 'is', 'pa', 'ph', 'ra', 'se'},\n {'ap', 'ar', 'pa', 'ra'},\n {'ad', 'di', 'is', 'se'}]"
     },
     "metadata": {},
     "execution_count": 34
    }
   ],
   "source": [
    "s1 = \"paraparaparadise\"\n",
    "s2 = \"paragraph\"\n",
    "\n",
    "bi1 = set(str2ngram_jp(s1, 2))\n",
    "bi2 = set(str2ngram_jp(s2, 2))\n",
    "[bi1 | bi2, bi1 & bi2, bi1 - bi2] # 和集合，積集合，差集合"
   ]
  },
  {
   "cell_type": "code",
   "execution_count": 36,
   "metadata": {},
   "outputs": [
    {
     "output_type": "execute_result",
     "data": {
      "text/plain": "(True, False)"
     },
     "metadata": {},
     "execution_count": 36
    }
   ],
   "source": [
    "\"se\" in bi1, \"se\" in bi2"
   ]
  },
  {
   "cell_type": "markdown",
   "metadata": {},
   "source": [
    "## 07. テンプレートによる文生成\n",
    "引数x, y, zを受け取り「x時のyはz」という文字列を返す関数を実装せよ．さらに，x=12, y=”気温”, z=22.4として，実行結果を確認せよ．"
   ]
  },
  {
   "cell_type": "code",
   "execution_count": 37,
   "metadata": {},
   "outputs": [
    {
     "output_type": "execute_result",
     "data": {
      "text/plain": "'12時の気温は22.4'"
     },
     "metadata": {},
     "execution_count": 37
    }
   ],
   "source": [
    "def make_sentense(x, y, z): return \"{}時の{}は{}\".format(x, y, z)\n",
    "make_sentense(x=12, y=\"気温\", z=22.4)"
   ]
  },
  {
   "cell_type": "markdown",
   "metadata": {},
   "source": [
    "## 08. 暗号文\n",
    "与えられた文字列の各文字を，以下の仕様で変換する関数cipherを実装せよ．\n",
    "\n",
    "* 英小文字ならば(219 - 文字コード)の文字に置換\n",
    "* その他の文字はそのまま出力\n",
    "\n",
    "この関数を用い，英語のメッセージを暗号化・復号化せよ．"
   ]
  },
  {
   "cell_type": "code",
   "execution_count": 46,
   "metadata": {},
   "outputs": [
    {
     "output_type": "execute_result",
     "data": {
      "text/plain": "'gvhg.gvhg'"
     },
     "metadata": {},
     "execution_count": 46
    }
   ],
   "source": [
    "def cipher(s):\n",
    "    result = \"\"\n",
    "    for l in s:\n",
    "        if l.islower(): result += chr(219 - ord(l))\n",
    "        else: result += l\n",
    "    return result\n",
    "cipher(\"test.test\")"
   ]
  },
  {
   "cell_type": "markdown",
   "metadata": {},
   "source": [
    "## 09. Typoglycemia\n",
    "スペースで区切られた単語列に対して，各単語の先頭と末尾の文字は残し，それ以外の文字の順序をランダムに並び替えるプログラムを作成せよ．ただし，長さが４以下の単語は並び替えないこととする．適当な英語の文（例えば”I couldn’t believe that I could actually understand what I was reading : the phenomenal power of the human mind .”）を与え，その実行結果を確認せよ．"
   ]
  },
  {
   "cell_type": "code",
   "execution_count": 65,
   "metadata": {},
   "outputs": [],
   "source": [
    "import random\n",
    "\n",
    "def typoglycemia(s):\n",
    "    results = []\n",
    "    for i, w in enumerate(s.split(\" \")):\n",
    "        if len(w) <= 4: \n",
    "            results.append(w)\n",
    "        else:\n",
    "            tmp = list(w[1:(len(w)-1)])\n",
    "            random.shuffle(tmp)\n",
    "            results.append(\"\".join([w[0]] + tmp + [w[-1]]))\n",
    "    return \" \".join(results)"
   ]
  },
  {
   "cell_type": "code",
   "execution_count": 66,
   "metadata": {},
   "outputs": [
    {
     "output_type": "execute_result",
     "data": {
      "text/plain": "'I cuol’dnt bvleiee that I colud altaulcy uneansrtdd what I was raednig : the pneeoanmhl peowr of the hmuan mind .'"
     },
     "metadata": {},
     "execution_count": 66
    }
   ],
   "source": [
    "s = \"I couldn’t believe that I could actually understand what I was reading : the phenomenal power of the human mind .\"\n",
    "typoglycemia(s)"
   ]
  }
 ]
}
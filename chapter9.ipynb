{
 "nbformat": 4,
 "nbformat_minor": 2,
 "metadata": {
  "language_info": {
   "name": "python",
   "codemirror_mode": {
    "name": "ipython",
    "version": 3
   },
   "version": "3.6.4-final"
  },
  "orig_nbformat": 2,
  "file_extension": ".py",
  "mimetype": "text/x-python",
  "name": "python",
  "npconvert_exporter": "python",
  "pygments_lexer": "ipython3",
  "version": 3,
  "kernelspec": {
   "name": "python36464bitbaseconda1d0c2e3be8214c02b0fb731b7870def2",
   "display_name": "Python 3.6.4 64-bit ('base': conda)"
  }
 },
 "cells": [
  {
   "cell_type": "markdown",
   "metadata": {},
   "source": [
    "# 言語処理100本ノック 2020 第９章\n",
    "\n",
    "Reference: https://nlp100.github.io/ja/ch09.html"
   ]
  },
  {
   "cell_type": "code",
   "execution_count": 1,
   "metadata": {},
   "outputs": [],
   "source": [
    "import re\n",
    "import numpy as np\n",
    "import pandas as pd\n",
    "import seaborn as sns"
   ]
  },
  {
   "cell_type": "markdown",
   "metadata": {},
   "source": [
    "## 80. ID番号への変換\n",
    "\n",
    "問題51で構築した学習データ中の単語にユニークなID番号を付与したい．学習データ中で最も頻出する単語に1，2番目に頻出する単語に2，……といった方法で，学習データ中で2回以上出現する単語にID番号を付与せよ．そして，与えられた単語列に対して，ID番号の列を返す関数を実装せよ．ただし，出現頻度が2回未満の単語のID番号はすべて0とせよ．\n",
    "\n",
    "※ gensimですでに実装されているので割愛。"
   ]
  },
  {
   "cell_type": "code",
   "execution_count": 2,
   "metadata": {},
   "outputs": [],
   "source": [
    "from nltk.tokenize import word_tokenize\n",
    "from gensim import corpora\n",
    "from sklearn.preprocessing import OneHotEncoder"
   ]
  },
  {
   "cell_type": "code",
   "execution_count": 3,
   "metadata": {},
   "outputs": [],
   "source": [
    "train = pd.read_csv(\"NewsAggregatorDataset/train.txt\", sep=\"\\t\")\n",
    "test = pd.read_csv(\"NewsAggregatorDataset/test.txt\", sep=\"\\t\")\n",
    "valid = pd.read_csv(\"NewsAggregatorDataset/valid.txt\", sep=\"\\t\")"
   ]
  },
  {
   "cell_type": "code",
   "execution_count": 14,
   "metadata": {},
   "outputs": [
    {
     "output_type": "stream",
     "name": "stdout",
     "text": "Dictionary(19395 unique tokens: ['In', 'Labeouf', 'Rehab', 'Report', 'Shia']...)\nDictionary(805 unique tokens: ['In', 'Report', 'Shia', \"'s\", 'Microsoft']...)\n"
    }
   ],
   "source": [
    "# Tokenize\n",
    "tokens = [word_tokenize(text) for text in train.TITLE]\n",
    "# Remove (i) numbers, (ii) single-character words\n",
    "tokens = [[t for t in token if (not t.isnumeric()) and (len(t) > 1)] for token in tokens]\n",
    "# Create dictionary\n",
    "dictionary = corpora.Dictionary(tokens)\n",
    "print(dictionary)\n",
    "\n",
    "# Filter out words that occur less than 10 documents, or more than 50% of the documents.\n",
    "dictionary.filter_extremes(no_below=20, no_above=0.5)\n",
    "print(dictionary)"
   ]
  },
  {
   "cell_type": "code",
   "execution_count": 78,
   "metadata": {},
   "outputs": [],
   "source": [
    "# 0: padded \n",
    "# 1: out-of-dictionary\n",
    "# 2-: words\n",
    "def text2idx(text, dictionary=dictionary):\n",
    "    token = word_tokenize(text)\n",
    "    return(torch.tensor(dictionary.doc2idx(token)) + 2)"
   ]
  },
  {
   "cell_type": "code",
   "execution_count": 77,
   "metadata": {},
   "outputs": [
    {
     "output_type": "execute_result",
     "data": {
      "text/plain": "tensor([7, 1, 1, 1, 8, 6, 5, 1, 1, 9, 1, 1])"
     },
     "metadata": {},
     "execution_count": 77
    }
   ],
   "source": [
    "text2idx(train.TITLE[1])"
   ]
  },
  {
   "cell_type": "markdown",
   "metadata": {},
   "source": [
    "## 81. RNNによる予測\n",
    "ID番号で表現された単語列x=(x1,x2,…,xT)がある．ただし，Tは単語列の長さ，xt∈ℝVは単語のID番号のone-hot表記である（Vは単語の総数である）．再帰型ニューラルネットワーク（RNN: Recurrent Neural Network）を用い，単語列xからカテゴリyを予測するモデルとして，次式を実装せよ．\n",
    "\n",
    "なお，この問題ではパラメータの学習を行わず，ランダムに初期化されたパラメータでyを計算するだけでよい．次元数などのハイパーパラメータは，dw=300,dh=50など，適当な値に設定せよ（以降の問題でも同様である）．"
   ]
  },
  {
   "cell_type": "code",
   "execution_count": 44,
   "metadata": {},
   "outputs": [],
   "source": [
    "import torch\n",
    "import torch.nn as nn\n",
    "import torch.optim as optimizers\n",
    "from torch.utils.data import DataLoader\n",
    "from torch.nn.utils.rnn import pad_sequence\n",
    "\n",
    "torch.manual_seed(123) # torch用の乱数シード\n",
    "device = torch.device('cuda' if torch.cuda.is_available() else 'cpu')"
   ]
  },
  {
   "cell_type": "code",
   "execution_count": 138,
   "metadata": {},
   "outputs": [],
   "source": [
    "class RNN(nn.Module):\n",
    "    def __init__(self, num_words, hidden_dim):\n",
    "        super().__init__()\n",
    "        self.emb = nn.Embedding(num_words, hidden_dim, padding_idx=0)\n",
    "        self.l1 = nn.RNN(hidden_dim, hidden_dim, batch_first=True)\n",
    "        self.l2 = nn.Linear(hidden_dim, 4)\n",
    "        self.sm = nn.Softmax(dim=1)\n",
    "        nn.init.xavier_normal_(self.l1.weight_ih_l0)\n",
    "        nn.init.orthogonal_(self.l1.weight_hh_l0)\n",
    "    def forward(self, x): # x: [batch_size, sequence length, dimension]\n",
    "        h = self.emb(x)\n",
    "        h, _ = self.l1(h)\n",
    "        y = self.l2(h[:, -1])\n",
    "        y = self.sm(y)\n",
    "        return y"
   ]
  },
  {
   "cell_type": "code",
   "execution_count": 161,
   "metadata": {},
   "outputs": [
    {
     "output_type": "execute_result",
     "data": {
      "text/plain": "<matplotlib.axes._subplots.AxesSubplot at 0x1a760b0400>"
     },
     "metadata": {},
     "execution_count": 161
    },
    {
     "output_type": "display_data",
     "data": {
      "text/plain": "<Figure size 432x288 with 1 Axes>",
      "image/svg+xml": "<?xml version=\"1.0\" encoding=\"utf-8\" standalone=\"no\"?>\n<!DOCTYPE svg PUBLIC \"-//W3C//DTD SVG 1.1//EN\"\n  \"http://www.w3.org/Graphics/SVG/1.1/DTD/svg11.dtd\">\n<!-- Created with matplotlib (http://matplotlib.org/) -->\n<svg height=\"252.018125pt\" version=\"1.1\" viewBox=\"0 0 381.965625 252.018125\" width=\"381.965625pt\" xmlns=\"http://www.w3.org/2000/svg\" xmlns:xlink=\"http://www.w3.org/1999/xlink\">\n <defs>\n  <style type=\"text/css\">\n*{stroke-linecap:butt;stroke-linejoin:round;}\n  </style>\n </defs>\n <g id=\"figure_1\">\n  <g id=\"patch_1\">\n   <path d=\"M 0 252.018125 \nL 381.965625 252.018125 \nL 381.965625 0 \nL 0 0 \nz\n\" style=\"fill:none;\"/>\n  </g>\n  <g id=\"axes_1\">\n   <g id=\"patch_2\">\n    <path d=\"M 36.465625 228.14 \nL 371.265625 228.14 \nL 371.265625 10.7 \nL 36.465625 10.7 \nz\n\" style=\"fill:#ffffff;\"/>\n   </g>\n   <g id=\"patch_3\">\n    <path clip-path=\"url(#pcda5603b69)\" d=\"M 53.72743 228.14 \nL 59.732957 228.14 \nL 59.732957 221.270148 \nL 53.72743 221.270148 \nz\n\" style=\"fill:#1f77b4;opacity:0.4;\"/>\n   </g>\n   <g id=\"patch_4\">\n    <path clip-path=\"url(#pcda5603b69)\" d=\"M 59.732957 228.14 \nL 65.738485 228.14 \nL 65.738485 81.146144 \nL 59.732957 81.146144 \nz\n\" style=\"fill:#1f77b4;opacity:0.4;\"/>\n   </g>\n   <g id=\"patch_5\">\n    <path clip-path=\"url(#pcda5603b69)\" d=\"M 65.738485 228.14 \nL 71.744013 228.14 \nL 71.744013 112.558673 \nL 65.738485 112.558673 \nz\n\" style=\"fill:#1f77b4;opacity:0.4;\"/>\n   </g>\n   <g id=\"patch_6\">\n    <path clip-path=\"url(#pcda5603b69)\" d=\"M 71.744013 228.14 \nL 77.749541 228.14 \nL 77.749541 217.913884 \nL 71.744013 217.913884 \nz\n\" style=\"fill:#1f77b4;opacity:0.4;\"/>\n   </g>\n   <g id=\"patch_7\">\n    <path clip-path=\"url(#pcda5603b69)\" d=\"M 77.749541 228.14 \nL 83.755069 228.14 \nL 83.755069 228.008896 \nL 77.749541 228.008896 \nz\n\" style=\"fill:#1f77b4;opacity:0.4;\"/>\n   </g>\n   <g id=\"patch_8\">\n    <path clip-path=\"url(#pcda5603b69)\" d=\"M 83.755069 228.14 \nL 89.760597 228.14 \nL 89.760597 228.14 \nL 83.755069 228.14 \nz\n\" style=\"fill:#1f77b4;opacity:0.4;\"/>\n   </g>\n   <g id=\"patch_9\">\n    <path clip-path=\"url(#pcda5603b69)\" d=\"M 89.760597 228.14 \nL 95.766124 228.14 \nL 95.766124 228.14 \nL 89.760597 228.14 \nz\n\" style=\"fill:#1f77b4;opacity:0.4;\"/>\n   </g>\n   <g id=\"patch_10\">\n    <path clip-path=\"url(#pcda5603b69)\" d=\"M 95.766124 228.14 \nL 101.771652 228.14 \nL 101.771652 228.14 \nL 95.766124 228.14 \nz\n\" style=\"fill:#1f77b4;opacity:0.4;\"/>\n   </g>\n   <g id=\"patch_11\">\n    <path clip-path=\"url(#pcda5603b69)\" d=\"M 101.771652 228.14 \nL 107.77718 228.14 \nL 107.77718 228.14 \nL 101.771652 228.14 \nz\n\" style=\"fill:#1f77b4;opacity:0.4;\"/>\n   </g>\n   <g id=\"patch_12\">\n    <path clip-path=\"url(#pcda5603b69)\" d=\"M 107.77718 228.14 \nL 113.782708 228.14 \nL 113.782708 228.14 \nL 107.77718 228.14 \nz\n\" style=\"fill:#1f77b4;opacity:0.4;\"/>\n   </g>\n   <g id=\"patch_13\">\n    <path clip-path=\"url(#pcda5603b69)\" d=\"M 113.782708 228.14 \nL 119.788236 228.14 \nL 119.788236 228.14 \nL 113.782708 228.14 \nz\n\" style=\"fill:#1f77b4;opacity:0.4;\"/>\n   </g>\n   <g id=\"patch_14\">\n    <path clip-path=\"url(#pcda5603b69)\" d=\"M 119.788236 228.14 \nL 125.793763 228.14 \nL 125.793763 228.14 \nL 119.788236 228.14 \nz\n\" style=\"fill:#1f77b4;opacity:0.4;\"/>\n   </g>\n   <g id=\"patch_15\">\n    <path clip-path=\"url(#pcda5603b69)\" d=\"M 125.793763 228.14 \nL 131.799291 228.14 \nL 131.799291 228.14 \nL 125.793763 228.14 \nz\n\" style=\"fill:#1f77b4;opacity:0.4;\"/>\n   </g>\n   <g id=\"patch_16\">\n    <path clip-path=\"url(#pcda5603b69)\" d=\"M 131.799291 228.14 \nL 137.804819 228.14 \nL 137.804819 228.14 \nL 131.799291 228.14 \nz\n\" style=\"fill:#1f77b4;opacity:0.4;\"/>\n   </g>\n   <g id=\"patch_17\">\n    <path clip-path=\"url(#pcda5603b69)\" d=\"M 137.804819 228.14 \nL 143.810347 228.14 \nL 143.810347 228.14 \nL 137.804819 228.14 \nz\n\" style=\"fill:#1f77b4;opacity:0.4;\"/>\n   </g>\n   <g id=\"patch_18\">\n    <path clip-path=\"url(#pcda5603b69)\" d=\"M 143.810347 228.14 \nL 149.815875 228.14 \nL 149.815875 228.14 \nL 143.810347 228.14 \nz\n\" style=\"fill:#1f77b4;opacity:0.4;\"/>\n   </g>\n   <g id=\"patch_19\">\n    <path clip-path=\"url(#pcda5603b69)\" d=\"M 149.815875 228.14 \nL 155.821402 228.14 \nL 155.821402 228.14 \nL 149.815875 228.14 \nz\n\" style=\"fill:#1f77b4;opacity:0.4;\"/>\n   </g>\n   <g id=\"patch_20\">\n    <path clip-path=\"url(#pcda5603b69)\" d=\"M 155.821402 228.14 \nL 161.82693 228.14 \nL 161.82693 228.14 \nL 155.821402 228.14 \nz\n\" style=\"fill:#1f77b4;opacity:0.4;\"/>\n   </g>\n   <g id=\"patch_21\">\n    <path clip-path=\"url(#pcda5603b69)\" d=\"M 161.82693 228.14 \nL 167.832458 228.14 \nL 167.832458 228.14 \nL 161.82693 228.14 \nz\n\" style=\"fill:#1f77b4;opacity:0.4;\"/>\n   </g>\n   <g id=\"patch_22\">\n    <path clip-path=\"url(#pcda5603b69)\" d=\"M 167.832458 228.14 \nL 173.837986 228.14 \nL 173.837986 228.14 \nL 167.832458 228.14 \nz\n\" style=\"fill:#1f77b4;opacity:0.4;\"/>\n   </g>\n   <g id=\"patch_23\">\n    <path clip-path=\"url(#pcda5603b69)\" d=\"M 173.837986 228.14 \nL 179.843514 228.14 \nL 179.843514 228.14 \nL 173.837986 228.14 \nz\n\" style=\"fill:#1f77b4;opacity:0.4;\"/>\n   </g>\n   <g id=\"patch_24\">\n    <path clip-path=\"url(#pcda5603b69)\" d=\"M 179.843514 228.14 \nL 185.849042 228.14 \nL 185.849042 228.14 \nL 179.843514 228.14 \nz\n\" style=\"fill:#1f77b4;opacity:0.4;\"/>\n   </g>\n   <g id=\"patch_25\">\n    <path clip-path=\"url(#pcda5603b69)\" d=\"M 185.849042 228.14 \nL 191.854569 228.14 \nL 191.854569 228.14 \nL 185.849042 228.14 \nz\n\" style=\"fill:#1f77b4;opacity:0.4;\"/>\n   </g>\n   <g id=\"patch_26\">\n    <path clip-path=\"url(#pcda5603b69)\" d=\"M 191.854569 228.14 \nL 197.860097 228.14 \nL 197.860097 228.14 \nL 191.854569 228.14 \nz\n\" style=\"fill:#1f77b4;opacity:0.4;\"/>\n   </g>\n   <g id=\"patch_27\">\n    <path clip-path=\"url(#pcda5603b69)\" d=\"M 197.860097 228.14 \nL 203.865625 228.14 \nL 203.865625 228.14 \nL 197.860097 228.14 \nz\n\" style=\"fill:#1f77b4;opacity:0.4;\"/>\n   </g>\n   <g id=\"patch_28\">\n    <path clip-path=\"url(#pcda5603b69)\" d=\"M 203.865625 228.14 \nL 209.871153 228.14 \nL 209.871153 228.14 \nL 203.865625 228.14 \nz\n\" style=\"fill:#1f77b4;opacity:0.4;\"/>\n   </g>\n   <g id=\"patch_29\">\n    <path clip-path=\"url(#pcda5603b69)\" d=\"M 209.871153 228.14 \nL 215.876681 228.14 \nL 215.876681 228.14 \nL 209.871153 228.14 \nz\n\" style=\"fill:#1f77b4;opacity:0.4;\"/>\n   </g>\n   <g id=\"patch_30\">\n    <path clip-path=\"url(#pcda5603b69)\" d=\"M 215.876681 228.14 \nL 221.882208 228.14 \nL 221.882208 228.14 \nL 215.876681 228.14 \nz\n\" style=\"fill:#1f77b4;opacity:0.4;\"/>\n   </g>\n   <g id=\"patch_31\">\n    <path clip-path=\"url(#pcda5603b69)\" d=\"M 221.882208 228.14 \nL 227.887736 228.14 \nL 227.887736 228.14 \nL 221.882208 228.14 \nz\n\" style=\"fill:#1f77b4;opacity:0.4;\"/>\n   </g>\n   <g id=\"patch_32\">\n    <path clip-path=\"url(#pcda5603b69)\" d=\"M 227.887736 228.14 \nL 233.893264 228.14 \nL 233.893264 228.14 \nL 227.887736 228.14 \nz\n\" style=\"fill:#1f77b4;opacity:0.4;\"/>\n   </g>\n   <g id=\"patch_33\">\n    <path clip-path=\"url(#pcda5603b69)\" d=\"M 233.893264 228.14 \nL 239.898792 228.14 \nL 239.898792 228.14 \nL 233.893264 228.14 \nz\n\" style=\"fill:#1f77b4;opacity:0.4;\"/>\n   </g>\n   <g id=\"patch_34\">\n    <path clip-path=\"url(#pcda5603b69)\" d=\"M 239.898792 228.14 \nL 245.90432 228.14 \nL 245.90432 228.14 \nL 239.898792 228.14 \nz\n\" style=\"fill:#1f77b4;opacity:0.4;\"/>\n   </g>\n   <g id=\"patch_35\">\n    <path clip-path=\"url(#pcda5603b69)\" d=\"M 245.90432 228.14 \nL 251.909848 228.14 \nL 251.909848 228.14 \nL 245.90432 228.14 \nz\n\" style=\"fill:#1f77b4;opacity:0.4;\"/>\n   </g>\n   <g id=\"patch_36\">\n    <path clip-path=\"url(#pcda5603b69)\" d=\"M 251.909848 228.14 \nL 257.915375 228.14 \nL 257.915375 228.14 \nL 251.909848 228.14 \nz\n\" style=\"fill:#1f77b4;opacity:0.4;\"/>\n   </g>\n   <g id=\"patch_37\">\n    <path clip-path=\"url(#pcda5603b69)\" d=\"M 257.915375 228.14 \nL 263.920903 228.14 \nL 263.920903 228.14 \nL 257.915375 228.14 \nz\n\" style=\"fill:#1f77b4;opacity:0.4;\"/>\n   </g>\n   <g id=\"patch_38\">\n    <path clip-path=\"url(#pcda5603b69)\" d=\"M 263.920903 228.14 \nL 269.926431 228.14 \nL 269.926431 228.14 \nL 263.920903 228.14 \nz\n\" style=\"fill:#1f77b4;opacity:0.4;\"/>\n   </g>\n   <g id=\"patch_39\">\n    <path clip-path=\"url(#pcda5603b69)\" d=\"M 269.926431 228.14 \nL 275.931959 228.14 \nL 275.931959 228.14 \nL 269.926431 228.14 \nz\n\" style=\"fill:#1f77b4;opacity:0.4;\"/>\n   </g>\n   <g id=\"patch_40\">\n    <path clip-path=\"url(#pcda5603b69)\" d=\"M 275.931959 228.14 \nL 281.937487 228.14 \nL 281.937487 228.14 \nL 275.931959 228.14 \nz\n\" style=\"fill:#1f77b4;opacity:0.4;\"/>\n   </g>\n   <g id=\"patch_41\">\n    <path clip-path=\"url(#pcda5603b69)\" d=\"M 281.937487 228.14 \nL 287.943014 228.14 \nL 287.943014 228.14 \nL 281.937487 228.14 \nz\n\" style=\"fill:#1f77b4;opacity:0.4;\"/>\n   </g>\n   <g id=\"patch_42\">\n    <path clip-path=\"url(#pcda5603b69)\" d=\"M 287.943014 228.14 \nL 293.948542 228.14 \nL 293.948542 228.14 \nL 287.943014 228.14 \nz\n\" style=\"fill:#1f77b4;opacity:0.4;\"/>\n   </g>\n   <g id=\"patch_43\">\n    <path clip-path=\"url(#pcda5603b69)\" d=\"M 293.948542 228.14 \nL 299.95407 228.14 \nL 299.95407 228.14 \nL 293.948542 228.14 \nz\n\" style=\"fill:#1f77b4;opacity:0.4;\"/>\n   </g>\n   <g id=\"patch_44\">\n    <path clip-path=\"url(#pcda5603b69)\" d=\"M 299.95407 228.14 \nL 305.959598 228.14 \nL 305.959598 228.14 \nL 299.95407 228.14 \nz\n\" style=\"fill:#1f77b4;opacity:0.4;\"/>\n   </g>\n   <g id=\"patch_45\">\n    <path clip-path=\"url(#pcda5603b69)\" d=\"M 305.959598 228.14 \nL 311.965126 228.14 \nL 311.965126 228.14 \nL 305.959598 228.14 \nz\n\" style=\"fill:#1f77b4;opacity:0.4;\"/>\n   </g>\n   <g id=\"patch_46\">\n    <path clip-path=\"url(#pcda5603b69)\" d=\"M 311.965126 228.14 \nL 317.970653 228.14 \nL 317.970653 228.14 \nL 311.965126 228.14 \nz\n\" style=\"fill:#1f77b4;opacity:0.4;\"/>\n   </g>\n   <g id=\"patch_47\">\n    <path clip-path=\"url(#pcda5603b69)\" d=\"M 317.970653 228.14 \nL 323.976181 228.14 \nL 323.976181 228.14 \nL 317.970653 228.14 \nz\n\" style=\"fill:#1f77b4;opacity:0.4;\"/>\n   </g>\n   <g id=\"patch_48\">\n    <path clip-path=\"url(#pcda5603b69)\" d=\"M 323.976181 228.14 \nL 329.981709 228.14 \nL 329.981709 228.14 \nL 323.976181 228.14 \nz\n\" style=\"fill:#1f77b4;opacity:0.4;\"/>\n   </g>\n   <g id=\"patch_49\">\n    <path clip-path=\"url(#pcda5603b69)\" d=\"M 329.981709 228.14 \nL 335.987237 228.14 \nL 335.987237 228.14 \nL 329.981709 228.14 \nz\n\" style=\"fill:#1f77b4;opacity:0.4;\"/>\n   </g>\n   <g id=\"patch_50\">\n    <path clip-path=\"url(#pcda5603b69)\" d=\"M 335.987237 228.14 \nL 341.992765 228.14 \nL 341.992765 228.14 \nL 335.987237 228.14 \nz\n\" style=\"fill:#1f77b4;opacity:0.4;\"/>\n   </g>\n   <g id=\"patch_51\">\n    <path clip-path=\"url(#pcda5603b69)\" d=\"M 341.992765 228.14 \nL 347.998293 228.14 \nL 347.998293 228.14 \nL 341.992765 228.14 \nz\n\" style=\"fill:#1f77b4;opacity:0.4;\"/>\n   </g>\n   <g id=\"patch_52\">\n    <path clip-path=\"url(#pcda5603b69)\" d=\"M 347.998293 228.14 \nL 354.00382 228.14 \nL 354.00382 228.113779 \nL 347.998293 228.113779 \nz\n\" style=\"fill:#1f77b4;opacity:0.4;\"/>\n   </g>\n   <g id=\"matplotlib.axis_1\">\n    <g id=\"xtick_1\">\n     <g id=\"line2d_1\">\n      <defs>\n       <path d=\"M 0 0 \nL 0 3.5 \n\" id=\"m22a31b7fa8\" style=\"stroke:#000000;stroke-width:0.8;\"/>\n      </defs>\n      <g>\n       <use style=\"stroke:#000000;stroke-width:0.8;\" x=\"51.245807\" xlink:href=\"#m22a31b7fa8\" y=\"228.14\"/>\n      </g>\n     </g>\n     <g id=\"text_1\">\n      <!-- 0 -->\n      <defs>\n       <path d=\"M 31.78125 66.40625 \nQ 24.171875 66.40625 20.328125 58.90625 \nQ 16.5 51.421875 16.5 36.375 \nQ 16.5 21.390625 20.328125 13.890625 \nQ 24.171875 6.390625 31.78125 6.390625 \nQ 39.453125 6.390625 43.28125 13.890625 \nQ 47.125 21.390625 47.125 36.375 \nQ 47.125 51.421875 43.28125 58.90625 \nQ 39.453125 66.40625 31.78125 66.40625 \nz\nM 31.78125 74.21875 \nQ 44.046875 74.21875 50.515625 64.515625 \nQ 56.984375 54.828125 56.984375 36.375 \nQ 56.984375 17.96875 50.515625 8.265625 \nQ 44.046875 -1.421875 31.78125 -1.421875 \nQ 19.53125 -1.421875 13.0625 8.265625 \nQ 6.59375 17.96875 6.59375 36.375 \nQ 6.59375 54.828125 13.0625 64.515625 \nQ 19.53125 74.21875 31.78125 74.21875 \nz\n\" id=\"DejaVuSans-30\"/>\n      </defs>\n      <g transform=\"translate(48.064557 242.738437)scale(0.1 -0.1)\">\n       <use xlink:href=\"#DejaVuSans-30\"/>\n      </g>\n     </g>\n    </g>\n    <g id=\"xtick_2\">\n     <g id=\"line2d_2\">\n      <g>\n       <use style=\"stroke:#000000;stroke-width:0.8;\" x=\"113.286383\" xlink:href=\"#m22a31b7fa8\" y=\"228.14\"/>\n      </g>\n     </g>\n     <g id=\"text_2\">\n      <!-- 50 -->\n      <defs>\n       <path d=\"M 10.796875 72.90625 \nL 49.515625 72.90625 \nL 49.515625 64.59375 \nL 19.828125 64.59375 \nL 19.828125 46.734375 \nQ 21.96875 47.46875 24.109375 47.828125 \nQ 26.265625 48.1875 28.421875 48.1875 \nQ 40.625 48.1875 47.75 41.5 \nQ 54.890625 34.8125 54.890625 23.390625 \nQ 54.890625 11.625 47.5625 5.09375 \nQ 40.234375 -1.421875 26.90625 -1.421875 \nQ 22.3125 -1.421875 17.546875 -0.640625 \nQ 12.796875 0.140625 7.71875 1.703125 \nL 7.71875 11.625 \nQ 12.109375 9.234375 16.796875 8.0625 \nQ 21.484375 6.890625 26.703125 6.890625 \nQ 35.15625 6.890625 40.078125 11.328125 \nQ 45.015625 15.765625 45.015625 23.390625 \nQ 45.015625 31 40.078125 35.4375 \nQ 35.15625 39.890625 26.703125 39.890625 \nQ 22.75 39.890625 18.8125 39.015625 \nQ 14.890625 38.140625 10.796875 36.28125 \nz\n\" id=\"DejaVuSans-35\"/>\n      </defs>\n      <g transform=\"translate(106.923883 242.738437)scale(0.1 -0.1)\">\n       <use xlink:href=\"#DejaVuSans-35\"/>\n       <use x=\"63.623047\" xlink:href=\"#DejaVuSans-30\"/>\n      </g>\n     </g>\n    </g>\n    <g id=\"xtick_3\">\n     <g id=\"line2d_3\">\n      <g>\n       <use style=\"stroke:#000000;stroke-width:0.8;\" x=\"175.32696\" xlink:href=\"#m22a31b7fa8\" y=\"228.14\"/>\n      </g>\n     </g>\n     <g id=\"text_3\">\n      <!-- 100 -->\n      <defs>\n       <path d=\"M 12.40625 8.296875 \nL 28.515625 8.296875 \nL 28.515625 63.921875 \nL 10.984375 60.40625 \nL 10.984375 69.390625 \nL 28.421875 72.90625 \nL 38.28125 72.90625 \nL 38.28125 8.296875 \nL 54.390625 8.296875 \nL 54.390625 0 \nL 12.40625 0 \nz\n\" id=\"DejaVuSans-31\"/>\n      </defs>\n      <g transform=\"translate(165.78321 242.738437)scale(0.1 -0.1)\">\n       <use xlink:href=\"#DejaVuSans-31\"/>\n       <use x=\"63.623047\" xlink:href=\"#DejaVuSans-30\"/>\n       <use x=\"127.246094\" xlink:href=\"#DejaVuSans-30\"/>\n      </g>\n     </g>\n    </g>\n    <g id=\"xtick_4\">\n     <g id=\"line2d_4\">\n      <g>\n       <use style=\"stroke:#000000;stroke-width:0.8;\" x=\"237.367536\" xlink:href=\"#m22a31b7fa8\" y=\"228.14\"/>\n      </g>\n     </g>\n     <g id=\"text_4\">\n      <!-- 150 -->\n      <g transform=\"translate(227.823786 242.738437)scale(0.1 -0.1)\">\n       <use xlink:href=\"#DejaVuSans-31\"/>\n       <use x=\"63.623047\" xlink:href=\"#DejaVuSans-35\"/>\n       <use x=\"127.246094\" xlink:href=\"#DejaVuSans-30\"/>\n      </g>\n     </g>\n    </g>\n    <g id=\"xtick_5\">\n     <g id=\"line2d_5\">\n      <g>\n       <use style=\"stroke:#000000;stroke-width:0.8;\" x=\"299.408113\" xlink:href=\"#m22a31b7fa8\" y=\"228.14\"/>\n      </g>\n     </g>\n     <g id=\"text_5\">\n      <!-- 200 -->\n      <defs>\n       <path d=\"M 19.1875 8.296875 \nL 53.609375 8.296875 \nL 53.609375 0 \nL 7.328125 0 \nL 7.328125 8.296875 \nQ 12.9375 14.109375 22.625 23.890625 \nQ 32.328125 33.6875 34.8125 36.53125 \nQ 39.546875 41.84375 41.421875 45.53125 \nQ 43.3125 49.21875 43.3125 52.78125 \nQ 43.3125 58.59375 39.234375 62.25 \nQ 35.15625 65.921875 28.609375 65.921875 \nQ 23.96875 65.921875 18.8125 64.3125 \nQ 13.671875 62.703125 7.8125 59.421875 \nL 7.8125 69.390625 \nQ 13.765625 71.78125 18.9375 73 \nQ 24.125 74.21875 28.421875 74.21875 \nQ 39.75 74.21875 46.484375 68.546875 \nQ 53.21875 62.890625 53.21875 53.421875 \nQ 53.21875 48.921875 51.53125 44.890625 \nQ 49.859375 40.875 45.40625 35.40625 \nQ 44.1875 33.984375 37.640625 27.21875 \nQ 31.109375 20.453125 19.1875 8.296875 \nz\n\" id=\"DejaVuSans-32\"/>\n      </defs>\n      <g transform=\"translate(289.864363 242.738437)scale(0.1 -0.1)\">\n       <use xlink:href=\"#DejaVuSans-32\"/>\n       <use x=\"63.623047\" xlink:href=\"#DejaVuSans-30\"/>\n       <use x=\"127.246094\" xlink:href=\"#DejaVuSans-30\"/>\n      </g>\n     </g>\n    </g>\n    <g id=\"xtick_6\">\n     <g id=\"line2d_6\">\n      <g>\n       <use style=\"stroke:#000000;stroke-width:0.8;\" x=\"361.44869\" xlink:href=\"#m22a31b7fa8\" y=\"228.14\"/>\n      </g>\n     </g>\n     <g id=\"text_6\">\n      <!-- 250 -->\n      <g transform=\"translate(351.90494 242.738437)scale(0.1 -0.1)\">\n       <use xlink:href=\"#DejaVuSans-32\"/>\n       <use x=\"63.623047\" xlink:href=\"#DejaVuSans-35\"/>\n       <use x=\"127.246094\" xlink:href=\"#DejaVuSans-30\"/>\n      </g>\n     </g>\n    </g>\n   </g>\n   <g id=\"matplotlib.axis_2\">\n    <g id=\"ytick_1\">\n     <g id=\"line2d_7\">\n      <defs>\n       <path d=\"M 0 0 \nL -3.5 0 \n\" id=\"me9337f3496\" style=\"stroke:#000000;stroke-width:0.8;\"/>\n      </defs>\n      <g>\n       <use style=\"stroke:#000000;stroke-width:0.8;\" x=\"36.465625\" xlink:href=\"#me9337f3496\" y=\"228.14\"/>\n      </g>\n     </g>\n     <g id=\"text_7\">\n      <!-- 0.00 -->\n      <defs>\n       <path d=\"M 10.6875 12.40625 \nL 21 12.40625 \nL 21 0 \nL 10.6875 0 \nz\n\" id=\"DejaVuSans-2e\"/>\n      </defs>\n      <g transform=\"translate(7.2 231.939219)scale(0.1 -0.1)\">\n       <use xlink:href=\"#DejaVuSans-30\"/>\n       <use x=\"63.623047\" xlink:href=\"#DejaVuSans-2e\"/>\n       <use x=\"95.410156\" xlink:href=\"#DejaVuSans-30\"/>\n       <use x=\"159.033203\" xlink:href=\"#DejaVuSans-30\"/>\n      </g>\n     </g>\n    </g>\n    <g id=\"ytick_2\">\n     <g id=\"line2d_8\">\n      <g>\n       <use style=\"stroke:#000000;stroke-width:0.8;\" x=\"36.465625\" xlink:href=\"#me9337f3496\" y=\"201.052604\"/>\n      </g>\n     </g>\n     <g id=\"text_8\">\n      <!-- 0.02 -->\n      <g transform=\"translate(7.2 204.851822)scale(0.1 -0.1)\">\n       <use xlink:href=\"#DejaVuSans-30\"/>\n       <use x=\"63.623047\" xlink:href=\"#DejaVuSans-2e\"/>\n       <use x=\"95.410156\" xlink:href=\"#DejaVuSans-30\"/>\n       <use x=\"159.033203\" xlink:href=\"#DejaVuSans-32\"/>\n      </g>\n     </g>\n    </g>\n    <g id=\"ytick_3\">\n     <g id=\"line2d_9\">\n      <g>\n       <use style=\"stroke:#000000;stroke-width:0.8;\" x=\"36.465625\" xlink:href=\"#me9337f3496\" y=\"173.965207\"/>\n      </g>\n     </g>\n     <g id=\"text_9\">\n      <!-- 0.04 -->\n      <defs>\n       <path d=\"M 37.796875 64.3125 \nL 12.890625 25.390625 \nL 37.796875 25.390625 \nz\nM 35.203125 72.90625 \nL 47.609375 72.90625 \nL 47.609375 25.390625 \nL 58.015625 25.390625 \nL 58.015625 17.1875 \nL 47.609375 17.1875 \nL 47.609375 0 \nL 37.796875 0 \nL 37.796875 17.1875 \nL 4.890625 17.1875 \nL 4.890625 26.703125 \nz\n\" id=\"DejaVuSans-34\"/>\n      </defs>\n      <g transform=\"translate(7.2 177.764426)scale(0.1 -0.1)\">\n       <use xlink:href=\"#DejaVuSans-30\"/>\n       <use x=\"63.623047\" xlink:href=\"#DejaVuSans-2e\"/>\n       <use x=\"95.410156\" xlink:href=\"#DejaVuSans-30\"/>\n       <use x=\"159.033203\" xlink:href=\"#DejaVuSans-34\"/>\n      </g>\n     </g>\n    </g>\n    <g id=\"ytick_4\">\n     <g id=\"line2d_10\">\n      <g>\n       <use style=\"stroke:#000000;stroke-width:0.8;\" x=\"36.465625\" xlink:href=\"#me9337f3496\" y=\"146.877811\"/>\n      </g>\n     </g>\n     <g id=\"text_10\">\n      <!-- 0.06 -->\n      <defs>\n       <path d=\"M 33.015625 40.375 \nQ 26.375 40.375 22.484375 35.828125 \nQ 18.609375 31.296875 18.609375 23.390625 \nQ 18.609375 15.53125 22.484375 10.953125 \nQ 26.375 6.390625 33.015625 6.390625 \nQ 39.65625 6.390625 43.53125 10.953125 \nQ 47.40625 15.53125 47.40625 23.390625 \nQ 47.40625 31.296875 43.53125 35.828125 \nQ 39.65625 40.375 33.015625 40.375 \nz\nM 52.59375 71.296875 \nL 52.59375 62.3125 \nQ 48.875 64.0625 45.09375 64.984375 \nQ 41.3125 65.921875 37.59375 65.921875 \nQ 27.828125 65.921875 22.671875 59.328125 \nQ 17.53125 52.734375 16.796875 39.40625 \nQ 19.671875 43.65625 24.015625 45.921875 \nQ 28.375 48.1875 33.59375 48.1875 \nQ 44.578125 48.1875 50.953125 41.515625 \nQ 57.328125 34.859375 57.328125 23.390625 \nQ 57.328125 12.15625 50.6875 5.359375 \nQ 44.046875 -1.421875 33.015625 -1.421875 \nQ 20.359375 -1.421875 13.671875 8.265625 \nQ 6.984375 17.96875 6.984375 36.375 \nQ 6.984375 53.65625 15.1875 63.9375 \nQ 23.390625 74.21875 37.203125 74.21875 \nQ 40.921875 74.21875 44.703125 73.484375 \nQ 48.484375 72.75 52.59375 71.296875 \nz\n\" id=\"DejaVuSans-36\"/>\n      </defs>\n      <g transform=\"translate(7.2 150.677029)scale(0.1 -0.1)\">\n       <use xlink:href=\"#DejaVuSans-30\"/>\n       <use x=\"63.623047\" xlink:href=\"#DejaVuSans-2e\"/>\n       <use x=\"95.410156\" xlink:href=\"#DejaVuSans-30\"/>\n       <use x=\"159.033203\" xlink:href=\"#DejaVuSans-36\"/>\n      </g>\n     </g>\n    </g>\n    <g id=\"ytick_5\">\n     <g id=\"line2d_11\">\n      <g>\n       <use style=\"stroke:#000000;stroke-width:0.8;\" x=\"36.465625\" xlink:href=\"#me9337f3496\" y=\"119.790414\"/>\n      </g>\n     </g>\n     <g id=\"text_11\">\n      <!-- 0.08 -->\n      <defs>\n       <path d=\"M 31.78125 34.625 \nQ 24.75 34.625 20.71875 30.859375 \nQ 16.703125 27.09375 16.703125 20.515625 \nQ 16.703125 13.921875 20.71875 10.15625 \nQ 24.75 6.390625 31.78125 6.390625 \nQ 38.8125 6.390625 42.859375 10.171875 \nQ 46.921875 13.96875 46.921875 20.515625 \nQ 46.921875 27.09375 42.890625 30.859375 \nQ 38.875 34.625 31.78125 34.625 \nz\nM 21.921875 38.8125 \nQ 15.578125 40.375 12.03125 44.71875 \nQ 8.5 49.078125 8.5 55.328125 \nQ 8.5 64.0625 14.71875 69.140625 \nQ 20.953125 74.21875 31.78125 74.21875 \nQ 42.671875 74.21875 48.875 69.140625 \nQ 55.078125 64.0625 55.078125 55.328125 \nQ 55.078125 49.078125 51.53125 44.71875 \nQ 48 40.375 41.703125 38.8125 \nQ 48.828125 37.15625 52.796875 32.3125 \nQ 56.78125 27.484375 56.78125 20.515625 \nQ 56.78125 9.90625 50.3125 4.234375 \nQ 43.84375 -1.421875 31.78125 -1.421875 \nQ 19.734375 -1.421875 13.25 4.234375 \nQ 6.78125 9.90625 6.78125 20.515625 \nQ 6.78125 27.484375 10.78125 32.3125 \nQ 14.796875 37.15625 21.921875 38.8125 \nz\nM 18.3125 54.390625 \nQ 18.3125 48.734375 21.84375 45.5625 \nQ 25.390625 42.390625 31.78125 42.390625 \nQ 38.140625 42.390625 41.71875 45.5625 \nQ 45.3125 48.734375 45.3125 54.390625 \nQ 45.3125 60.0625 41.71875 63.234375 \nQ 38.140625 66.40625 31.78125 66.40625 \nQ 25.390625 66.40625 21.84375 63.234375 \nQ 18.3125 60.0625 18.3125 54.390625 \nz\n\" id=\"DejaVuSans-38\"/>\n      </defs>\n      <g transform=\"translate(7.2 123.589633)scale(0.1 -0.1)\">\n       <use xlink:href=\"#DejaVuSans-30\"/>\n       <use x=\"63.623047\" xlink:href=\"#DejaVuSans-2e\"/>\n       <use x=\"95.410156\" xlink:href=\"#DejaVuSans-30\"/>\n       <use x=\"159.033203\" xlink:href=\"#DejaVuSans-38\"/>\n      </g>\n     </g>\n    </g>\n    <g id=\"ytick_6\">\n     <g id=\"line2d_12\">\n      <g>\n       <use style=\"stroke:#000000;stroke-width:0.8;\" x=\"36.465625\" xlink:href=\"#me9337f3496\" y=\"92.703018\"/>\n      </g>\n     </g>\n     <g id=\"text_12\">\n      <!-- 0.10 -->\n      <g transform=\"translate(7.2 96.502236)scale(0.1 -0.1)\">\n       <use xlink:href=\"#DejaVuSans-30\"/>\n       <use x=\"63.623047\" xlink:href=\"#DejaVuSans-2e\"/>\n       <use x=\"95.410156\" xlink:href=\"#DejaVuSans-31\"/>\n       <use x=\"159.033203\" xlink:href=\"#DejaVuSans-30\"/>\n      </g>\n     </g>\n    </g>\n    <g id=\"ytick_7\">\n     <g id=\"line2d_13\">\n      <g>\n       <use style=\"stroke:#000000;stroke-width:0.8;\" x=\"36.465625\" xlink:href=\"#me9337f3496\" y=\"65.615621\"/>\n      </g>\n     </g>\n     <g id=\"text_13\">\n      <!-- 0.12 -->\n      <g transform=\"translate(7.2 69.41484)scale(0.1 -0.1)\">\n       <use xlink:href=\"#DejaVuSans-30\"/>\n       <use x=\"63.623047\" xlink:href=\"#DejaVuSans-2e\"/>\n       <use x=\"95.410156\" xlink:href=\"#DejaVuSans-31\"/>\n       <use x=\"159.033203\" xlink:href=\"#DejaVuSans-32\"/>\n      </g>\n     </g>\n    </g>\n    <g id=\"ytick_8\">\n     <g id=\"line2d_14\">\n      <g>\n       <use style=\"stroke:#000000;stroke-width:0.8;\" x=\"36.465625\" xlink:href=\"#me9337f3496\" y=\"38.528225\"/>\n      </g>\n     </g>\n     <g id=\"text_14\">\n      <!-- 0.14 -->\n      <g transform=\"translate(7.2 42.327443)scale(0.1 -0.1)\">\n       <use xlink:href=\"#DejaVuSans-30\"/>\n       <use x=\"63.623047\" xlink:href=\"#DejaVuSans-2e\"/>\n       <use x=\"95.410156\" xlink:href=\"#DejaVuSans-31\"/>\n       <use x=\"159.033203\" xlink:href=\"#DejaVuSans-34\"/>\n      </g>\n     </g>\n    </g>\n    <g id=\"ytick_9\">\n     <g id=\"line2d_15\">\n      <g>\n       <use style=\"stroke:#000000;stroke-width:0.8;\" x=\"36.465625\" xlink:href=\"#me9337f3496\" y=\"11.440828\"/>\n      </g>\n     </g>\n     <g id=\"text_15\">\n      <!-- 0.16 -->\n      <g transform=\"translate(7.2 15.240047)scale(0.1 -0.1)\">\n       <use xlink:href=\"#DejaVuSans-30\"/>\n       <use x=\"63.623047\" xlink:href=\"#DejaVuSans-2e\"/>\n       <use x=\"95.410156\" xlink:href=\"#DejaVuSans-31\"/>\n       <use x=\"159.033203\" xlink:href=\"#DejaVuSans-36\"/>\n      </g>\n     </g>\n    </g>\n   </g>\n   <g id=\"line2d_16\">\n    <path clip-path=\"url(#pcda5603b69)\" d=\"M 51.683807 228.133842 \nL 54.758187 226.736259 \nL 57.832567 216.11906 \nL 60.906947 143.408093 \nL 63.981327 21.054286 \nL 67.055708 72.681186 \nL 70.130088 158.648764 \nL 73.204468 210.743541 \nL 76.278848 226.244609 \nL 79.353228 227.877486 \nL 82.427608 228.13995 \nL 85.501989 228.14 \nL 88.576369 228.14 \nL 91.650749 228.14 \nL 94.725129 228.14 \nL 97.799509 228.14 \nL 100.873889 228.14 \nL 103.94827 228.14 \nL 107.02265 228.14 \nL 110.09703 228.14 \nL 113.17141 228.14 \nL 116.24579 228.14 \nL 119.32017 228.14 \nL 122.394551 228.14 \nL 125.468931 228.14 \nL 128.543311 228.14 \nL 131.617691 228.14 \nL 134.692071 228.14 \nL 137.766451 228.14 \nL 140.840832 228.14 \nL 143.915212 228.14 \nL 146.989592 228.14 \nL 150.063972 228.14 \nL 153.138352 228.14 \nL 156.212732 228.14 \nL 159.287113 228.14 \nL 162.361493 228.14 \nL 165.435873 228.14 \nL 168.510253 228.14 \nL 171.584633 228.14 \nL 174.659013 228.14 \nL 177.733394 228.14 \nL 180.807774 228.14 \nL 183.882154 228.14 \nL 186.956534 228.14 \nL 190.030914 228.14 \nL 193.105294 228.14 \nL 196.179675 228.14 \nL 199.254055 228.14 \nL 202.328435 228.14 \nL 205.402815 228.14 \nL 208.477195 228.14 \nL 211.551575 228.14 \nL 214.625956 228.14 \nL 217.700336 228.14 \nL 220.774716 228.14 \nL 223.849096 228.14 \nL 226.923476 228.14 \nL 229.997856 228.14 \nL 233.072237 228.14 \nL 236.146617 228.14 \nL 239.220997 228.14 \nL 242.295377 228.14 \nL 245.369757 228.14 \nL 248.444137 228.14 \nL 251.518518 228.14 \nL 254.592898 228.14 \nL 257.667278 228.14 \nL 260.741658 228.14 \nL 263.816038 228.14 \nL 266.890418 228.14 \nL 269.964799 228.14 \nL 273.039179 228.14 \nL 276.113559 228.14 \nL 279.187939 228.14 \nL 282.262319 228.14 \nL 285.336699 228.14 \nL 288.41108 228.14 \nL 291.48546 228.14 \nL 294.55984 228.14 \nL 297.63422 228.14 \nL 300.7086 228.14 \nL 303.78298 228.14 \nL 306.857361 228.14 \nL 309.931741 228.14 \nL 313.006121 228.14 \nL 316.080501 228.14 \nL 319.154881 228.14 \nL 322.229261 228.14 \nL 325.303642 228.14 \nL 328.378022 228.14 \nL 331.452402 228.14 \nL 334.526782 228.14 \nL 337.601162 228.14 \nL 340.675542 228.14 \nL 343.749923 228.14 \nL 346.824303 228.14 \nL 349.898683 228.14 \nL 352.973063 228.110645 \nL 356.047443 228.138975 \n\" style=\"fill:none;stroke:#1f77b4;stroke-linecap:square;stroke-width:1.5;\"/>\n   </g>\n   <g id=\"patch_53\">\n    <path d=\"M 36.465625 228.14 \nL 36.465625 10.7 \n\" style=\"fill:none;stroke:#000000;stroke-linecap:square;stroke-linejoin:miter;stroke-width:0.8;\"/>\n   </g>\n   <g id=\"patch_54\">\n    <path d=\"M 371.265625 228.14 \nL 371.265625 10.7 \n\" style=\"fill:none;stroke:#000000;stroke-linecap:square;stroke-linejoin:miter;stroke-width:0.8;\"/>\n   </g>\n   <g id=\"patch_55\">\n    <path d=\"M 36.465625 228.14 \nL 371.265625 228.14 \n\" style=\"fill:none;stroke:#000000;stroke-linecap:square;stroke-linejoin:miter;stroke-width:0.8;\"/>\n   </g>\n   <g id=\"patch_56\">\n    <path d=\"M 36.465625 10.7 \nL 371.265625 10.7 \n\" style=\"fill:none;stroke:#000000;stroke-linecap:square;stroke-linejoin:miter;stroke-width:0.8;\"/>\n   </g>\n  </g>\n </g>\n <defs>\n  <clipPath id=\"pcda5603b69\">\n   <rect height=\"217.44\" width=\"334.8\" x=\"36.465625\" y=\"10.7\"/>\n  </clipPath>\n </defs>\n</svg>\n",
      "image/png": "[encoded data removed]"
     },
     "metadata": {}
    }
   ],
   "source": [
    "word_size = [len(text2idx(text)) for text in train.TITLE]\n",
    "import seaborn as sns\n",
    "sns.distplot(word_size)"
   ]
  },
  {
   "cell_type": "code",
   "execution_count": 162,
   "metadata": {},
   "outputs": [
    {
     "output_type": "execute_result",
     "data": {
      "text/plain": "tensor([[4, 1, 1, 4, 1, 2, 1, 1, 3, 0, 0, 0, 0, 0, 0, 0, 0, 0, 0, 0, 0, 0, 0, 0,\n         0],\n        [7, 1, 1, 1, 8, 6, 5, 1, 1, 9, 1, 1, 0, 0, 0, 0, 0, 0, 0, 0, 0, 0, 0, 0,\n         0]])"
     },
     "metadata": {},
     "execution_count": 162
    }
   ],
   "source": [
    "x_train = [text2idx(text)[:25] for text in train.TITLE]\n",
    "\n",
    "# padding: 配列長を揃える\n",
    "# batch_first=True -> returns [batch_size, sequence length, dimension]\n",
    "x_train = pad_sequence(x_train, batch_first=True) \n",
    "x_train[:2]"
   ]
  },
  {
   "cell_type": "code",
   "execution_count": 163,
   "metadata": {},
   "outputs": [
    {
     "output_type": "execute_result",
     "data": {
      "text/plain": "tensor([[0.2445, 0.3312, 0.2200, 0.2043],\n        [0.2413, 0.3042, 0.2531, 0.2015],\n        [0.2368, 0.3173, 0.2234, 0.2225],\n        ...,\n        [0.2426, 0.3229, 0.2347, 0.1999],\n        [0.2365, 0.3260, 0.2240, 0.2135],\n        [0.2534, 0.3056, 0.2396, 0.2014]], grad_fn=<SoftmaxBackward>)"
     },
     "metadata": {},
     "execution_count": 163
    }
   ],
   "source": [
    "model = RNN(num_words=len(dictionary)+2, hidden_dim=50).to(device) # set dimension of hidden layers as 50\n",
    "res = model.forward(x_train)\n",
    "res"
   ]
  },
  {
   "cell_type": "markdown",
   "metadata": {},
   "source": [
    "## 82. 確率的勾配降下法による学習\n",
    "\n",
    "確率的勾配降下法（SGD: Stochastic Gradient Descent）を用いて，問題81で構築したモデルを学習せよ．訓練データ上の損失と正解率，評価データ上の損失と正解率を表示しながらモデルを学習し，適当な基準（例えば10エポックなど）で終了させよ．\n",
    "\n",
    "## 83. ミニバッチ化・GPU上での学習\n",
    "\n",
    "問題82のコードを改変し，B\n",
    "事例ごとに損失・勾配を計算して学習を行えるようにせよ（Bの値は適当に選べ）．また，GPU上で学習を実行せよ．"
   ]
  },
  {
   "cell_type": "code",
   "execution_count": 164,
   "metadata": {},
   "outputs": [],
   "source": [
    "from sklearn.metrics import accuracy_score"
   ]
  },
  {
   "cell_type": "code",
   "execution_count": 165,
   "metadata": {},
   "outputs": [
    {
     "output_type": "execute_result",
     "data": {
      "text/plain": "[2, 1, 2, 2, 3]"
     },
     "metadata": {},
     "execution_count": 165
    }
   ],
   "source": [
    "#b = business, t = science and technology, e = entertainment, m = health\n",
    "y = np.identity(4).astype(int)\n",
    "y_dict = {\"b\":0, \"t\":1, \"e\":2, \"m\":3}\n",
    "y_train = [y_dict[c] for c in train.CATEGORY]\n",
    "y_test = [y_dict[c] for c in test.CATEGORY]\n",
    "y_valid = [y_dict[c] for c in valid.CATEGORY]\n",
    "y_train[:5]"
   ]
  },
  {
   "cell_type": "code",
   "execution_count": 166,
   "metadata": {},
   "outputs": [],
   "source": [
    "# Model\n",
    "model = RNN(num_words=len(dictionary)+2, hidden_dim=50).to(device) \n",
    "\n",
    "# Optimmizer\n",
    "optimizer = optimizers.SGD(model.parameters(), lr=0.1)\n",
    "\n",
    "# Dataset\n",
    "class TestDataset(torch.utils.data.Dataset):\n",
    "    def __init__(self, x, y, transform=None):\n",
    "        self.x = x\n",
    "        self.y = torch.Tensor(y).long().to(device)\n",
    "        self.transform = transform\n",
    "    def __len__(self):\n",
    "        return self.x.shape[0]\n",
    "    def __getitem__(self, idx):\n",
    "        x_out = self.x[idx]\n",
    "        y_out = self.y[idx]\n",
    "        if self.transform:\n",
    "            x_out = self.transform(x_out)\n",
    "        return x_out, y_out\n",
    "train_dataset = TestDataset(x_train, y_train)\n",
    "\n",
    "# DataLoader\n",
    "train_dataloader = DataLoader(train_dataset, batch_size=100, shuffle=True)\n",
    "\n",
    "# Loss \n",
    "loss_function = nn.CrossEntropyLoss()\n",
    "\n",
    "# Training step\n",
    "def train_step(x, t):\n",
    "    model.train()\n",
    "    preds = model(x)\n",
    "    loss = loss_function(preds, t)\n",
    "    optimizer.zero_grad()\n",
    "    loss.backward()\n",
    "    optimizer.step()\n",
    "    return loss, preds "
   ]
  },
  {
   "cell_type": "code",
   "execution_count": 167,
   "metadata": {
    "tags": [
     "outputPrepend",
     "outputPrepend",
     "outputPrepend",
     "outputPrepend",
     "outputPrepend",
     "outputPrepend",
     "outputPrepend",
     "outputPrepend",
     "outputPrepend",
     "outputPrepend",
     "outputPrepend",
     "outputPrepend",
     "outputPrepend",
     "outputPrepend",
     "outputPrepend",
     "outputPrepend",
     "outputPrepend",
     "outputPrepend",
     "outputPrepend",
     "outputPrepend",
     "outputPrepend",
     "outputPrepend",
     "outputPrepend",
     "outputPrepend",
     "outputPrepend",
     "outputPrepend",
     "outputPrepend",
     "outputPrepend",
     "outputPrepend",
     "outputPrepend",
     "outputPrepend",
     "outputPrepend",
     "outputPrepend",
     "outputPrepend",
     "outputPrepend",
     "outputPrepend",
     "outputPrepend",
     "outputPrepend",
     "outputPrepend",
     "outputPrepend",
     "outputPrepend",
     "outputPrepend",
     "outputPrepend",
     "outputPrepend",
     "outputPrepend",
     "outputPrepend",
     "outputPrepend",
     "outputPrepend",
     "outputPrepend",
     "outputPrepend",
     "outputPrepend",
     "outputPrepend",
     "outputPrepend",
     "outputPrepend",
     "outputPrepend",
     "outputPrepend",
     "outputPrepend",
     "outputPrepend",
     "outputPrepend",
     "outputPrepend",
     "outputPrepend",
     "outputPrepend",
     "outputPrepend",
     "outputPrepend",
     "outputPrepend",
     "outputPrepend",
     "outputPrepend",
     "outputPrepend",
     "outputPrepend",
     "outputPrepend",
     "outputPrepend",
     "outputPrepend",
     "outputPrepend",
     "outputPrepend",
     "outputPrepend",
     "outputPrepend",
     "outputPrepend",
     "outputPrepend",
     "outputPrepend",
     "outputPrepend",
     "outputPrepend",
     "outputPrepend",
     "outputPrepend",
     "outputPrepend",
     "outputPrepend",
     "outputPrepend",
     "outputPrepend",
     "outputPrepend",
     "outputPrepend",
     "outputPrepend",
     "outputPrepend",
     "outputPrepend",
     "outputPrepend",
     "outputPrepend",
     "outputPrepend",
     "outputPrepend",
     "outputPrepend",
     "outputPrepend",
     "outputPrepend",
     "outputPrepend",
     "outputPrepend",
     "outputPrepend",
     "outputPrepend",
     "outputPrepend",
     "outputPrepend",
     "outputPrepend",
     "outputPrepend",
     "outputPrepend",
     "outputPrepend",
     "outputPrepend",
     "outputPrepend",
     "outputPrepend",
     "outputPrepend",
     "outputPrepend",
     "outputPrepend",
     "outputPrepend",
     "outputPrepend",
     "outputPrepend",
     "outputPrepend",
     "outputPrepend",
     "outputPrepend",
     "outputPrepend",
     "outputPrepend",
     "outputPrepend",
     "outputPrepend",
     "outputPrepend",
     "outputPrepend",
     "outputPrepend",
     "outputPrepend",
     "outputPrepend",
     "outputPrepend",
     "outputPrepend",
     "outputPrepend",
     "outputPrepend",
     "outputPrepend",
     "outputPrepend",
     "outputPrepend",
     "outputPrepend",
     "outputPrepend",
     "outputPrepend",
     "outputPrepend",
     "outputPrepend",
     "outputPrepend",
     "outputPrepend",
     "outputPrepend",
     "outputPrepend",
     "outputPrepend",
     "outputPrepend",
     "outputPrepend",
     "outputPrepend",
     "outputPrepend",
     "outputPrepend",
     "outputPrepend",
     "outputPrepend",
     "outputPrepend",
     "outputPrepend",
     "outputPrepend",
     "outputPrepend",
     "outputPrepend",
     "outputPrepend",
     "outputPrepend",
     "outputPrepend",
     "outputPrepend",
     "outputPrepend",
     "outputPrepend",
     "outputPrepend",
     "outputPrepend",
     "outputPrepend",
     "outputPrepend",
     "outputPrepend",
     "outputPrepend",
     "outputPrepend",
     "outputPrepend",
     "outputPrepend",
     "outputPrepend",
     "outputPrepend",
     "outputPrepend",
     "outputPrepend",
     "outputPrepend",
     "outputPrepend",
     "outputPrepend",
     "outputPrepend",
     "outputPrepend",
     "outputPrepend",
     "outputPrepend",
     "outputPrepend",
     "outputPrepend",
     "outputPrepend",
     "outputPrepend",
     "outputPrepend",
     "outputPrepend",
     "outputPrepend",
     "outputPrepend",
     "outputPrepend",
     "outputPrepend",
     "outputPrepend",
     "outputPrepend",
     "outputPrepend",
     "outputPrepend",
     "outputPrepend",
     "outputPrepend",
     "outputPrepend",
     "outputPrepend",
     "outputPrepend",
     "outputPrepend",
     "outputPrepend",
     "outputPrepend",
     "outputPrepend",
     "outputPrepend",
     "outputPrepend",
     "outputPrepend",
     "outputPrepend",
     "outputPrepend",
     "outputPrepend",
     "outputPrepend",
     "outputPrepend",
     "outputPrepend"
    ]
   },
   "outputs": [
    {
     "output_type": "stream",
     "name": "stdout",
     "text": "epoch: 1, loss: 1.29, acc: 0.397\nepoch: 2, loss: 1.25, acc: 0.475\nepoch: 3, loss: 1.2, acc: 0.535\nepoch: 4, loss: 1.19, acc: 0.553\nepoch: 5, loss: 1.17, acc: 0.572\nepoch: 6, loss: 1.16, acc: 0.577\nepoch: 7, loss: 1.15, acc: 0.594\nepoch: 8, loss: 1.13, acc: 0.606\nepoch: 9, loss: 1.12, acc: 0.615\nepoch: 10, loss: 1.12, acc: 0.621\n"
    }
   ],
   "source": [
    "epochs = 10\n",
    "for epoch in range(epochs):\n",
    "    train_loss = 0.\n",
    "    train_acc = 0.\n",
    "    for (x, t) in train_dataloader:\n",
    "        x, t = x.to(device), t.to(device)\n",
    "        loss, preds = train_step(x, t)\n",
    "        train_loss += loss.item()\n",
    "        train_acc += accuracy_score(t.tolist(), preds.argmax(dim=1).tolist())\n",
    "    train_loss /= len(train_dataloader)\n",
    "    train_acc /= len(train_dataloader)\n",
    "    print('epoch: {}, loss: {:.3}, acc: {:.3f}'.format(epoch+1, train_loss, train_acc ))"
   ]
  },
  {
   "cell_type": "markdown",
   "metadata": {},
   "source": [
    "## 84. 単語ベクトルの導入\n",
    "\n",
    "事前学習済みの単語ベクトル（例えば，Google Newsデータセット（約1,000億単語）での学習済み単語ベクトル）で単語埋め込みemb(x)を初期化し，学習せよ．"
   ]
  },
  {
   "cell_type": "code",
   "execution_count": 168,
   "metadata": {},
   "outputs": [
    {
     "output_type": "stream",
     "name": "stderr",
     "text": "/Users/maruyamatooru/.pyenv/versions/anaconda3-5.1.0/lib/python3.6/site-packages/smart_open/smart_open_lib.py:398: UserWarning: This function is deprecated, use smart_open.open instead. See the migration notes for details: https://github.com/RaRe-Technologies/smart_open/blob/master/README.rst#migrating-to-the-new-open-function\n  'See the migration notes for details: %s' % _MIGRATION_NOTES_URL\n"
    }
   ],
   "source": [
    "from gensim.models import KeyedVectors\n",
    "ifile = \"GoogleNews-vectors-negative300.bin.gz\"\n",
    "embeddings_index = KeyedVectors.load_word2vec_format(ifile, binary=True)"
   ]
  },
  {
   "cell_type": "code",
   "execution_count": 174,
   "metadata": {},
   "outputs": [
    {
     "output_type": "execute_result",
     "data": {
      "text/plain": "array([ 1.1291504e-03, -8.9645386e-04,  3.1852722e-04,  1.5335083e-03,\n        1.1062622e-03, -1.4038086e-03, -3.0517578e-05, -4.1961670e-04,\n       -5.7601929e-04,  1.0757446e-03, -1.0223389e-03, -6.1798096e-04,\n       -7.5531006e-04,  1.4038086e-03, -1.6403198e-03, -6.3323975e-04,\n        1.6326904e-03, -1.0070801e-03, -1.2664795e-03,  6.5231323e-04,\n       -4.1580200e-04, -1.0757446e-03,  1.5258789e-03, -2.7465820e-04,\n        1.4019012e-04,  1.5716553e-03,  1.3580322e-03, -8.3160400e-04,\n       -1.4038086e-03,  1.5792847e-03,  2.5367737e-04, -7.3242188e-04,\n       -1.0538101e-04, -1.1672974e-03,  1.5792847e-03,  6.5612793e-04,\n       -6.5994263e-04,  2.9206276e-06,  1.1291504e-03,  4.2724609e-04,\n       -3.7002563e-04, -1.1520386e-03,  1.2664795e-03, -3.5166740e-06,\n        2.6512146e-04, -4.0245056e-04,  1.4114380e-04, -3.3617020e-05,\n        7.5912476e-04, -5.1879883e-04, -7.1048737e-05,  6.0272217e-04,\n       -5.0735474e-04, -1.6250610e-03, -4.3678284e-04, -9.9182129e-04,\n       -1.2207031e-03, -3.2234192e-04,  6.8664551e-05, -1.1672974e-03,\n       -5.1116943e-04,  1.4114380e-03,  3.3569336e-04, -4.7492981e-04,\n       -1.3732910e-03,  3.6621094e-04, -1.4419556e-03, -6.0653687e-04,\n        8.0108643e-04,  1.1291504e-03, -8.3541870e-04, -1.1596680e-03,\n        9.1552734e-04,  5.2261353e-04, -3.2806396e-04,  1.5945435e-03,\n       -1.5792847e-03, -3.5667419e-04,  4.9591064e-04,  1.0147095e-03,\n       -1.0986328e-03, -1.6593933e-04, -1.4209747e-04, -2.6130676e-04,\n        1.2588501e-03,  3.8623810e-05,  1.6880035e-04, -1.0299683e-03,\n        1.6098022e-03,  6.2942505e-04,  4.1770935e-04, -1.3504028e-03,\n        3.4904480e-04,  1.1444092e-03, -1.2054443e-03, -1.1825562e-03,\n        9.4985962e-04,  6.0558319e-05,  1.0728836e-05, -6.6757202e-04,\n        1.2435913e-03,  6.9046021e-04,  5.5551529e-05, -8.6212158e-04,\n       -1.1672974e-03,  1.2130737e-03, -8.0490112e-04, -8.7738037e-04,\n        2.2792816e-04, -3.9672852e-04, -8.5830688e-04,  2.8800964e-04,\n       -1.5869141e-03,  4.8446655e-04, -1.1215210e-03,  1.9669533e-06,\n       -3.7956238e-04,  7.0571899e-04, -1.5869141e-03,  1.6250610e-03,\n        1.5563965e-03, -4.3106079e-04,  9.8419189e-04,  9.0408325e-04,\n       -1.3961792e-03,  1.2054443e-03, -7.0190430e-04,  2.7084351e-04,\n       -1.2359619e-03,  6.9046021e-04, -8.4304810e-04,  1.3427734e-03,\n       -1.4343262e-03, -6.7138672e-04,  1.5487671e-03, -1.0986328e-03,\n        1.1901855e-03, -1.4266968e-03, -6.8283081e-04, -7.8582764e-04,\n        4.8065186e-04,  4.0817261e-04, -6.3705444e-04,  1.4495850e-04,\n       -9.7656250e-04,  1.4495850e-03,  8.4564090e-07, -1.6632080e-03,\n       -3.2806396e-04,  6.2942505e-04, -1.4343262e-03, -3.4141541e-04,\n        1.1520386e-03, -5.3024292e-04, -4.7111511e-04, -8.5067749e-04,\n       -1.3809204e-03, -1.2435913e-03, -1.3275146e-03,  1.0757446e-03,\n        1.3198853e-03, -3.0326843e-04, -3.7431717e-05,  1.1825562e-03,\n       -1.3580322e-03, -1.0452271e-03,  5.6743622e-05, -1.0147095e-03,\n        4.3296814e-04, -1.5716553e-03, -9.1075897e-05,  1.0604858e-03,\n       -6.0272217e-04, -1.5335083e-03, -1.5335083e-03,  5.4168701e-04,\n        1.3351440e-03,  4.1198730e-04, -3.1089783e-04,  1.7642975e-04,\n       -1.3732910e-04, -6.9808960e-04, -8.6212158e-04, -1.0833740e-03,\n       -2.9802322e-05,  8.0108643e-04,  6.7901611e-04,  3.3569336e-04,\n       -1.3885498e-03,  1.3504028e-03,  2.3460388e-04, -1.3351440e-03,\n       -8.7356567e-04, -7.4386597e-04,  1.0833740e-03,  6.0558319e-05,\n       -1.2664795e-03,  1.1901855e-03, -6.2179565e-04,  1.3597310e-07,\n        1.2741089e-03, -9.8419189e-04, -1.5487671e-03,  1.5563965e-03,\n       -1.3122559e-03, -7.9345703e-04,  1.5335083e-03,  1.2969971e-03,\n       -1.8024445e-04,  9.1934204e-04,  1.2054443e-03,  7.7056885e-04,\n       -1.6555786e-03,  7.7056885e-04,  1.4495850e-03, -1.3046265e-03,\n        6.1035156e-04,  6.5994263e-04,  1.2588501e-03,  1.4190674e-03,\n       -1.2207031e-03, -1.5106201e-03,  1.1291504e-03,  1.3427734e-03,\n        1.6632080e-03, -5.7220459e-04, -5.5694580e-04,  3.9863586e-04,\n       -2.7084351e-04,  4.9591064e-04,  1.6098022e-03, -7.0571899e-04,\n        6.2561035e-04, -9.7656250e-04, -1.8978119e-04,  9.5367432e-05,\n       -5.1879883e-04, -2.0408630e-04, -8.2778931e-04, -1.2302399e-04,\n        7.6293945e-04,  3.2234192e-04, -1.2435913e-03,  9.9182129e-04,\n        1.0604858e-03, -1.4114380e-03,  9.6797943e-05, -1.5563965e-03,\n        2.1934509e-04, -5.5313110e-05, -9.1171265e-04, -1.4877319e-03,\n        1.3656616e-03, -8.4304810e-04, -4.1961670e-04,  3.2424927e-04,\n       -1.0070801e-03,  1.2588501e-04, -4.5585632e-04,  1.9264221e-04,\n       -2.6893616e-04,  1.4953613e-03, -1.5869141e-03,  5.9127808e-04,\n       -1.4648438e-03,  9.6511841e-04, -1.2817383e-03,  1.6021729e-03,\n        1.0910034e-03, -1.3122559e-03,  1.0910034e-03, -5.1116943e-04,\n        3.4523010e-04,  1.0452271e-03, -2.0694733e-04,  9.0408325e-04,\n        6.6757202e-04,  1.1062622e-03, -8.7356567e-04, -3.7574768e-04,\n       -2.5749207e-04, -9.1552734e-05,  1.4343262e-03, -1.1825562e-03,\n       -8.7261200e-05,  1.3275146e-03, -1.5830994e-04,  1.2893677e-03,\n       -9.8419189e-04, -5.4931641e-04, -1.5487671e-03,  1.3732910e-03,\n       -6.0796738e-05, -8.2397461e-04,  1.3275146e-03,  1.1596680e-03,\n        5.6838989e-04, -1.5640259e-03, -1.2302399e-04, -8.6307526e-05],\n      dtype=float32)"
     },
     "metadata": {},
     "execution_count": 174
    }
   ],
   "source": [
    "embeddings_index.word_vec(\"</s>\")"
   ]
  },
  {
   "cell_type": "code",
   "execution_count": 173,
   "metadata": {},
   "outputs": [
    {
     "output_type": "execute_result",
     "data": {
      "text/plain": "['</s>', 'in', 'for', 'that', 'is', 'on', '##', 'The', 'with', 'said']"
     },
     "metadata": {},
     "execution_count": 173
    }
   ],
   "source": [
    "embeddings_index.index2word[:10]"
   ]
  },
  {
   "cell_type": "code",
   "execution_count": null,
   "metadata": {},
   "outputs": [],
   "source": []
  }
 ]
}
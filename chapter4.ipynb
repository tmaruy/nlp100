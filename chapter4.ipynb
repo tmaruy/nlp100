{
 "nbformat": 4,
 "nbformat_minor": 2,
 "metadata": {
  "language_info": {
   "name": "python",
   "codemirror_mode": {
    "name": "ipython",
    "version": 3
   },
   "version": "3.6.4-final"
  },
  "orig_nbformat": 2,
  "file_extension": ".py",
  "mimetype": "text/x-python",
  "name": "python",
  "npconvert_exporter": "python",
  "pygments_lexer": "ipython3",
  "version": 3,
  "kernelspec": {
   "name": "python36464bitbaseconda1d0c2e3be8214c02b0fb731b7870def2",
   "display_name": "Python 3.6.4 64-bit ('base': conda)"
  }
 },
 "cells": [
  {
   "cell_type": "markdown",
   "metadata": {},
   "source": [
    "# 言語処理100本ノック 2020 第４章\n",
    "\n",
    "Reference: https://nlp100.github.io/ja/ch04.html"
   ]
  },
  {
   "cell_type": "code",
   "execution_count": 1,
   "metadata": {},
   "outputs": [
    {
     "output_type": "stream",
     "name": "stdout",
     "text": "--2020-04-13 06:49:05--  https://nlp100.github.io/data/neko.txt\nResolving nlp100.github.io...185.199.108.153, 185.199.111.153, 185.199.110.153, ...\nConnecting to nlp100.github.io|185.199.108.153|:443...connected.\nOpenSSL: error:1407742E:SSL routines:SSL23_GET_SERVER_HELLO:tlsv1 alert protocol version\nUnable to establish SSL connection.\n"
    }
   ],
   "source": [
    "! wget https://nlp100.github.io/data/neko.txt"
   ]
  },
  {
   "cell_type": "code",
   "execution_count": null,
   "metadata": {},
   "outputs": [],
   "source": []
  }
 ]
}
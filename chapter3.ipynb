{
 "nbformat": 4,
 "nbformat_minor": 2,
 "metadata": {
  "language_info": {
   "name": "python",
   "codemirror_mode": {
    "name": "ipython",
    "version": 3
   },
   "version": "3.6.4-final"
  },
  "orig_nbformat": 2,
  "file_extension": ".py",
  "mimetype": "text/x-python",
  "name": "python",
  "npconvert_exporter": "python",
  "pygments_lexer": "ipython3",
  "version": 3,
  "kernelspec": {
   "name": "python36464bitbaseconda1d0c2e3be8214c02b0fb731b7870def2",
   "display_name": "Python 3.6.4 64-bit ('base': conda)"
  }
 },
 "cells": [
  {
   "cell_type": "markdown",
   "metadata": {},
   "source": [
    "# 言語処理100本ノック 2020 第３章\n",
    "\n",
    "Reference: https://nlp100.github.io/ja/ch03.html"
   ]
  },
  {
   "cell_type": "code",
   "execution_count": 5,
   "metadata": {},
   "outputs": [],
   "source": [
    "!wget https://nlp100.github.io/data/jawiki-country.json.gz"
   ]
  },
  {
   "cell_type": "code",
   "execution_count": 27,
   "metadata": {},
   "outputs": [],
   "source": [
    "import json, gzip\n",
    "import numpy as np"
   ]
  },
  {
   "cell_type": "markdown",
   "metadata": {},
   "source": [
    "## 20. JSONデータの読み込み\n",
    "\n",
    "Wikipedia記事のJSONファイルを読み込み，「イギリス」に関する記事本文を表示せよ．問題21-29では，ここで抽出した記事本文に対して実行せよ．"
   ]
  },
  {
   "cell_type": "code",
   "execution_count": 25,
   "metadata": {},
   "outputs": [
    {
     "output_type": "execute_result",
     "data": {
      "text/plain": "'{{redirect|UK}}\\n{{redirect|英国|春秋時代の諸侯国|英 (春秋)}}\\n{{Otheruses|ヨーロッパの国|長崎県・熊本県の郷土料理|いぎりす}}\\n{{基礎情報 国\\n|略名  =イギリス\\n|日本語国名 = グレートブリテン及び北アイルランド連合王国\\n|公式国名 = {{lang|en|United Kingdom of Great Britain and Norther'"
     },
     "metadata": {},
     "execution_count": 25
    }
   ],
   "source": [
    "with gzip.open(\"jawiki-country.json.gz\", \"rt\", encoding=\"utf-8\") as fi:\n",
    "    for i,j in enumerate(fi):\n",
    "        tmp = json.loads(j)\n",
    "        if tmp[\"title\"] == \"イギリス\": break\n",
    "tmp[\"text\"][:200]"
   ]
  },
  {
   "cell_type": "markdown",
   "metadata": {},
   "source": [
    "## 21. カテゴリ名を含む行を抽出\n",
    "\n",
    "記事中でカテゴリ名を宣言している行を抽出せよ．"
   ]
  },
  {
   "cell_type": "code",
   "execution_count": 51,
   "metadata": {},
   "outputs": [
    {
     "output_type": "execute_result",
     "data": {
      "text/plain": "['[[Category:エジプト|*]]',\n '[[Category:共和国]]',\n '[[Category:軍事政権]]',\n '[[Category:フランコフォニー加盟国]]',\n '{{Main|オーストリア料理|Category:オーストリアの食文化}}']"
     },
     "metadata": {},
     "execution_count": 51
    }
   ],
   "source": [
    "with gzip.open(\"jawiki-country.json.gz\", \"rt\", encoding=\"utf-8\") as fi:\n",
    "    cat_lines = []\n",
    "    for i,j in enumerate(fi):\n",
    "        tmp = json.loads(j)\n",
    "        lines = tmp[\"text\"].split(\"\\n\")\n",
    "        cat_lines += [line for line in lines if \"Category:\" in line]\n",
    "cat_lines[:5]"
   ]
  },
  {
   "cell_type": "markdown",
   "metadata": {},
   "source": [
    "## 22. カテゴリ名の抽出\n",
    "\n",
    "記事のカテゴリ名を（行単位ではなく名前で）抽出せよ．"
   ]
  },
  {
   "cell_type": "code",
   "execution_count": 102,
   "metadata": {},
   "outputs": [
    {
     "output_type": "execute_result",
     "data": {
      "text/plain": "array(['1704年設立', '1801年に成立した国家・領域', '1804年に成立した国家・領域', '1886年に成立した国家・領域',\n       '1922年に成立した国家・領域'], dtype='<U32')"
     },
     "metadata": {},
     "execution_count": 102
    }
   ],
   "source": [
    "import re\n",
    "with gzip.open(\"jawiki-country.json.gz\", \"rt\", encoding=\"utf-8\") as fi:\n",
    "    categories = []\n",
    "    for i,j in enumerate(fi):\n",
    "        tmp = json.loads(j)\n",
    "        lines = tmp[\"text\"].split(\"\\n\")\n",
    "        categories += [re.split(\"\\\\]|\\\\)|\\\\|\", line.strip(\"[](){}\").split(\"Category:\")[1])[0] for line in lines if \"Category:\" in line]\n",
    "np.unique(categories)[:5]"
   ]
  },
  {
   "cell_type": "markdown",
   "metadata": {},
   "source": [
    "## 23. セクション構造\n",
    "\n",
    "記事中に含まれるセクション名とそのレベル（例えば”== セクション名 ==”なら1）を表示せよ．"
   ]
  },
  {
   "cell_type": "code",
   "execution_count": 101,
   "metadata": {},
   "outputs": [
    {
     "output_type": "execute_result",
     "data": {
      "text/plain": "[('独自研究', '1'), ('出典の明記', '1'), ('独自研究', '1'), ('出典の明記', '1'), ('出典の明記', '1')]"
     },
     "metadata": {},
     "execution_count": 101
    }
   ],
   "source": [
    "import re\n",
    "with gzip.open(\"jawiki-country.json.gz\", \"rt\", encoding=\"utf-8\") as fi:\n",
    "    sections = []\n",
    "    for i,j in enumerate(fi):\n",
    "        tmp = json.loads(j)\n",
    "        lines = tmp[\"text\"].split(\"\\n\")\n",
    "        for l in lines:\n",
    "            if \"|section=\" in l:\n",
    "                s_s = l.split(\"|\")\n",
    "                s_title = s_s[0].strip(\"{\")\n",
    "                s_level = re.search(\"section=[0-9]*\", l).group().split(\"=\")[1]\n",
    "                sections.append((s_title,s_level))\n",
    "sections[:5]"
   ]
  },
  {
   "cell_type": "markdown",
   "metadata": {},
   "source": [
    "## 24. ファイル参照の抽出\n",
    "\n",
    "記事から参照されているメディアファイルをすべて抜き出せ"
   ]
  },
  {
   "cell_type": "code",
   "execution_count": 107,
   "metadata": {
    "tags": [
     "outputPrepend",
     "outputPrepend",
     "outputPrepend"
    ]
   },
   "outputs": [
    {
     "output_type": "execute_result",
     "data": {
      "text/plain": "['Coat_of_arms_of_Egypt.svg',\n 'All Gizah Pyramids.jpg',\n 'Egyptiska hieroglyfer, Nordisk familjebok.png',\n 'ModernEgypt, Muhammad Ali by Auguste Couder, BAP 17996.jpg',\n 'Gamal Nasser.jpg']"
     },
     "metadata": {},
     "execution_count": 107
    }
   ],
   "source": [
    "import re\n",
    "with gzip.open(\"jawiki-country.json.gz\", \"rt\", encoding=\"utf-8\") as fi:\n",
    "    files = []\n",
    "    for i,j in enumerate(fi):\n",
    "        tmp = json.loads(j)\n",
    "        lines = tmp[\"text\"].split(\"\\n\")\n",
    "        files += [re.search(\"ファイル:.*\", l).group().split(\":\")[1].split(\"|\")[0].split(\"]\")[0] for l in lines if \"ファイル:\" in l]\n",
    "files[:5]"
   ]
  },
  {
   "cell_type": "markdown",
   "metadata": {},
   "source": [
    "## 25. テンプレートの抽出\n",
    "\n",
    "記事中に含まれる「基礎情報」テンプレートのフィールド名と値を抽出し，辞書オブジェクトとして格納せよ．"
   ]
  },
  {
   "cell_type": "code",
   "execution_count": 162,
   "metadata": {
    "tags": [
     "outputPrepend"
    ]
   },
   "outputs": [
    {
     "output_type": "error",
     "ename": "IndexError",
     "evalue": "list index out of range",
     "traceback": [
      "\u001b[0;31m---------------------------------------------------------------------------\u001b[0m",
      "\u001b[0;31mIndexError\u001b[0m                                Traceback (most recent call last)",
      "\u001b[0;32m<ipython-input-162-14d7d18bd9c3>\u001b[0m in \u001b[0;36m<module>\u001b[0;34m()\u001b[0m\n\u001b[1;32m      6\u001b[0m         \u001b[0mll\u001b[0m \u001b[0;34m=\u001b[0m \u001b[0mre\u001b[0m\u001b[0;34m.\u001b[0m\u001b[0msearch\u001b[0m\u001b[0;34m(\u001b[0m\u001b[0;34m\"{{基礎情報 (.|\\n)+\\n}}\"\u001b[0m\u001b[0;34m,\u001b[0m \u001b[0mtmp\u001b[0m\u001b[0;34m[\u001b[0m\u001b[0;34m\"text\"\u001b[0m\u001b[0;34m]\u001b[0m\u001b[0;34m)\u001b[0m\u001b[0;34m.\u001b[0m\u001b[0mgroup\u001b[0m\u001b[0;34m(\u001b[0m\u001b[0;34m)\u001b[0m\u001b[0;34m.\u001b[0m\u001b[0msplit\u001b[0m\u001b[0;34m(\u001b[0m\u001b[0;34m\"\\n|\"\u001b[0m\u001b[0;34m)\u001b[0m\u001b[0;34m\u001b[0m\u001b[0m\n\u001b[1;32m      7\u001b[0m         \u001b[0md\u001b[0m \u001b[0;34m=\u001b[0m \u001b[0mdict\u001b[0m\u001b[0;34m(\u001b[0m\u001b[0;34m)\u001b[0m\u001b[0;34m\u001b[0m\u001b[0m\n\u001b[0;32m----> 8\u001b[0;31m         \u001b[0;32mfor\u001b[0m \u001b[0ml\u001b[0m \u001b[0;32min\u001b[0m \u001b[0mll\u001b[0m\u001b[0;34m[\u001b[0m\u001b[0;36m1\u001b[0m\u001b[0;34m:\u001b[0m\u001b[0;34m]\u001b[0m\u001b[0;34m:\u001b[0m \u001b[0md\u001b[0m\u001b[0;34m[\u001b[0m\u001b[0ml\u001b[0m\u001b[0;34m.\u001b[0m\u001b[0msplit\u001b[0m\u001b[0;34m(\u001b[0m\u001b[0;34m\"=\"\u001b[0m\u001b[0;34m)\u001b[0m\u001b[0;34m[\u001b[0m\u001b[0;36m0\u001b[0m\u001b[0;34m]\u001b[0m\u001b[0;34m.\u001b[0m\u001b[0mstrip\u001b[0m\u001b[0;34m(\u001b[0m\u001b[0;34m\" \"\u001b[0m\u001b[0;34m)\u001b[0m\u001b[0;34m]\u001b[0m \u001b[0;34m=\u001b[0m \u001b[0ml\u001b[0m\u001b[0;34m.\u001b[0m\u001b[0msplit\u001b[0m\u001b[0;34m(\u001b[0m\u001b[0;34m\"=\"\u001b[0m\u001b[0;34m)\u001b[0m\u001b[0;34m[\u001b[0m\u001b[0;36m1\u001b[0m\u001b[0;34m]\u001b[0m\u001b[0;34m.\u001b[0m\u001b[0mstrip\u001b[0m\u001b[0;34m(\u001b[0m\u001b[0;34m\" \"\u001b[0m\u001b[0;34m)\u001b[0m\u001b[0;34m\u001b[0m\u001b[0m\n\u001b[0m\u001b[1;32m      9\u001b[0m         \u001b[0mresult\u001b[0m\u001b[0;34m[\u001b[0m\u001b[0mtmp\u001b[0m\u001b[0;34m[\u001b[0m\u001b[0;34m\"title\"\u001b[0m\u001b[0;34m]\u001b[0m\u001b[0;34m]\u001b[0m \u001b[0;34m=\u001b[0m \u001b[0md\u001b[0m\u001b[0;34m\u001b[0m\u001b[0m\n\u001b[1;32m     10\u001b[0m \u001b[0mresult\u001b[0m\u001b[0;34m\u001b[0m\u001b[0m\n",
      "\u001b[0;31mIndexError\u001b[0m: list index out of range"
     ]
    }
   ],
   "source": [
    "import re\n",
    "with gzip.open(\"jawiki-country.json.gz\", \"rt\", encoding=\"utf-8\") as fi:\n",
    "    result = dict()\n",
    "    for i,j in enumerate(fi):\n",
    "        tmp = json.loads(j)\n",
    "        d = dict()\n",
    "        ll = re.search(\"{{基礎情報 (.|\\n)+\\n}}\", tmp[\"text\"]).group().split(\"\\n|\")\n",
    "        for l in ll[1:]: d[l.split(\"=\")[0].strip(\" \")] = l.split(\"=\")[1].strip(\" \")\n",
    "        result[tmp[\"title\"]] = d\n",
    "result"
   ]
  },
  {
   "cell_type": "code",
   "execution_count": null,
   "metadata": {},
   "outputs": [],
   "source": []
  }
 ]
}
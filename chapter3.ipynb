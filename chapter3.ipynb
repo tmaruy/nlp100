{
 "nbformat": 4,
 "nbformat_minor": 2,
 "metadata": {
  "language_info": {
   "name": "python",
   "codemirror_mode": {
    "name": "ipython",
    "version": 3
   },
   "version": "3.6.4-final"
  },
  "orig_nbformat": 2,
  "file_extension": ".py",
  "mimetype": "text/x-python",
  "name": "python",
  "npconvert_exporter": "python",
  "pygments_lexer": "ipython3",
  "version": 3,
  "kernelspec": {
   "name": "python36464bitbaseconda1d0c2e3be8214c02b0fb731b7870def2",
   "display_name": "Python 3.6.4 64-bit ('base': conda)"
  }
 },
 "cells": [
  {
   "cell_type": "markdown",
   "metadata": {},
   "source": [
    "# 言語処理100本ノック 2020 第３章\n",
    "\n",
    "Reference: https://nlp100.github.io/ja/ch03.html"
   ]
  },
  {
   "cell_type": "code",
   "execution_count": 5,
   "metadata": {},
   "outputs": [],
   "source": [
    "!wget https://nlp100.github.io/data/jawiki-country.json.gz"
   ]
  },
  {
   "cell_type": "code",
   "execution_count": 27,
   "metadata": {},
   "outputs": [],
   "source": [
    "import json, gzip\n",
    "import numpy as np"
   ]
  },
  {
   "cell_type": "markdown",
   "metadata": {},
   "source": [
    "## 20. JSONデータの読み込み\n",
    "\n",
    "Wikipedia記事のJSONファイルを読み込み，「イギリス」に関する記事本文を表示せよ．問題21-29では，ここで抽出した記事本文に対して実行せよ．"
   ]
  },
  {
   "cell_type": "code",
   "execution_count": 25,
   "metadata": {},
   "outputs": [
    {
     "output_type": "execute_result",
     "data": {
      "text/plain": "'{{redirect|UK}}\\n{{redirect|英国|春秋時代の諸侯国|英 (春秋)}}\\n{{Otheruses|ヨーロッパの国|長崎県・熊本県の郷土料理|いぎりす}}\\n{{基礎情報 国\\n|略名  =イギリス\\n|日本語国名 = グレートブリテン及び北アイルランド連合王国\\n|公式国名 = {{lang|en|United Kingdom of Great Britain and Norther'"
     },
     "metadata": {},
     "execution_count": 25
    }
   ],
   "source": [
    "with gzip.open(\"jawiki-country.json.gz\", \"rt\", encoding=\"utf-8\") as fi:\n",
    "    for i,j in enumerate(fi):\n",
    "        tmp = json.loads(j)\n",
    "        if tmp[\"title\"] == \"イギリス\": break\n",
    "tmp[\"text\"][:200]"
   ]
  },
  {
   "cell_type": "markdown",
   "metadata": {},
   "source": [
    "## 21. カテゴリ名を含む行を抽出\n",
    "\n",
    "記事中でカテゴリ名を宣言している行を抽出せよ．"
   ]
  },
  {
   "cell_type": "code",
   "execution_count": 51,
   "metadata": {},
   "outputs": [
    {
     "output_type": "execute_result",
     "data": {
      "text/plain": "['[[Category:エジプト|*]]',\n '[[Category:共和国]]',\n '[[Category:軍事政権]]',\n '[[Category:フランコフォニー加盟国]]',\n '{{Main|オーストリア料理|Category:オーストリアの食文化}}']"
     },
     "metadata": {},
     "execution_count": 51
    }
   ],
   "source": [
    "with gzip.open(\"jawiki-country.json.gz\", \"rt\", encoding=\"utf-8\") as fi:\n",
    "    cat_lines = []\n",
    "    for i,j in enumerate(fi):\n",
    "        tmp = json.loads(j)\n",
    "        lines = tmp[\"text\"].split(\"\\n\")\n",
    "        cat_lines += [line for line in lines if \"Category:\" in line]\n",
    "cat_lines[:5]"
   ]
  },
  {
   "cell_type": "markdown",
   "metadata": {},
   "source": [
    "## 22. カテゴリ名の抽出\n",
    "\n",
    "記事のカテゴリ名を（行単位ではなく名前で）抽出せよ．"
   ]
  },
  {
   "cell_type": "code",
   "execution_count": 102,
   "metadata": {},
   "outputs": [
    {
     "output_type": "execute_result",
     "data": {
      "text/plain": "array(['1704年設立', '1801年に成立した国家・領域', '1804年に成立した国家・領域', '1886年に成立した国家・領域',\n       '1922年に成立した国家・領域'], dtype='<U32')"
     },
     "metadata": {},
     "execution_count": 102
    }
   ],
   "source": [
    "import re\n",
    "with gzip.open(\"jawiki-country.json.gz\", \"rt\", encoding=\"utf-8\") as fi:\n",
    "    categories = []\n",
    "    for i,j in enumerate(fi):\n",
    "        tmp = json.loads(j)\n",
    "        lines = tmp[\"text\"].split(\"\\n\")\n",
    "        categories += [re.split(\"\\\\]|\\\\)|\\\\|\", line.strip(\"[](){}\").split(\"Category:\")[1])[0] for line in lines if \"Category:\" in line]\n",
    "np.unique(categories)[:5]"
   ]
  },
  {
   "cell_type": "markdown",
   "metadata": {},
   "source": [
    "## 23. セクション構造\n",
    "\n",
    "記事中に含まれるセクション名とそのレベル（例えば”== セクション名 ==”なら1）を表示せよ．"
   ]
  },
  {
   "cell_type": "code",
   "execution_count": 101,
   "metadata": {},
   "outputs": [
    {
     "output_type": "execute_result",
     "data": {
      "text/plain": "[('独自研究', '1'), ('出典の明記', '1'), ('独自研究', '1'), ('出典の明記', '1'), ('出典の明記', '1')]"
     },
     "metadata": {},
     "execution_count": 101
    }
   ],
   "source": [
    "import re\n",
    "with gzip.open(\"jawiki-country.json.gz\", \"rt\", encoding=\"utf-8\") as fi:\n",
    "    sections = []\n",
    "    for i,j in enumerate(fi):\n",
    "        tmp = json.loads(j)\n",
    "        lines = tmp[\"text\"].split(\"\\n\")\n",
    "        for l in lines:\n",
    "            if \"|section=\" in l:\n",
    "                s_s = l.split(\"|\")\n",
    "                s_title = s_s[0].strip(\"{\")\n",
    "                s_level = re.search(\"section=[0-9]*\", l).group().split(\"=\")[1]\n",
    "                sections.append((s_title,s_level))\n",
    "sections[:5]"
   ]
  },
  {
   "cell_type": "markdown",
   "metadata": {},
   "source": [
    "## 24. ファイル参照の抽出\n",
    "\n",
    "記事から参照されているメディアファイルをすべて抜き出せ"
   ]
  },
  {
   "cell_type": "code",
   "execution_count": 107,
   "metadata": {
    "tags": [
     "outputPrepend",
     "outputPrepend",
     "outputPrepend"
    ]
   },
   "outputs": [
    {
     "output_type": "execute_result",
     "data": {
      "text/plain": "['Coat_of_arms_of_Egypt.svg',\n 'All Gizah Pyramids.jpg',\n 'Egyptiska hieroglyfer, Nordisk familjebok.png',\n 'ModernEgypt, Muhammad Ali by Auguste Couder, BAP 17996.jpg',\n 'Gamal Nasser.jpg']"
     },
     "metadata": {},
     "execution_count": 107
    }
   ],
   "source": [
    "import re\n",
    "with gzip.open(\"jawiki-country.json.gz\", \"rt\", encoding=\"utf-8\") as fi:\n",
    "    files = []\n",
    "    for i,j in enumerate(fi):\n",
    "        tmp = json.loads(j)\n",
    "        lines = tmp[\"text\"].split(\"\\n\")\n",
    "        files += [re.search(\"ファイル:.*\", l).group().split(\":\")[1].split(\"|\")[0].split(\"]\")[0] for l in lines if \"ファイル:\" in l]\n",
    "files[:5]"
   ]
  },
  {
   "cell_type": "markdown",
   "metadata": {},
   "source": [
    "## 25. テンプレートの抽出\n",
    "\n",
    "記事中に含まれる「基礎情報」テンプレートのフィールド名と値を抽出し，辞書オブジェクトとして格納せよ．"
   ]
  },
  {
   "cell_type": "code",
   "execution_count": 191,
   "metadata": {
    "tags": [
     "outputPrepend"
    ]
   },
   "outputs": [
    {
     "output_type": "execute_result",
     "data": {
      "text/plain": "dict_keys(['エジプト', 'オーストリア', 'インドネシア', 'イラク', 'イラン', 'チュニジア', 'トルコ', 'ロシア', 'コスタリカ', 'ラオス', '中華人民共和国', 'インド', 'パラグアイ', 'アルゼンチン', 'ウルグアイ', 'チリ', 'ボリビア', 'ペルー', 'メキシコ', 'スイス', 'イタリア', 'バチカン', 'エクアドル', 'イスラエル', 'ギリシャ', 'サウジアラビア', 'クウェート', 'スリランカ', 'アフガニスタン', 'ポルトガル', 'ナイジェリア', 'ヨルダン', 'パキスタン', 'レバノン', 'イエメン', 'オマーン', 'ネパール', 'クロアチア', 'スロベニア', 'アイルランド', 'ポーランド', 'バーレーン', 'ニュージーランド', 'ジャマイカ', 'アルメニア', 'ノルウェー', 'トルクメニスタン', 'コロンビア', 'チェコ', 'ブータン', 'エストニア', 'モロッコ', 'ソマリア', 'スロバキア', 'アラブ首長国連邦', 'キプロス', 'バングラデシュ', 'ブルネイ', 'アルジェリア', 'アンゴラ', 'ウガンダ', 'ガーナ', 'カメルーン', 'ギニア', 'ケニア', 'マリ共和国', 'スーダン', 'モザンビーク', 'マカオ', 'ニジェール', 'ルーマニア', 'ハンガリー', 'ウクライナ', '北マケドニア', 'コンゴ民主共和国', 'モーリタニア', 'カザフスタン', 'ジブチ', 'コモロ', '東ティモール', 'アルバニア', 'ボスニア・ヘルツェゴビナ', 'ベラルーシ', 'タンザニア', 'フィジー', 'シリア', 'ミクロネシア連邦', 'ルクセンブルク', 'マルタ', 'リヒテンシュタイン', 'モナコ', 'キューバ', 'モーリシャス', 'ウズベキスタン', 'モンゴル国', 'コンゴ共和国', 'タジキスタン', 'マラウイ', 'ジンバブエ', 'サンマリノ', 'ガイアナ', 'ニカラグア', 'ジョージア (国)', 'レソト', 'リトアニア', 'モルドバ', 'アゼルバイジャン', 'トンガ', 'アンドラ', 'ベネズエラ', 'カーボベルデ', '赤道ギニア', 'ギニアビサウ', 'エリトリア', 'コートジボワール', 'ガボン', 'サントメ・プリンシペ', 'ザンビア', 'エスワティニ', 'スリナム', 'パプアニューギニア', 'セーシェル', 'セネガル', 'ベナン', '中央アフリカ共和国', 'トーゴ', 'リベリア', 'ソロモン諸島', 'フェロー諸島', 'ブルキナファソ', 'マダガスカル', 'ブルンジ', 'グアテマラ', 'ボツワナ', 'ルワンダ', 'ドミニカ共和国', 'キルギス', 'エルサルバドル', 'アンティグア・バーブーダ', 'バハマ', 'セントビンセント・グレナディーン', 'プエルトリコ', 'グアム', 'パナマ', 'キリバス', 'バルバドス', 'モルディブ', 'アルバ', 'セルビア', 'タイ王国', 'サモア', 'トリニダード・トバゴ', 'ハイチ', 'ドミニカ国', 'グレナダ', 'セントルシア', 'ナウル', '北マリアナ諸島', 'ベリーズ', 'アメリカ領ヴァージン諸島', 'ホンジュラス', 'バヌアツ', 'マーシャル諸島', 'アメリカ領サモア', 'ガーンジー', 'ジャージー', 'ニウエ', 'フィンランド', 'ブーベ島', 'オーランド諸島', 'モンテネグロ', 'ココス諸島', 'ノーフォーク島', 'クック諸島', 'トケラウ', 'クリスマス島 (オーストラリア)', 'フィリピン', 'ツバル', 'カタール', 'ナミビア', 'リビア', 'チャド', 'ガンビア', '合衆国領有小離島', '大韓民国', '南スーダン', 'ブラジル', '朝鮮民主主義人民共和国', 'ブルガリア', 'シント・マールテン', 'オーストラリア', 'ミャンマー', 'エチオピア', '香港', 'オランダ', 'ベルギー', 'スペイン', 'カナダ', 'アメリカ合衆国', '南アフリカ共和国', 'デンマーク', 'スウェーデン', 'グリーンランド', 'アイスランド', 'フランス', 'ドイツ', 'イギリス', 'ラトビア', 'ベトナム', 'パラオ', '日本', 'マン島', '台湾省 (中華人民共和国)', 'シンガポール', 'マレーシア'])"
     },
     "metadata": {},
     "execution_count": 191
    }
   ],
   "source": [
    "import re\n",
    "with gzip.open(\"jawiki-country.json.gz\", \"rt\", encoding=\"utf-8\") as fi:\n",
    "    result = dict()\n",
    "    for i,j in enumerate(fi):\n",
    "        d = dict()\n",
    "        tmp = json.loads(j)\n",
    "        ll = re.search(\"{{基礎情報 (.|\\n)+\\n}}\", tmp[\"text\"])\n",
    "        if ll is None: continue\n",
    "        ll = ll.group().split(\"\\n|\")\n",
    "        for l in ll[1:]: \n",
    "            if not \"=\" in l: continue\n",
    "            d[l.split(\"=\")[0].strip(\" \")] = l.split(\"=\")[1].strip(\" \")\n",
    "        result[tmp[\"title\"]] = d\n",
    "result.keys()\n",
    ""
   ]
  },
  {
   "cell_type": "code",
   "execution_count": 192,
   "metadata": {},
   "outputs": [
    {
     "output_type": "execute_result",
     "data": {
      "text/plain": "{'GDP/人': '13,234<ref name',\n 'GDP値': '3兆8,706億<ref name',\n 'GDP値MER': '1兆225億<ref name',\n 'GDP値元': '1京4,825兆9,440億<ref name',\n 'GDP統計年': '2018',\n 'GDP統計年MER': '2018',\n 'GDP統計年元': '2018',\n 'GDP順位': '7',\n 'GDP順位MER': '16',\n 'ISO 3166-1': 'ID / IDN',\n 'bars': '\\n{{bar percent|[[イスラム教]]|Green|87.2}}\\n{{bar percent|[[プロテスタント]]|violet|7}}\\n{{bar percent|[[カトリック]]|purple|2.9}}\\n{{bar percent|[[ヒンドゥー教]]|Orange|1.6}}\\n{{bar percent|[[仏教]]|Gold|0.72}}\\n{{bar percent|[[儒教]]|Blue|0.05}}\\n{{bar percent|その他|grey|0.5}}\\n}}',\n 'ccTLD': '[[.id]]',\n 'float': 'right',\n 'left1': '宗教',\n 'right1': '割合(%)',\n 'title': 'インドネシアの宗教<ref>{{cite web |url',\n 'titlebar': '#ddd',\n '人口値': '264,162,000<ref name',\n '人口大きさ': '1 E8',\n '人口密度値': '138',\n '人口統計年': '2018',\n '人口順位': '4',\n '位置画像': 'Indonesia (orthographic projection).svg',\n '元首等氏名': '[[ジョコ・ウィドド]]',\n '元首等肩書': '[[インドネシアの大統領一覧|大統領]]',\n '公式国名': \"'''{{Lang|id|Republik Indonesia}}'''\",\n '公用語': '[[インドネシア語]]',\n '国旗画像': 'Flag of Indonesia.svg',\n '国歌': \"[[インドネシア・ラヤ|{{lang|id|Indonesia Raya}}]]{{id icon}}<br>''偉大なるインドネシア''<br>{{center|[[ファイル:Indonesiaraya.ogg]]}}\",\n '国章リンク': '([[インドネシアの国章|国章]])',\n '国章画像': '[[ファイル:National emblem of Indonesia Garuda Pancasila.svg|100px|インドネシアの国章]]',\n '国際電話番号': '62',\n '夏時間': 'なし',\n '建国年月日': '[[オランダ]]より<br />[[1945年]][[8月17日]]<br />[[1949年]][[12月27日]]',\n '建国形態': '[[独立]]<br />&nbsp;- 宣言<br />&nbsp;- 承認',\n '日本語国名': 'インドネシア共和国',\n '時間帯': '(+7 ~ +9)',\n '最大都市': 'ジャカルタ',\n '標語': \"''{{Lang|jv|Bhinneka Tunggal lka }}''<br />（[[ジャワ語|古ジャワ語]]: 多様性の中の統一）\",\n '水面積率': '4.8%',\n '注記': \"\\n}}\\n'''インドネシア共和国'''（インドネシアきょうわこく、{{Lang-id|Republik Indonesia}}）、通称'''インドネシア'''は、[[東南アジア]]南部に位置する[[共和制]][[国家]]。首都は[[ジャワ島]]に位置する[[ジャカルタ|ジャカルタ首都特別州]]。\\n\\n5,110kmと東西に非常に長く、また世界最多の[[島嶼]]を抱える[[国家]]（[[島国]]）である。[[赤道]]にまたがる1万3,466もの大小の島により構成される<ref name\",\n '略名': 'インドネシア',\n '通貨': '[[ルピア]]',\n '通貨コード': 'IDR',\n '面積値': '1,919,440',\n '面積大きさ': '1 E12',\n '面積順位': '15',\n '首相等氏名': '（廃止）',\n '首相等肩書': '[[インドネシアの首相|首相]]',\n '首都': '[[ジャカルタ|ジャカルタ首都特別州]]'}"
     },
     "metadata": {},
     "execution_count": 192
    }
   ],
   "source": [
    "result[\"インドネシア\"]"
   ]
  },
  {
   "cell_type": "markdown",
   "metadata": {},
   "source": [
    "## 26. 強調マークアップの除去\n",
    "\n",
    "25の処理時に，テンプレートの値からMediaWikiの強調マークアップ（弱い強調，強調，強い強調のすべて）を除去してテキストに変換せよ（参考: マークアップ早見表）"
   ]
  },
  {
   "cell_type": "code",
   "execution_count": 195,
   "metadata": {},
   "outputs": [
    {
     "output_type": "execute_result",
     "data": {
      "text/plain": "'{{Lang|id|Republik Indonesia}}'"
     },
     "metadata": {},
     "execution_count": 195
    }
   ],
   "source": [
    "import re\n",
    "with gzip.open(\"jawiki-country.json.gz\", \"rt\", encoding=\"utf-8\") as fi:\n",
    "    result = dict()\n",
    "    for i,j in enumerate(fi):\n",
    "        d = dict()\n",
    "        tmp = json.loads(j)\n",
    "        ll = re.search(\"{{基礎情報 (.|\\n)+\\n}}\", tmp[\"text\"])\n",
    "        if ll is None: continue\n",
    "        ll = ll.group().split(\"\\n|\")\n",
    "        for l in ll[1:]: \n",
    "            if not \"=\" in l: continue\n",
    "            d[l.split(\"=\")[0].strip(\" \")] = re.sub(\"(''''')|(''')|('')\", \"\", l.split(\"=\")[1].strip(\" \"))\n",
    "        result[tmp[\"title\"]] = d\n",
    "result[\"インドネシア\"][\"公式国名\"]"
   ]
  },
  {
   "cell_type": "markdown",
   "metadata": {},
   "source": [
    "## 27. 内部リンクの除去\n",
    "\n",
    "26の処理に加えて，テンプレートの値からMediaWikiの内部リンクマークアップを除去し，テキストに変換せよ（参考: マークアップ早見表）．"
   ]
  },
  {
   "cell_type": "code",
   "execution_count": 271,
   "metadata": {},
   "outputs": [
    {
     "output_type": "execute_result",
     "data": {
      "text/plain": "'\\n}}\\nインドネシア共和国（インドネシアきょうわこく、{{Lang-id|Republik Indonesia}}）、通称インドネシアは、東南アジア南部に位置する共和制国家。首都はジャワ島に位置するジャカルタ。\\n\\n5,110kmと東西に非常に長く、また世界最多の島嶼を抱える国家（島国）である。赤道にまたがる1万3,466もの大小の島により構成される<ref name'"
     },
     "metadata": {},
     "execution_count": 271
    }
   ],
   "source": [
    "import re\n",
    "with gzip.open(\"jawiki-country.json.gz\", \"rt\", encoding=\"utf-8\") as fi:\n",
    "    result = dict()\n",
    "    for i,j in enumerate(fi):\n",
    "        d = dict()\n",
    "        tmp = json.loads(j)\n",
    "        ll = re.search(\"{{基礎情報 (.|\\n)+\\n}}\", tmp[\"text\"])\n",
    "        if ll is None: continue\n",
    "        ll = ll.group().split(\"\\n|\")\n",
    "        for l in ll[1:]: \n",
    "            if not \"=\" in l: continue\n",
    "            cont = l.split(\"=\")[1].strip(\" \")\n",
    "            cont = re.sub(\"(''''')|(''')|('')\", \"\", cont) # 強調マークアップを除去\n",
    "            # 内部リンクの除去\n",
    "            for i in re.findall(\"\\[{2}[\\w|]+\\]{2}\", cont): \n",
    "                cont = cont.replace(i, i.strip(\"[]\").split(\"|\")[0])\n",
    "            d[l.split(\"=\")[0].strip(\" \")] = cont\n",
    "        result[tmp[\"title\"]] = d\n",
    "result[\"インドネシア\"][\"注記\"]"
   ]
  },
  {
   "cell_type": "code",
   "execution_count": 220,
   "metadata": {},
   "outputs": [
    {
     "output_type": "execute_result",
     "data": {
      "text/plain": "'ア]'"
     },
     "metadata": {},
     "execution_count": 220
    }
   ],
   "source": []
  },
  {
   "cell_type": "code",
   "execution_count": null,
   "metadata": {},
   "outputs": [],
   "source": []
  }
 ]
}